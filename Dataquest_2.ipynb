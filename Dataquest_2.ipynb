{
 "cells": [
  {
   "cell_type": "code",
   "execution_count": 1,
   "metadata": {},
   "outputs": [],
   "source": [
    "import pandas as pd\n",
    "train = pd.read_csv(r\"C:\\Users\\YOGESH KULKARNI\\Downloads\\train.csv\")"
   ]
  },
  {
   "cell_type": "code",
   "execution_count": 2,
   "metadata": {},
   "outputs": [
    {
     "data": {
      "text/html": [
       "<div>\n",
       "<style scoped>\n",
       "    .dataframe tbody tr th:only-of-type {\n",
       "        vertical-align: middle;\n",
       "    }\n",
       "\n",
       "    .dataframe tbody tr th {\n",
       "        vertical-align: top;\n",
       "    }\n",
       "\n",
       "    .dataframe thead th {\n",
       "        text-align: right;\n",
       "    }\n",
       "</style>\n",
       "<table border=\"1\" class=\"dataframe\">\n",
       "  <thead>\n",
       "    <tr style=\"text-align: right;\">\n",
       "      <th></th>\n",
       "      <th>id</th>\n",
       "      <th>Gender</th>\n",
       "      <th>Country</th>\n",
       "      <th>Age</th>\n",
       "      <th>Income</th>\n",
       "      <th>Marital-Status</th>\n",
       "      <th>workclass</th>\n",
       "      <th>credit-score</th>\n",
       "      <th>Learning</th>\n",
       "      <th>Tenure</th>\n",
       "      <th>Balance</th>\n",
       "      <th>Products</th>\n",
       "      <th>Education</th>\n",
       "      <th>Occupation</th>\n",
       "      <th>Target</th>\n",
       "    </tr>\n",
       "  </thead>\n",
       "  <tbody>\n",
       "    <tr>\n",
       "      <th>0</th>\n",
       "      <td>0</td>\n",
       "      <td>Female</td>\n",
       "      <td>Australia</td>\n",
       "      <td>53.0</td>\n",
       "      <td>20000.0</td>\n",
       "      <td>Separated</td>\n",
       "      <td>Local-gov</td>\n",
       "      <td>18396.0</td>\n",
       "      <td>8.0</td>\n",
       "      <td>7.0</td>\n",
       "      <td>100000.0</td>\n",
       "      <td>6.0</td>\n",
       "      <td>Masters</td>\n",
       "      <td>Adm-clerical</td>\n",
       "      <td>0</td>\n",
       "    </tr>\n",
       "    <tr>\n",
       "      <th>1</th>\n",
       "      <td>1</td>\n",
       "      <td>Female</td>\n",
       "      <td>Canada</td>\n",
       "      <td>28.0</td>\n",
       "      <td>100000.0</td>\n",
       "      <td>Separated</td>\n",
       "      <td>Private</td>\n",
       "      <td>10886.0</td>\n",
       "      <td>4.0</td>\n",
       "      <td>4.0</td>\n",
       "      <td>101300.0</td>\n",
       "      <td>5.0</td>\n",
       "      <td>HS-Grad</td>\n",
       "      <td>Prof-specialty</td>\n",
       "      <td>0</td>\n",
       "    </tr>\n",
       "    <tr>\n",
       "      <th>2</th>\n",
       "      <td>2</td>\n",
       "      <td>Female</td>\n",
       "      <td>Australia</td>\n",
       "      <td>35.0</td>\n",
       "      <td>200000.0</td>\n",
       "      <td>Never-married</td>\n",
       "      <td>Private</td>\n",
       "      <td>71561.0</td>\n",
       "      <td>4.0</td>\n",
       "      <td>4.0</td>\n",
       "      <td>104000.0</td>\n",
       "      <td>3.0</td>\n",
       "      <td>HS-Grad</td>\n",
       "      <td>Prof-specialty</td>\n",
       "      <td>0</td>\n",
       "    </tr>\n",
       "    <tr>\n",
       "      <th>3</th>\n",
       "      <td>3</td>\n",
       "      <td>Female</td>\n",
       "      <td>Canada</td>\n",
       "      <td>43.0</td>\n",
       "      <td>50000.0</td>\n",
       "      <td>Never-married</td>\n",
       "      <td>Private</td>\n",
       "      <td>49390.0</td>\n",
       "      <td>4.0</td>\n",
       "      <td>4.0</td>\n",
       "      <td>102449.0</td>\n",
       "      <td>3.0</td>\n",
       "      <td>Masters</td>\n",
       "      <td>Prof-specialty</td>\n",
       "      <td>0</td>\n",
       "    </tr>\n",
       "    <tr>\n",
       "      <th>4</th>\n",
       "      <td>4</td>\n",
       "      <td>Female</td>\n",
       "      <td>Russia</td>\n",
       "      <td>29.0</td>\n",
       "      <td>100000.0</td>\n",
       "      <td>Never-married</td>\n",
       "      <td>Private</td>\n",
       "      <td>99302.0</td>\n",
       "      <td>4.0</td>\n",
       "      <td>4.0</td>\n",
       "      <td>105712.0</td>\n",
       "      <td>3.0</td>\n",
       "      <td>HS-Grad</td>\n",
       "      <td>Prof-specialty</td>\n",
       "      <td>0</td>\n",
       "    </tr>\n",
       "    <tr>\n",
       "      <th>...</th>\n",
       "      <td>...</td>\n",
       "      <td>...</td>\n",
       "      <td>...</td>\n",
       "      <td>...</td>\n",
       "      <td>...</td>\n",
       "      <td>...</td>\n",
       "      <td>...</td>\n",
       "      <td>...</td>\n",
       "      <td>...</td>\n",
       "      <td>...</td>\n",
       "      <td>...</td>\n",
       "      <td>...</td>\n",
       "      <td>...</td>\n",
       "      <td>...</td>\n",
       "      <td>...</td>\n",
       "    </tr>\n",
       "    <tr>\n",
       "      <th>75</th>\n",
       "      <td>75</td>\n",
       "      <td>Female</td>\n",
       "      <td>Canada</td>\n",
       "      <td>34.0</td>\n",
       "      <td>150000.0</td>\n",
       "      <td>Never-married</td>\n",
       "      <td>Daily-wages</td>\n",
       "      <td>0.0</td>\n",
       "      <td>5.0</td>\n",
       "      <td>2.0</td>\n",
       "      <td>100000.0</td>\n",
       "      <td>2.0</td>\n",
       "      <td>Some-college</td>\n",
       "      <td>Craft-repair</td>\n",
       "      <td>0</td>\n",
       "    </tr>\n",
       "    <tr>\n",
       "      <th>76</th>\n",
       "      <td>76</td>\n",
       "      <td>Female</td>\n",
       "      <td>Australia</td>\n",
       "      <td>33.0</td>\n",
       "      <td>260000.0</td>\n",
       "      <td>Never-married</td>\n",
       "      <td>Private</td>\n",
       "      <td>112501.0</td>\n",
       "      <td>4.0</td>\n",
       "      <td>4.0</td>\n",
       "      <td>104000.0</td>\n",
       "      <td>3.0</td>\n",
       "      <td>HS-Grad</td>\n",
       "      <td>Prof-specialty</td>\n",
       "      <td>0</td>\n",
       "    </tr>\n",
       "    <tr>\n",
       "      <th>77</th>\n",
       "      <td>77</td>\n",
       "      <td>Female</td>\n",
       "      <td>Australia</td>\n",
       "      <td>41.0</td>\n",
       "      <td>290000.0</td>\n",
       "      <td>Separated</td>\n",
       "      <td>Private</td>\n",
       "      <td>286391.0</td>\n",
       "      <td>4.0</td>\n",
       "      <td>4.0</td>\n",
       "      <td>110000.0</td>\n",
       "      <td>3.0</td>\n",
       "      <td>HS-Grad</td>\n",
       "      <td>Prof-specialty</td>\n",
       "      <td>0</td>\n",
       "    </tr>\n",
       "    <tr>\n",
       "      <th>78</th>\n",
       "      <td>78</td>\n",
       "      <td>Female</td>\n",
       "      <td>France</td>\n",
       "      <td>31.0</td>\n",
       "      <td>300000.0</td>\n",
       "      <td>Separated</td>\n",
       "      <td>Private</td>\n",
       "      <td>92235.0</td>\n",
       "      <td>4.0</td>\n",
       "      <td>4.0</td>\n",
       "      <td>104505.0</td>\n",
       "      <td>3.0</td>\n",
       "      <td>HS-Grad</td>\n",
       "      <td>Prof-specialty</td>\n",
       "      <td>0</td>\n",
       "    </tr>\n",
       "    <tr>\n",
       "      <th>79</th>\n",
       "      <td>79</td>\n",
       "      <td>Female</td>\n",
       "      <td>Australia</td>\n",
       "      <td>45.0</td>\n",
       "      <td>250000.0</td>\n",
       "      <td>Never-married</td>\n",
       "      <td>Daily-wages</td>\n",
       "      <td>2218.0</td>\n",
       "      <td>2.0</td>\n",
       "      <td>2.0</td>\n",
       "      <td>104940.0</td>\n",
       "      <td>1.0</td>\n",
       "      <td>Bachelors</td>\n",
       "      <td>Craft-repair</td>\n",
       "      <td>0</td>\n",
       "    </tr>\n",
       "  </tbody>\n",
       "</table>\n",
       "<p>80 rows × 15 columns</p>\n",
       "</div>"
      ],
      "text/plain": [
       "    id  Gender    Country   Age    Income Marital-Status    workclass  \\\n",
       "0    0  Female  Australia  53.0   20000.0      Separated    Local-gov   \n",
       "1    1  Female     Canada  28.0  100000.0      Separated      Private   \n",
       "2    2  Female  Australia  35.0  200000.0  Never-married      Private   \n",
       "3    3  Female     Canada  43.0   50000.0  Never-married      Private   \n",
       "4    4  Female     Russia  29.0  100000.0  Never-married      Private   \n",
       "..  ..     ...        ...   ...       ...            ...          ...   \n",
       "75  75  Female     Canada  34.0  150000.0  Never-married  Daily-wages   \n",
       "76  76  Female  Australia  33.0  260000.0  Never-married      Private   \n",
       "77  77  Female  Australia  41.0  290000.0      Separated      Private   \n",
       "78  78  Female     France  31.0  300000.0      Separated      Private   \n",
       "79  79  Female  Australia  45.0  250000.0  Never-married  Daily-wages   \n",
       "\n",
       "    credit-score  Learning  Tenure   Balance  Products     Education  \\\n",
       "0        18396.0       8.0     7.0  100000.0       6.0       Masters   \n",
       "1        10886.0       4.0     4.0  101300.0       5.0       HS-Grad   \n",
       "2        71561.0       4.0     4.0  104000.0       3.0       HS-Grad   \n",
       "3        49390.0       4.0     4.0  102449.0       3.0       Masters   \n",
       "4        99302.0       4.0     4.0  105712.0       3.0       HS-Grad   \n",
       "..           ...       ...     ...       ...       ...           ...   \n",
       "75           0.0       5.0     2.0  100000.0       2.0  Some-college   \n",
       "76      112501.0       4.0     4.0  104000.0       3.0       HS-Grad   \n",
       "77      286391.0       4.0     4.0  110000.0       3.0       HS-Grad   \n",
       "78       92235.0       4.0     4.0  104505.0       3.0       HS-Grad   \n",
       "79        2218.0       2.0     2.0  104940.0       1.0     Bachelors   \n",
       "\n",
       "        Occupation  Target  \n",
       "0     Adm-clerical       0  \n",
       "1   Prof-specialty       0  \n",
       "2   Prof-specialty       0  \n",
       "3   Prof-specialty       0  \n",
       "4   Prof-specialty       0  \n",
       "..             ...     ...  \n",
       "75    Craft-repair       0  \n",
       "76  Prof-specialty       0  \n",
       "77  Prof-specialty       0  \n",
       "78  Prof-specialty       0  \n",
       "79    Craft-repair       0  \n",
       "\n",
       "[80 rows x 15 columns]"
      ]
     },
     "execution_count": 2,
     "metadata": {},
     "output_type": "execute_result"
    }
   ],
   "source": [
    "train.head(80)"
   ]
  },
  {
   "cell_type": "code",
   "execution_count": 3,
   "metadata": {},
   "outputs": [],
   "source": [
    "train_labels = train['Target']"
   ]
  },
  {
   "cell_type": "code",
   "execution_count": 4,
   "metadata": {},
   "outputs": [],
   "source": [
    "train = train.drop(columns = ['Target'])"
   ]
  },
  {
   "cell_type": "code",
   "execution_count": 5,
   "metadata": {},
   "outputs": [],
   "source": [
    "Id = train['id']"
   ]
  },
  {
   "cell_type": "code",
   "execution_count": 6,
   "metadata": {},
   "outputs": [
    {
     "data": {
      "text/plain": [
       "0            0\n",
       "1            1\n",
       "2            2\n",
       "3            3\n",
       "4            4\n",
       "         ...  \n",
       "13995    14022\n",
       "13996    14023\n",
       "13997    14024\n",
       "13998    14025\n",
       "13999    14026\n",
       "Name: id, Length: 14000, dtype: int64"
      ]
     },
     "execution_count": 6,
     "metadata": {},
     "output_type": "execute_result"
    }
   ],
   "source": [
    "Id\n"
   ]
  },
  {
   "cell_type": "code",
   "execution_count": 7,
   "metadata": {},
   "outputs": [],
   "source": [
    "train = train.drop(columns = ['id'])"
   ]
  },
  {
   "cell_type": "code",
   "execution_count": 8,
   "metadata": {},
   "outputs": [
    {
     "data": {
      "text/html": [
       "<div>\n",
       "<style scoped>\n",
       "    .dataframe tbody tr th:only-of-type {\n",
       "        vertical-align: middle;\n",
       "    }\n",
       "\n",
       "    .dataframe tbody tr th {\n",
       "        vertical-align: top;\n",
       "    }\n",
       "\n",
       "    .dataframe thead th {\n",
       "        text-align: right;\n",
       "    }\n",
       "</style>\n",
       "<table border=\"1\" class=\"dataframe\">\n",
       "  <thead>\n",
       "    <tr style=\"text-align: right;\">\n",
       "      <th></th>\n",
       "      <th>Gender</th>\n",
       "      <th>Country</th>\n",
       "      <th>Age</th>\n",
       "      <th>Income</th>\n",
       "      <th>Marital-Status</th>\n",
       "      <th>workclass</th>\n",
       "      <th>credit-score</th>\n",
       "      <th>Learning</th>\n",
       "      <th>Tenure</th>\n",
       "      <th>Balance</th>\n",
       "      <th>Products</th>\n",
       "      <th>Education</th>\n",
       "      <th>Occupation</th>\n",
       "    </tr>\n",
       "  </thead>\n",
       "  <tbody>\n",
       "    <tr>\n",
       "      <th>0</th>\n",
       "      <td>Female</td>\n",
       "      <td>Australia</td>\n",
       "      <td>53.0</td>\n",
       "      <td>20000.0</td>\n",
       "      <td>Separated</td>\n",
       "      <td>Local-gov</td>\n",
       "      <td>18396.0</td>\n",
       "      <td>8.0</td>\n",
       "      <td>7.0</td>\n",
       "      <td>100000.0</td>\n",
       "      <td>6.0</td>\n",
       "      <td>Masters</td>\n",
       "      <td>Adm-clerical</td>\n",
       "    </tr>\n",
       "    <tr>\n",
       "      <th>1</th>\n",
       "      <td>Female</td>\n",
       "      <td>Canada</td>\n",
       "      <td>28.0</td>\n",
       "      <td>100000.0</td>\n",
       "      <td>Separated</td>\n",
       "      <td>Private</td>\n",
       "      <td>10886.0</td>\n",
       "      <td>4.0</td>\n",
       "      <td>4.0</td>\n",
       "      <td>101300.0</td>\n",
       "      <td>5.0</td>\n",
       "      <td>HS-Grad</td>\n",
       "      <td>Prof-specialty</td>\n",
       "    </tr>\n",
       "    <tr>\n",
       "      <th>2</th>\n",
       "      <td>Female</td>\n",
       "      <td>Australia</td>\n",
       "      <td>35.0</td>\n",
       "      <td>200000.0</td>\n",
       "      <td>Never-married</td>\n",
       "      <td>Private</td>\n",
       "      <td>71561.0</td>\n",
       "      <td>4.0</td>\n",
       "      <td>4.0</td>\n",
       "      <td>104000.0</td>\n",
       "      <td>3.0</td>\n",
       "      <td>HS-Grad</td>\n",
       "      <td>Prof-specialty</td>\n",
       "    </tr>\n",
       "    <tr>\n",
       "      <th>3</th>\n",
       "      <td>Female</td>\n",
       "      <td>Canada</td>\n",
       "      <td>43.0</td>\n",
       "      <td>50000.0</td>\n",
       "      <td>Never-married</td>\n",
       "      <td>Private</td>\n",
       "      <td>49390.0</td>\n",
       "      <td>4.0</td>\n",
       "      <td>4.0</td>\n",
       "      <td>102449.0</td>\n",
       "      <td>3.0</td>\n",
       "      <td>Masters</td>\n",
       "      <td>Prof-specialty</td>\n",
       "    </tr>\n",
       "    <tr>\n",
       "      <th>4</th>\n",
       "      <td>Female</td>\n",
       "      <td>Russia</td>\n",
       "      <td>29.0</td>\n",
       "      <td>100000.0</td>\n",
       "      <td>Never-married</td>\n",
       "      <td>Private</td>\n",
       "      <td>99302.0</td>\n",
       "      <td>4.0</td>\n",
       "      <td>4.0</td>\n",
       "      <td>105712.0</td>\n",
       "      <td>3.0</td>\n",
       "      <td>HS-Grad</td>\n",
       "      <td>Prof-specialty</td>\n",
       "    </tr>\n",
       "    <tr>\n",
       "      <th>5</th>\n",
       "      <td>Male</td>\n",
       "      <td>Australia</td>\n",
       "      <td>44.0</td>\n",
       "      <td>180000.0</td>\n",
       "      <td>Never-married</td>\n",
       "      <td>Without-pay</td>\n",
       "      <td>1110.0</td>\n",
       "      <td>3.0</td>\n",
       "      <td>3.0</td>\n",
       "      <td>101110.0</td>\n",
       "      <td>2.0</td>\n",
       "      <td>Some-college</td>\n",
       "      <td>Exec-managerial</td>\n",
       "    </tr>\n",
       "    <tr>\n",
       "      <th>6</th>\n",
       "      <td>Female</td>\n",
       "      <td>Canada</td>\n",
       "      <td>30.0</td>\n",
       "      <td>280000.0</td>\n",
       "      <td>Separated</td>\n",
       "      <td>Daily-wages</td>\n",
       "      <td>2946.0</td>\n",
       "      <td>2.0</td>\n",
       "      <td>2.0</td>\n",
       "      <td>103326.0</td>\n",
       "      <td>1.0</td>\n",
       "      <td>Bachelors</td>\n",
       "      <td>Craft-repair</td>\n",
       "    </tr>\n",
       "    <tr>\n",
       "      <th>7</th>\n",
       "      <td>Female</td>\n",
       "      <td>Australia</td>\n",
       "      <td>43.0</td>\n",
       "      <td>160000.0</td>\n",
       "      <td>Separated</td>\n",
       "      <td>Daily-wages</td>\n",
       "      <td>0.0</td>\n",
       "      <td>5.0</td>\n",
       "      <td>2.0</td>\n",
       "      <td>100000.0</td>\n",
       "      <td>1.0</td>\n",
       "      <td>Bachelors</td>\n",
       "      <td>Exec-managerial</td>\n",
       "    </tr>\n",
       "    <tr>\n",
       "      <th>8</th>\n",
       "      <td>Female</td>\n",
       "      <td>Canada</td>\n",
       "      <td>27.0</td>\n",
       "      <td>310000.0</td>\n",
       "      <td>Separated</td>\n",
       "      <td>Without-pay</td>\n",
       "      <td>833.0</td>\n",
       "      <td>3.0</td>\n",
       "      <td>3.0</td>\n",
       "      <td>100323.0</td>\n",
       "      <td>2.0</td>\n",
       "      <td>Some-college</td>\n",
       "      <td>Exec-managerial</td>\n",
       "    </tr>\n",
       "    <tr>\n",
       "      <th>9</th>\n",
       "      <td>Female</td>\n",
       "      <td>Australia</td>\n",
       "      <td>40.0</td>\n",
       "      <td>420000.0</td>\n",
       "      <td>Never-married</td>\n",
       "      <td>Private</td>\n",
       "      <td>33561.0</td>\n",
       "      <td>4.0</td>\n",
       "      <td>4.0</td>\n",
       "      <td>105900.0</td>\n",
       "      <td>5.0</td>\n",
       "      <td>HS-Grad</td>\n",
       "      <td>Prof-specialty</td>\n",
       "    </tr>\n",
       "    <tr>\n",
       "      <th>10</th>\n",
       "      <td>Female</td>\n",
       "      <td>Canada</td>\n",
       "      <td>35.0</td>\n",
       "      <td>260000.0</td>\n",
       "      <td>Never-married</td>\n",
       "      <td>Self-emp-inc</td>\n",
       "      <td>1013.0</td>\n",
       "      <td>6.0</td>\n",
       "      <td>2.0</td>\n",
       "      <td>100000.0</td>\n",
       "      <td>2.0</td>\n",
       "      <td>HS-Grad</td>\n",
       "      <td>Prof-specialty</td>\n",
       "    </tr>\n",
       "    <tr>\n",
       "      <th>11</th>\n",
       "      <td>Male</td>\n",
       "      <td>Australia</td>\n",
       "      <td>32.0</td>\n",
       "      <td>200000.0</td>\n",
       "      <td>Separated</td>\n",
       "      <td>Self-emp-inc</td>\n",
       "      <td>88808.0</td>\n",
       "      <td>6.0</td>\n",
       "      <td>6.0</td>\n",
       "      <td>100000.0</td>\n",
       "      <td>NaN</td>\n",
       "      <td>Masters</td>\n",
       "      <td>Adm-clerical</td>\n",
       "    </tr>\n",
       "    <tr>\n",
       "      <th>12</th>\n",
       "      <td>Female</td>\n",
       "      <td>Canada</td>\n",
       "      <td>30.0</td>\n",
       "      <td>70000.0</td>\n",
       "      <td>Separated</td>\n",
       "      <td>Daily-wages</td>\n",
       "      <td>-25.0</td>\n",
       "      <td>NaN</td>\n",
       "      <td>2.0</td>\n",
       "      <td>100000.0</td>\n",
       "      <td>1.0</td>\n",
       "      <td>Bachelors</td>\n",
       "      <td>Exec-managerial</td>\n",
       "    </tr>\n",
       "    <tr>\n",
       "      <th>13</th>\n",
       "      <td>Female</td>\n",
       "      <td>Australia</td>\n",
       "      <td>23.0</td>\n",
       "      <td>10000.0</td>\n",
       "      <td>Separated</td>\n",
       "      <td>Self-emp-not-inc</td>\n",
       "      <td>4205.0</td>\n",
       "      <td>3.0</td>\n",
       "      <td>8.0</td>\n",
       "      <td>100000.0</td>\n",
       "      <td>6.0</td>\n",
       "      <td>Masters</td>\n",
       "      <td>Adm-clerical</td>\n",
       "    </tr>\n",
       "    <tr>\n",
       "      <th>14</th>\n",
       "      <td>Female</td>\n",
       "      <td>Australia</td>\n",
       "      <td>41.0</td>\n",
       "      <td>180000.0</td>\n",
       "      <td>Never-married</td>\n",
       "      <td>Private</td>\n",
       "      <td>184650.0</td>\n",
       "      <td>4.0</td>\n",
       "      <td>2.0</td>\n",
       "      <td>100000.0</td>\n",
       "      <td>1.0</td>\n",
       "      <td>Bachelors</td>\n",
       "      <td>Craft-repair</td>\n",
       "    </tr>\n",
       "    <tr>\n",
       "      <th>15</th>\n",
       "      <td>Female</td>\n",
       "      <td>France</td>\n",
       "      <td>24.0</td>\n",
       "      <td>70000.0</td>\n",
       "      <td>Separated</td>\n",
       "      <td>Private</td>\n",
       "      <td>5633.0</td>\n",
       "      <td>4.0</td>\n",
       "      <td>4.0</td>\n",
       "      <td>101114.0</td>\n",
       "      <td>3.0</td>\n",
       "      <td>HS-Grad</td>\n",
       "      <td>Prof-specialty</td>\n",
       "    </tr>\n",
       "    <tr>\n",
       "      <th>16</th>\n",
       "      <td>Female</td>\n",
       "      <td>Canada</td>\n",
       "      <td>32.0</td>\n",
       "      <td>220000.0</td>\n",
       "      <td>Separated</td>\n",
       "      <td>Daily-wages</td>\n",
       "      <td>21332.0</td>\n",
       "      <td>2.0</td>\n",
       "      <td>2.0</td>\n",
       "      <td>128567.0</td>\n",
       "      <td>1.0</td>\n",
       "      <td>Bachelors</td>\n",
       "      <td>Craft-repair</td>\n",
       "    </tr>\n",
       "    <tr>\n",
       "      <th>17</th>\n",
       "      <td>Female</td>\n",
       "      <td>Canada</td>\n",
       "      <td>34.0</td>\n",
       "      <td>50000.0</td>\n",
       "      <td>Separated</td>\n",
       "      <td>Without-pay</td>\n",
       "      <td>1884.0</td>\n",
       "      <td>3.0</td>\n",
       "      <td>3.0</td>\n",
       "      <td>101077.0</td>\n",
       "      <td>NaN</td>\n",
       "      <td>Some-college</td>\n",
       "      <td>Exec-managerial</td>\n",
       "    </tr>\n",
       "    <tr>\n",
       "      <th>18</th>\n",
       "      <td>Female</td>\n",
       "      <td>France</td>\n",
       "      <td>46.0</td>\n",
       "      <td>370000.0</td>\n",
       "      <td>Never-married</td>\n",
       "      <td>Daily-wages</td>\n",
       "      <td>6370.0</td>\n",
       "      <td>2.0</td>\n",
       "      <td>2.0</td>\n",
       "      <td>102120.0</td>\n",
       "      <td>1.0</td>\n",
       "      <td>Bachelors</td>\n",
       "      <td>Craft-repair</td>\n",
       "    </tr>\n",
       "    <tr>\n",
       "      <th>19</th>\n",
       "      <td>Male</td>\n",
       "      <td>Canada</td>\n",
       "      <td>40.0</td>\n",
       "      <td>460000.0</td>\n",
       "      <td>Never-married</td>\n",
       "      <td>Private</td>\n",
       "      <td>235388.0</td>\n",
       "      <td>4.0</td>\n",
       "      <td>4.0</td>\n",
       "      <td>108000.0</td>\n",
       "      <td>3.0</td>\n",
       "      <td>HS-Grad</td>\n",
       "      <td>Prof-specialty</td>\n",
       "    </tr>\n",
       "    <tr>\n",
       "      <th>20</th>\n",
       "      <td>Female</td>\n",
       "      <td>France</td>\n",
       "      <td>40.0</td>\n",
       "      <td>50000.0</td>\n",
       "      <td>Never-married</td>\n",
       "      <td>Private</td>\n",
       "      <td>31297.0</td>\n",
       "      <td>4.0</td>\n",
       "      <td>4.0</td>\n",
       "      <td>101476.0</td>\n",
       "      <td>3.0</td>\n",
       "      <td>HS-Grad</td>\n",
       "      <td>Prof-specialty</td>\n",
       "    </tr>\n",
       "    <tr>\n",
       "      <th>21</th>\n",
       "      <td>Male</td>\n",
       "      <td>Canada</td>\n",
       "      <td>52.0</td>\n",
       "      <td>200000.0</td>\n",
       "      <td>Never-married</td>\n",
       "      <td>Without-pay</td>\n",
       "      <td>2343.0</td>\n",
       "      <td>3.0</td>\n",
       "      <td>3.0</td>\n",
       "      <td>103943.0</td>\n",
       "      <td>2.0</td>\n",
       "      <td>Some-college</td>\n",
       "      <td>Exec-managerial</td>\n",
       "    </tr>\n",
       "    <tr>\n",
       "      <th>22</th>\n",
       "      <td>Male</td>\n",
       "      <td>Canada</td>\n",
       "      <td>44.0</td>\n",
       "      <td>100000.0</td>\n",
       "      <td>Never-married</td>\n",
       "      <td>Private</td>\n",
       "      <td>37222.0</td>\n",
       "      <td>4.0</td>\n",
       "      <td>4.0</td>\n",
       "      <td>102000.0</td>\n",
       "      <td>3.0</td>\n",
       "      <td>HS-Grad</td>\n",
       "      <td>Prof-specialty</td>\n",
       "    </tr>\n",
       "    <tr>\n",
       "      <th>23</th>\n",
       "      <td>Male</td>\n",
       "      <td>Australia</td>\n",
       "      <td>28.0</td>\n",
       "      <td>200000.0</td>\n",
       "      <td>Separated</td>\n",
       "      <td>Private</td>\n",
       "      <td>162439.0</td>\n",
       "      <td>4.0</td>\n",
       "      <td>4.0</td>\n",
       "      <td>104000.0</td>\n",
       "      <td>3.0</td>\n",
       "      <td>HS-Grad</td>\n",
       "      <td>Prof-specialty</td>\n",
       "    </tr>\n",
       "    <tr>\n",
       "      <th>24</th>\n",
       "      <td>Female</td>\n",
       "      <td>France</td>\n",
       "      <td>46.0</td>\n",
       "      <td>40000.0</td>\n",
       "      <td>Never-married</td>\n",
       "      <td>Without-pay</td>\n",
       "      <td>50.0</td>\n",
       "      <td>NaN</td>\n",
       "      <td>6.0</td>\n",
       "      <td>101800.0</td>\n",
       "      <td>3.0</td>\n",
       "      <td>Some-college</td>\n",
       "      <td>Exec-managerial</td>\n",
       "    </tr>\n",
       "    <tr>\n",
       "      <th>25</th>\n",
       "      <td>Female</td>\n",
       "      <td>Canada</td>\n",
       "      <td>31.0</td>\n",
       "      <td>420000.0</td>\n",
       "      <td>Separated</td>\n",
       "      <td>Private</td>\n",
       "      <td>127901.0</td>\n",
       "      <td>4.0</td>\n",
       "      <td>4.0</td>\n",
       "      <td>103900.0</td>\n",
       "      <td>NaN</td>\n",
       "      <td>Some-college</td>\n",
       "      <td>Prof-specialty</td>\n",
       "    </tr>\n",
       "    <tr>\n",
       "      <th>26</th>\n",
       "      <td>Female</td>\n",
       "      <td>Australia</td>\n",
       "      <td>39.0</td>\n",
       "      <td>400000.0</td>\n",
       "      <td>Separated</td>\n",
       "      <td>Daily-wages</td>\n",
       "      <td>0.0</td>\n",
       "      <td>5.0</td>\n",
       "      <td>2.0</td>\n",
       "      <td>100000.0</td>\n",
       "      <td>1.0</td>\n",
       "      <td>Bachelors</td>\n",
       "      <td>Craft-repair</td>\n",
       "    </tr>\n",
       "    <tr>\n",
       "      <th>27</th>\n",
       "      <td>Female</td>\n",
       "      <td>Australia</td>\n",
       "      <td>37.0</td>\n",
       "      <td>480000.0</td>\n",
       "      <td>Never-married</td>\n",
       "      <td>Without-pay</td>\n",
       "      <td>5269.0</td>\n",
       "      <td>3.0</td>\n",
       "      <td>3.0</td>\n",
       "      <td>102217.0</td>\n",
       "      <td>2.0</td>\n",
       "      <td>Some-college</td>\n",
       "      <td>Exec-managerial</td>\n",
       "    </tr>\n",
       "    <tr>\n",
       "      <th>28</th>\n",
       "      <td>Female</td>\n",
       "      <td>Germany</td>\n",
       "      <td>39.0</td>\n",
       "      <td>190000.0</td>\n",
       "      <td>Separated</td>\n",
       "      <td>Private</td>\n",
       "      <td>109023.0</td>\n",
       "      <td>4.0</td>\n",
       "      <td>4.0</td>\n",
       "      <td>104000.0</td>\n",
       "      <td>3.0</td>\n",
       "      <td>HS-Grad</td>\n",
       "      <td>Prof-specialty</td>\n",
       "    </tr>\n",
       "    <tr>\n",
       "      <th>29</th>\n",
       "      <td>Female</td>\n",
       "      <td>Canada</td>\n",
       "      <td>39.0</td>\n",
       "      <td>500000.0</td>\n",
       "      <td>Separated</td>\n",
       "      <td>Daily-wages</td>\n",
       "      <td>1950.0</td>\n",
       "      <td>2.0</td>\n",
       "      <td>2.0</td>\n",
       "      <td>102900.0</td>\n",
       "      <td>2.0</td>\n",
       "      <td>HS-Grad</td>\n",
       "      <td>Exec-managerial</td>\n",
       "    </tr>\n",
       "  </tbody>\n",
       "</table>\n",
       "</div>"
      ],
      "text/plain": [
       "    Gender    Country   Age    Income Marital-Status         workclass  \\\n",
       "0   Female  Australia  53.0   20000.0      Separated         Local-gov   \n",
       "1   Female     Canada  28.0  100000.0      Separated           Private   \n",
       "2   Female  Australia  35.0  200000.0  Never-married           Private   \n",
       "3   Female     Canada  43.0   50000.0  Never-married           Private   \n",
       "4   Female     Russia  29.0  100000.0  Never-married           Private   \n",
       "5     Male  Australia  44.0  180000.0  Never-married       Without-pay   \n",
       "6   Female     Canada  30.0  280000.0      Separated       Daily-wages   \n",
       "7   Female  Australia  43.0  160000.0      Separated       Daily-wages   \n",
       "8   Female     Canada  27.0  310000.0      Separated       Without-pay   \n",
       "9   Female  Australia  40.0  420000.0  Never-married           Private   \n",
       "10  Female     Canada  35.0  260000.0  Never-married      Self-emp-inc   \n",
       "11    Male  Australia  32.0  200000.0      Separated      Self-emp-inc   \n",
       "12  Female     Canada  30.0   70000.0      Separated       Daily-wages   \n",
       "13  Female  Australia  23.0   10000.0      Separated  Self-emp-not-inc   \n",
       "14  Female  Australia  41.0  180000.0  Never-married           Private   \n",
       "15  Female     France  24.0   70000.0      Separated           Private   \n",
       "16  Female     Canada  32.0  220000.0      Separated       Daily-wages   \n",
       "17  Female     Canada  34.0   50000.0      Separated       Without-pay   \n",
       "18  Female     France  46.0  370000.0  Never-married       Daily-wages   \n",
       "19    Male     Canada  40.0  460000.0  Never-married           Private   \n",
       "20  Female     France  40.0   50000.0  Never-married           Private   \n",
       "21    Male     Canada  52.0  200000.0  Never-married       Without-pay   \n",
       "22    Male     Canada  44.0  100000.0  Never-married           Private   \n",
       "23    Male  Australia  28.0  200000.0      Separated           Private   \n",
       "24  Female     France  46.0   40000.0  Never-married       Without-pay   \n",
       "25  Female     Canada  31.0  420000.0      Separated           Private   \n",
       "26  Female  Australia  39.0  400000.0      Separated       Daily-wages   \n",
       "27  Female  Australia  37.0  480000.0  Never-married       Without-pay   \n",
       "28  Female    Germany  39.0  190000.0      Separated           Private   \n",
       "29  Female     Canada  39.0  500000.0      Separated       Daily-wages   \n",
       "\n",
       "    credit-score  Learning  Tenure   Balance  Products     Education  \\\n",
       "0        18396.0       8.0     7.0  100000.0       6.0       Masters   \n",
       "1        10886.0       4.0     4.0  101300.0       5.0       HS-Grad   \n",
       "2        71561.0       4.0     4.0  104000.0       3.0       HS-Grad   \n",
       "3        49390.0       4.0     4.0  102449.0       3.0       Masters   \n",
       "4        99302.0       4.0     4.0  105712.0       3.0       HS-Grad   \n",
       "5         1110.0       3.0     3.0  101110.0       2.0  Some-college   \n",
       "6         2946.0       2.0     2.0  103326.0       1.0     Bachelors   \n",
       "7            0.0       5.0     2.0  100000.0       1.0     Bachelors   \n",
       "8          833.0       3.0     3.0  100323.0       2.0  Some-college   \n",
       "9        33561.0       4.0     4.0  105900.0       5.0       HS-Grad   \n",
       "10        1013.0       6.0     2.0  100000.0       2.0       HS-Grad   \n",
       "11       88808.0       6.0     6.0  100000.0       NaN       Masters   \n",
       "12         -25.0       NaN     2.0  100000.0       1.0     Bachelors   \n",
       "13        4205.0       3.0     8.0  100000.0       6.0       Masters   \n",
       "14      184650.0       4.0     2.0  100000.0       1.0     Bachelors   \n",
       "15        5633.0       4.0     4.0  101114.0       3.0       HS-Grad   \n",
       "16       21332.0       2.0     2.0  128567.0       1.0     Bachelors   \n",
       "17        1884.0       3.0     3.0  101077.0       NaN  Some-college   \n",
       "18        6370.0       2.0     2.0  102120.0       1.0     Bachelors   \n",
       "19      235388.0       4.0     4.0  108000.0       3.0       HS-Grad   \n",
       "20       31297.0       4.0     4.0  101476.0       3.0       HS-Grad   \n",
       "21        2343.0       3.0     3.0  103943.0       2.0  Some-college   \n",
       "22       37222.0       4.0     4.0  102000.0       3.0       HS-Grad   \n",
       "23      162439.0       4.0     4.0  104000.0       3.0       HS-Grad   \n",
       "24          50.0       NaN     6.0  101800.0       3.0  Some-college   \n",
       "25      127901.0       4.0     4.0  103900.0       NaN  Some-college   \n",
       "26           0.0       5.0     2.0  100000.0       1.0     Bachelors   \n",
       "27        5269.0       3.0     3.0  102217.0       2.0  Some-college   \n",
       "28      109023.0       4.0     4.0  104000.0       3.0       HS-Grad   \n",
       "29        1950.0       2.0     2.0  102900.0       2.0       HS-Grad   \n",
       "\n",
       "         Occupation  \n",
       "0      Adm-clerical  \n",
       "1    Prof-specialty  \n",
       "2    Prof-specialty  \n",
       "3    Prof-specialty  \n",
       "4    Prof-specialty  \n",
       "5   Exec-managerial  \n",
       "6      Craft-repair  \n",
       "7   Exec-managerial  \n",
       "8   Exec-managerial  \n",
       "9    Prof-specialty  \n",
       "10   Prof-specialty  \n",
       "11     Adm-clerical  \n",
       "12  Exec-managerial  \n",
       "13     Adm-clerical  \n",
       "14     Craft-repair  \n",
       "15   Prof-specialty  \n",
       "16     Craft-repair  \n",
       "17  Exec-managerial  \n",
       "18     Craft-repair  \n",
       "19   Prof-specialty  \n",
       "20   Prof-specialty  \n",
       "21  Exec-managerial  \n",
       "22   Prof-specialty  \n",
       "23   Prof-specialty  \n",
       "24  Exec-managerial  \n",
       "25   Prof-specialty  \n",
       "26     Craft-repair  \n",
       "27  Exec-managerial  \n",
       "28   Prof-specialty  \n",
       "29  Exec-managerial  "
      ]
     },
     "execution_count": 8,
     "metadata": {},
     "output_type": "execute_result"
    }
   ],
   "source": [
    "train.head(30)"
   ]
  },
  {
   "cell_type": "code",
   "execution_count": 11,
   "metadata": {},
   "outputs": [],
   "source": [
    "from feature_selector import FeatureSelector"
   ]
  },
  {
   "cell_type": "code",
   "execution_count": 12,
   "metadata": {},
   "outputs": [],
   "source": [
    "fs = FeatureSelector(data = train, labels = train_labels)\n"
   ]
  },
  {
   "cell_type": "code",
   "execution_count": 19,
   "metadata": {},
   "outputs": [
    {
     "name": "stdout",
     "output_type": "stream",
     "text": [
      "0 features with greater than 0.60 missing values.\n",
      "\n"
     ]
    }
   ],
   "source": [
    "fs.identify_missing(missing_threshold=0.6)\n"
   ]
  },
  {
   "cell_type": "code",
   "execution_count": 18,
   "metadata": {},
   "outputs": [
    {
     "data": {
      "text/plain": [
       "['Learning']"
      ]
     },
     "execution_count": 18,
     "metadata": {},
     "output_type": "execute_result"
    }
   ],
   "source": [
    "missing_features = fs.ops['missing']\n",
    "missing_features[:10]"
   ]
  },
  {
   "cell_type": "code",
   "execution_count": 20,
   "metadata": {},
   "outputs": [
    {
     "data": {
      "text/html": [
       "<div>\n",
       "<style scoped>\n",
       "    .dataframe tbody tr th:only-of-type {\n",
       "        vertical-align: middle;\n",
       "    }\n",
       "\n",
       "    .dataframe tbody tr th {\n",
       "        vertical-align: top;\n",
       "    }\n",
       "\n",
       "    .dataframe thead th {\n",
       "        text-align: right;\n",
       "    }\n",
       "</style>\n",
       "<table border=\"1\" class=\"dataframe\">\n",
       "  <thead>\n",
       "    <tr style=\"text-align: right;\">\n",
       "      <th></th>\n",
       "      <th>missing_fraction</th>\n",
       "    </tr>\n",
       "  </thead>\n",
       "  <tbody>\n",
       "    <tr>\n",
       "      <th>Learning</th>\n",
       "      <td>0.100500</td>\n",
       "    </tr>\n",
       "    <tr>\n",
       "      <th>Products</th>\n",
       "      <td>0.099429</td>\n",
       "    </tr>\n",
       "    <tr>\n",
       "      <th>Gender</th>\n",
       "      <td>0.000000</td>\n",
       "    </tr>\n",
       "    <tr>\n",
       "      <th>Country</th>\n",
       "      <td>0.000000</td>\n",
       "    </tr>\n",
       "    <tr>\n",
       "      <th>Age</th>\n",
       "      <td>0.000000</td>\n",
       "    </tr>\n",
       "    <tr>\n",
       "      <th>Income</th>\n",
       "      <td>0.000000</td>\n",
       "    </tr>\n",
       "    <tr>\n",
       "      <th>Marital-Status</th>\n",
       "      <td>0.000000</td>\n",
       "    </tr>\n",
       "    <tr>\n",
       "      <th>workclass</th>\n",
       "      <td>0.000000</td>\n",
       "    </tr>\n",
       "    <tr>\n",
       "      <th>credit-score</th>\n",
       "      <td>0.000000</td>\n",
       "    </tr>\n",
       "    <tr>\n",
       "      <th>Tenure</th>\n",
       "      <td>0.000000</td>\n",
       "    </tr>\n",
       "  </tbody>\n",
       "</table>\n",
       "</div>"
      ],
      "text/plain": [
       "                missing_fraction\n",
       "Learning                0.100500\n",
       "Products                0.099429\n",
       "Gender                  0.000000\n",
       "Country                 0.000000\n",
       "Age                     0.000000\n",
       "Income                  0.000000\n",
       "Marital-Status          0.000000\n",
       "workclass               0.000000\n",
       "credit-score            0.000000\n",
       "Tenure                  0.000000"
      ]
     },
     "execution_count": 20,
     "metadata": {},
     "output_type": "execute_result"
    }
   ],
   "source": [
    "fs.missing_stats.head(10)\n"
   ]
  },
  {
   "cell_type": "code",
   "execution_count": 21,
   "metadata": {},
   "outputs": [
    {
     "name": "stdout",
     "output_type": "stream",
     "text": [
      "0 features with a single unique value.\n",
      "\n"
     ]
    }
   ],
   "source": [
    "fs.identify_single_unique()\n"
   ]
  },
  {
   "cell_type": "code",
   "execution_count": 22,
   "metadata": {},
   "outputs": [
    {
     "name": "stdout",
     "output_type": "stream",
     "text": [
      "0 features with a correlation magnitude greater than 0.97.\n",
      "\n"
     ]
    }
   ],
   "source": [
    "fs.identify_collinear(correlation_threshold=0.975)\n"
   ]
  },
  {
   "cell_type": "code",
   "execution_count": null,
   "metadata": {},
   "outputs": [],
   "source": []
  },
  {
   "cell_type": "code",
   "execution_count": 23,
   "metadata": {},
   "outputs": [
    {
     "data": {
      "text/html": [
       "<div>\n",
       "<style scoped>\n",
       "    .dataframe tbody tr th:only-of-type {\n",
       "        vertical-align: middle;\n",
       "    }\n",
       "\n",
       "    .dataframe tbody tr th {\n",
       "        vertical-align: top;\n",
       "    }\n",
       "\n",
       "    .dataframe thead th {\n",
       "        text-align: right;\n",
       "    }\n",
       "</style>\n",
       "<table border=\"1\" class=\"dataframe\">\n",
       "  <thead>\n",
       "    <tr style=\"text-align: right;\">\n",
       "      <th></th>\n",
       "      <th>drop_feature</th>\n",
       "      <th>corr_feature</th>\n",
       "      <th>corr_value</th>\n",
       "    </tr>\n",
       "  </thead>\n",
       "  <tbody>\n",
       "  </tbody>\n",
       "</table>\n",
       "</div>"
      ],
      "text/plain": [
       "Empty DataFrame\n",
       "Columns: [drop_feature, corr_feature, corr_value]\n",
       "Index: []"
      ]
     },
     "execution_count": 23,
     "metadata": {},
     "output_type": "execute_result"
    }
   ],
   "source": [
    "fs.record_collinear.head()\n"
   ]
  },
  {
   "cell_type": "code",
   "execution_count": 24,
   "metadata": {},
   "outputs": [
    {
     "name": "stdout",
     "output_type": "stream",
     "text": [
      "Training Gradient Boosting Model\n",
      "\n",
      "Training until validation scores don't improve for 100 rounds\n",
      "Early stopping, best iteration is:\n",
      "[94]\tvalid_0's auc: 0.773269\tvalid_0's binary_logloss: 0.432294\n",
      "Training until validation scores don't improve for 100 rounds\n",
      "Early stopping, best iteration is:\n",
      "[89]\tvalid_0's auc: 0.766122\tvalid_0's binary_logloss: 0.430867\n",
      "Training until validation scores don't improve for 100 rounds\n",
      "Early stopping, best iteration is:\n",
      "[78]\tvalid_0's auc: 0.751445\tvalid_0's binary_logloss: 0.442906\n",
      "Training until validation scores don't improve for 100 rounds\n",
      "Early stopping, best iteration is:\n",
      "[6]\tvalid_0's auc: 0.767686\tvalid_0's binary_logloss: 0.482524\n",
      "Training until validation scores don't improve for 100 rounds\n",
      "Early stopping, best iteration is:\n",
      "[74]\tvalid_0's auc: 0.779996\tvalid_0's binary_logloss: 0.4285\n",
      "Training until validation scores don't improve for 100 rounds\n",
      "Early stopping, best iteration is:\n",
      "[34]\tvalid_0's auc: 0.781356\tvalid_0's binary_logloss: 0.428957\n",
      "Training until validation scores don't improve for 100 rounds\n",
      "Early stopping, best iteration is:\n",
      "[99]\tvalid_0's auc: 0.766493\tvalid_0's binary_logloss: 0.435651\n",
      "Training until validation scores don't improve for 100 rounds\n",
      "Early stopping, best iteration is:\n",
      "[46]\tvalid_0's auc: 0.777703\tvalid_0's binary_logloss: 0.430861\n",
      "Training until validation scores don't improve for 100 rounds\n",
      "Early stopping, best iteration is:\n",
      "[104]\tvalid_0's auc: 0.778438\tvalid_0's binary_logloss: 0.429147\n",
      "Training until validation scores don't improve for 100 rounds\n",
      "Early stopping, best iteration is:\n",
      "[66]\tvalid_0's auc: 0.754714\tvalid_0's binary_logloss: 0.448446\n",
      "\n",
      "7 features with zero importance after one-hot encoding.\n",
      "\n"
     ]
    }
   ],
   "source": [
    "fs.identify_zero_importance(task = 'classification', eval_metric = 'auc', \n",
    "                            n_iterations = 10, early_stopping = True)\n"
   ]
  },
  {
   "cell_type": "code",
   "execution_count": 25,
   "metadata": {},
   "outputs": [
    {
     "ename": "SyntaxError",
     "evalue": "unexpected EOF while parsing (<ipython-input-25-969f7c47ae57>, line 4)",
     "output_type": "error",
     "traceback": [
      "\u001b[1;36m  File \u001b[1;32m\"<ipython-input-25-969f7c47ae57>\"\u001b[1;36m, line \u001b[1;32m4\u001b[0m\n\u001b[1;33m    print('There are %d one-hot features' % len(one_hot_features)\u001b[0m\n\u001b[1;37m                                                                 ^\u001b[0m\n\u001b[1;31mSyntaxError\u001b[0m\u001b[1;31m:\u001b[0m unexpected EOF while parsing\n"
     ]
    }
   ],
   "source": [
    "\n",
    "one_hot_features = fs.one_hot_features\n",
    "base_features = fs.base_features\n",
    "print('There are %d original features' % len(base_features))\n",
    "print('There are %d one-hot features' % len(one_hot_features)"
   ]
  },
  {
   "cell_type": "code",
   "execution_count": 27,
   "metadata": {},
   "outputs": [
    {
     "name": "stdout",
     "output_type": "stream",
     "text": [
      "There are 13 original features\n",
      "There are 36 one-hot features\n"
     ]
    }
   ],
   "source": [
    "one_hot_features = fs.one_hot_features\n",
    "base_features = fs.base_features\n",
    "print('There are %d original features' % len(base_features))\n",
    "print('There are %d one-hot features' % len(one_hot_features))"
   ]
  },
  {
   "cell_type": "code",
   "execution_count": null,
   "metadata": {},
   "outputs": [],
   "source": []
  },
  {
   "cell_type": "code",
   "execution_count": 28,
   "metadata": {},
   "outputs": [
    {
     "data": {
      "text/html": [
       "<div>\n",
       "<style scoped>\n",
       "    .dataframe tbody tr th:only-of-type {\n",
       "        vertical-align: middle;\n",
       "    }\n",
       "\n",
       "    .dataframe tbody tr th {\n",
       "        vertical-align: top;\n",
       "    }\n",
       "\n",
       "    .dataframe thead th {\n",
       "        text-align: right;\n",
       "    }\n",
       "</style>\n",
       "<table border=\"1\" class=\"dataframe\">\n",
       "  <thead>\n",
       "    <tr style=\"text-align: right;\">\n",
       "      <th></th>\n",
       "      <th>Gender_Female</th>\n",
       "      <th>Gender_Male</th>\n",
       "      <th>Country_Australia</th>\n",
       "      <th>Country_Canada</th>\n",
       "      <th>Country_France</th>\n",
       "      <th>Country_Germany</th>\n",
       "      <th>Country_Russia</th>\n",
       "      <th>Country_Spain</th>\n",
       "      <th>Country_US</th>\n",
       "      <th>Marital-Status_Divorced</th>\n",
       "      <th>...</th>\n",
       "      <th>Income</th>\n",
       "      <th>Marital-Status</th>\n",
       "      <th>workclass</th>\n",
       "      <th>credit-score</th>\n",
       "      <th>Learning</th>\n",
       "      <th>Tenure</th>\n",
       "      <th>Balance</th>\n",
       "      <th>Products</th>\n",
       "      <th>Education</th>\n",
       "      <th>Occupation</th>\n",
       "    </tr>\n",
       "  </thead>\n",
       "  <tbody>\n",
       "    <tr>\n",
       "      <th>0</th>\n",
       "      <td>1</td>\n",
       "      <td>0</td>\n",
       "      <td>1</td>\n",
       "      <td>0</td>\n",
       "      <td>0</td>\n",
       "      <td>0</td>\n",
       "      <td>0</td>\n",
       "      <td>0</td>\n",
       "      <td>0</td>\n",
       "      <td>0</td>\n",
       "      <td>...</td>\n",
       "      <td>20000.0</td>\n",
       "      <td>Separated</td>\n",
       "      <td>Local-gov</td>\n",
       "      <td>18396.0</td>\n",
       "      <td>8.0</td>\n",
       "      <td>7.0</td>\n",
       "      <td>100000.0</td>\n",
       "      <td>6.0</td>\n",
       "      <td>Masters</td>\n",
       "      <td>Adm-clerical</td>\n",
       "    </tr>\n",
       "    <tr>\n",
       "      <th>1</th>\n",
       "      <td>1</td>\n",
       "      <td>0</td>\n",
       "      <td>0</td>\n",
       "      <td>1</td>\n",
       "      <td>0</td>\n",
       "      <td>0</td>\n",
       "      <td>0</td>\n",
       "      <td>0</td>\n",
       "      <td>0</td>\n",
       "      <td>0</td>\n",
       "      <td>...</td>\n",
       "      <td>100000.0</td>\n",
       "      <td>Separated</td>\n",
       "      <td>Private</td>\n",
       "      <td>10886.0</td>\n",
       "      <td>4.0</td>\n",
       "      <td>4.0</td>\n",
       "      <td>101300.0</td>\n",
       "      <td>5.0</td>\n",
       "      <td>HS-Grad</td>\n",
       "      <td>Prof-specialty</td>\n",
       "    </tr>\n",
       "    <tr>\n",
       "      <th>2</th>\n",
       "      <td>1</td>\n",
       "      <td>0</td>\n",
       "      <td>1</td>\n",
       "      <td>0</td>\n",
       "      <td>0</td>\n",
       "      <td>0</td>\n",
       "      <td>0</td>\n",
       "      <td>0</td>\n",
       "      <td>0</td>\n",
       "      <td>0</td>\n",
       "      <td>...</td>\n",
       "      <td>200000.0</td>\n",
       "      <td>Never-married</td>\n",
       "      <td>Private</td>\n",
       "      <td>71561.0</td>\n",
       "      <td>4.0</td>\n",
       "      <td>4.0</td>\n",
       "      <td>104000.0</td>\n",
       "      <td>3.0</td>\n",
       "      <td>HS-Grad</td>\n",
       "      <td>Prof-specialty</td>\n",
       "    </tr>\n",
       "    <tr>\n",
       "      <th>3</th>\n",
       "      <td>1</td>\n",
       "      <td>0</td>\n",
       "      <td>0</td>\n",
       "      <td>1</td>\n",
       "      <td>0</td>\n",
       "      <td>0</td>\n",
       "      <td>0</td>\n",
       "      <td>0</td>\n",
       "      <td>0</td>\n",
       "      <td>0</td>\n",
       "      <td>...</td>\n",
       "      <td>50000.0</td>\n",
       "      <td>Never-married</td>\n",
       "      <td>Private</td>\n",
       "      <td>49390.0</td>\n",
       "      <td>4.0</td>\n",
       "      <td>4.0</td>\n",
       "      <td>102449.0</td>\n",
       "      <td>3.0</td>\n",
       "      <td>Masters</td>\n",
       "      <td>Prof-specialty</td>\n",
       "    </tr>\n",
       "    <tr>\n",
       "      <th>4</th>\n",
       "      <td>1</td>\n",
       "      <td>0</td>\n",
       "      <td>0</td>\n",
       "      <td>0</td>\n",
       "      <td>0</td>\n",
       "      <td>0</td>\n",
       "      <td>1</td>\n",
       "      <td>0</td>\n",
       "      <td>0</td>\n",
       "      <td>0</td>\n",
       "      <td>...</td>\n",
       "      <td>100000.0</td>\n",
       "      <td>Never-married</td>\n",
       "      <td>Private</td>\n",
       "      <td>99302.0</td>\n",
       "      <td>4.0</td>\n",
       "      <td>4.0</td>\n",
       "      <td>105712.0</td>\n",
       "      <td>3.0</td>\n",
       "      <td>HS-Grad</td>\n",
       "      <td>Prof-specialty</td>\n",
       "    </tr>\n",
       "    <tr>\n",
       "      <th>5</th>\n",
       "      <td>0</td>\n",
       "      <td>1</td>\n",
       "      <td>1</td>\n",
       "      <td>0</td>\n",
       "      <td>0</td>\n",
       "      <td>0</td>\n",
       "      <td>0</td>\n",
       "      <td>0</td>\n",
       "      <td>0</td>\n",
       "      <td>0</td>\n",
       "      <td>...</td>\n",
       "      <td>180000.0</td>\n",
       "      <td>Never-married</td>\n",
       "      <td>Without-pay</td>\n",
       "      <td>1110.0</td>\n",
       "      <td>3.0</td>\n",
       "      <td>3.0</td>\n",
       "      <td>101110.0</td>\n",
       "      <td>2.0</td>\n",
       "      <td>Some-college</td>\n",
       "      <td>Exec-managerial</td>\n",
       "    </tr>\n",
       "    <tr>\n",
       "      <th>6</th>\n",
       "      <td>1</td>\n",
       "      <td>0</td>\n",
       "      <td>0</td>\n",
       "      <td>1</td>\n",
       "      <td>0</td>\n",
       "      <td>0</td>\n",
       "      <td>0</td>\n",
       "      <td>0</td>\n",
       "      <td>0</td>\n",
       "      <td>0</td>\n",
       "      <td>...</td>\n",
       "      <td>280000.0</td>\n",
       "      <td>Separated</td>\n",
       "      <td>Daily-wages</td>\n",
       "      <td>2946.0</td>\n",
       "      <td>2.0</td>\n",
       "      <td>2.0</td>\n",
       "      <td>103326.0</td>\n",
       "      <td>1.0</td>\n",
       "      <td>Bachelors</td>\n",
       "      <td>Craft-repair</td>\n",
       "    </tr>\n",
       "    <tr>\n",
       "      <th>7</th>\n",
       "      <td>1</td>\n",
       "      <td>0</td>\n",
       "      <td>1</td>\n",
       "      <td>0</td>\n",
       "      <td>0</td>\n",
       "      <td>0</td>\n",
       "      <td>0</td>\n",
       "      <td>0</td>\n",
       "      <td>0</td>\n",
       "      <td>0</td>\n",
       "      <td>...</td>\n",
       "      <td>160000.0</td>\n",
       "      <td>Separated</td>\n",
       "      <td>Daily-wages</td>\n",
       "      <td>0.0</td>\n",
       "      <td>5.0</td>\n",
       "      <td>2.0</td>\n",
       "      <td>100000.0</td>\n",
       "      <td>1.0</td>\n",
       "      <td>Bachelors</td>\n",
       "      <td>Exec-managerial</td>\n",
       "    </tr>\n",
       "    <tr>\n",
       "      <th>8</th>\n",
       "      <td>1</td>\n",
       "      <td>0</td>\n",
       "      <td>0</td>\n",
       "      <td>1</td>\n",
       "      <td>0</td>\n",
       "      <td>0</td>\n",
       "      <td>0</td>\n",
       "      <td>0</td>\n",
       "      <td>0</td>\n",
       "      <td>0</td>\n",
       "      <td>...</td>\n",
       "      <td>310000.0</td>\n",
       "      <td>Separated</td>\n",
       "      <td>Without-pay</td>\n",
       "      <td>833.0</td>\n",
       "      <td>3.0</td>\n",
       "      <td>3.0</td>\n",
       "      <td>100323.0</td>\n",
       "      <td>2.0</td>\n",
       "      <td>Some-college</td>\n",
       "      <td>Exec-managerial</td>\n",
       "    </tr>\n",
       "    <tr>\n",
       "      <th>9</th>\n",
       "      <td>1</td>\n",
       "      <td>0</td>\n",
       "      <td>1</td>\n",
       "      <td>0</td>\n",
       "      <td>0</td>\n",
       "      <td>0</td>\n",
       "      <td>0</td>\n",
       "      <td>0</td>\n",
       "      <td>0</td>\n",
       "      <td>0</td>\n",
       "      <td>...</td>\n",
       "      <td>420000.0</td>\n",
       "      <td>Never-married</td>\n",
       "      <td>Private</td>\n",
       "      <td>33561.0</td>\n",
       "      <td>4.0</td>\n",
       "      <td>4.0</td>\n",
       "      <td>105900.0</td>\n",
       "      <td>5.0</td>\n",
       "      <td>HS-Grad</td>\n",
       "      <td>Prof-specialty</td>\n",
       "    </tr>\n",
       "  </tbody>\n",
       "</table>\n",
       "<p>10 rows × 49 columns</p>\n",
       "</div>"
      ],
      "text/plain": [
       "   Gender_Female  Gender_Male  Country_Australia  Country_Canada  \\\n",
       "0              1            0                  1               0   \n",
       "1              1            0                  0               1   \n",
       "2              1            0                  1               0   \n",
       "3              1            0                  0               1   \n",
       "4              1            0                  0               0   \n",
       "5              0            1                  1               0   \n",
       "6              1            0                  0               1   \n",
       "7              1            0                  1               0   \n",
       "8              1            0                  0               1   \n",
       "9              1            0                  1               0   \n",
       "\n",
       "   Country_France  Country_Germany  Country_Russia  Country_Spain  Country_US  \\\n",
       "0               0                0               0              0           0   \n",
       "1               0                0               0              0           0   \n",
       "2               0                0               0              0           0   \n",
       "3               0                0               0              0           0   \n",
       "4               0                0               1              0           0   \n",
       "5               0                0               0              0           0   \n",
       "6               0                0               0              0           0   \n",
       "7               0                0               0              0           0   \n",
       "8               0                0               0              0           0   \n",
       "9               0                0               0              0           0   \n",
       "\n",
       "   Marital-Status_Divorced  ...    Income  Marital-Status    workclass  \\\n",
       "0                        0  ...   20000.0       Separated    Local-gov   \n",
       "1                        0  ...  100000.0       Separated      Private   \n",
       "2                        0  ...  200000.0   Never-married      Private   \n",
       "3                        0  ...   50000.0   Never-married      Private   \n",
       "4                        0  ...  100000.0   Never-married      Private   \n",
       "5                        0  ...  180000.0   Never-married  Without-pay   \n",
       "6                        0  ...  280000.0       Separated  Daily-wages   \n",
       "7                        0  ...  160000.0       Separated  Daily-wages   \n",
       "8                        0  ...  310000.0       Separated  Without-pay   \n",
       "9                        0  ...  420000.0   Never-married      Private   \n",
       "\n",
       "   credit-score  Learning  Tenure   Balance  Products     Education  \\\n",
       "0       18396.0       8.0     7.0  100000.0       6.0       Masters   \n",
       "1       10886.0       4.0     4.0  101300.0       5.0       HS-Grad   \n",
       "2       71561.0       4.0     4.0  104000.0       3.0       HS-Grad   \n",
       "3       49390.0       4.0     4.0  102449.0       3.0       Masters   \n",
       "4       99302.0       4.0     4.0  105712.0       3.0       HS-Grad   \n",
       "5        1110.0       3.0     3.0  101110.0       2.0  Some-college   \n",
       "6        2946.0       2.0     2.0  103326.0       1.0     Bachelors   \n",
       "7           0.0       5.0     2.0  100000.0       1.0     Bachelors   \n",
       "8         833.0       3.0     3.0  100323.0       2.0  Some-college   \n",
       "9       33561.0       4.0     4.0  105900.0       5.0       HS-Grad   \n",
       "\n",
       "        Occupation  \n",
       "0     Adm-clerical  \n",
       "1   Prof-specialty  \n",
       "2   Prof-specialty  \n",
       "3   Prof-specialty  \n",
       "4   Prof-specialty  \n",
       "5  Exec-managerial  \n",
       "6     Craft-repair  \n",
       "7  Exec-managerial  \n",
       "8  Exec-managerial  \n",
       "9   Prof-specialty  \n",
       "\n",
       "[10 rows x 49 columns]"
      ]
     },
     "execution_count": 28,
     "metadata": {},
     "output_type": "execute_result"
    }
   ],
   "source": [
    "fs.data_all.head(10)\n"
   ]
  },
  {
   "cell_type": "code",
   "execution_count": 29,
   "metadata": {},
   "outputs": [
    {
     "data": {
      "text/plain": [
       "[]"
      ]
     },
     "execution_count": 29,
     "metadata": {},
     "output_type": "execute_result"
    }
   ],
   "source": [
    "zero_importance_features = fs.ops['zero_importance']\n",
    "zero_importance_features[10:15]"
   ]
  },
  {
   "cell_type": "code",
   "execution_count": 30,
   "metadata": {},
   "outputs": [
    {
     "data": {
      "image/png": "[encoded data removed]",
      "text/plain": [
       "<Figure size 1000x600 with 1 Axes>"
      ]
     },
     "metadata": {},
     "output_type": "display_data"
    },
    {
     "data": {
      "image/png": "[encoded data removed]",
      "text/plain": [
       "<Figure size 600x400 with 1 Axes>"
      ]
     },
     "metadata": {},
     "output_type": "display_data"
    },
    {
     "name": "stdout",
     "output_type": "stream",
     "text": [
      "28 features required for 0.99 of cumulative importance\n"
     ]
    }
   ],
   "source": [
    "fs.plot_feature_importances(threshold = 0.99, plot_n = 12)\n"
   ]
  },
  {
   "cell_type": "code",
   "execution_count": 31,
   "metadata": {},
   "outputs": [
    {
     "data": {
      "text/html": [
       "<div>\n",
       "<style scoped>\n",
       "    .dataframe tbody tr th:only-of-type {\n",
       "        vertical-align: middle;\n",
       "    }\n",
       "\n",
       "    .dataframe tbody tr th {\n",
       "        vertical-align: top;\n",
       "    }\n",
       "\n",
       "    .dataframe thead th {\n",
       "        text-align: right;\n",
       "    }\n",
       "</style>\n",
       "<table border=\"1\" class=\"dataframe\">\n",
       "  <thead>\n",
       "    <tr style=\"text-align: right;\">\n",
       "      <th></th>\n",
       "      <th>feature</th>\n",
       "      <th>importance</th>\n",
       "      <th>normalized_importance</th>\n",
       "      <th>cumulative_importance</th>\n",
       "    </tr>\n",
       "  </thead>\n",
       "  <tbody>\n",
       "    <tr>\n",
       "      <th>0</th>\n",
       "      <td>credit-score</td>\n",
       "      <td>417.1</td>\n",
       "      <td>0.201498</td>\n",
       "      <td>0.201498</td>\n",
       "    </tr>\n",
       "    <tr>\n",
       "      <th>1</th>\n",
       "      <td>Balance</td>\n",
       "      <td>292.4</td>\n",
       "      <td>0.141256</td>\n",
       "      <td>0.342754</td>\n",
       "    </tr>\n",
       "    <tr>\n",
       "      <th>2</th>\n",
       "      <td>Income</td>\n",
       "      <td>290.3</td>\n",
       "      <td>0.140242</td>\n",
       "      <td>0.482995</td>\n",
       "    </tr>\n",
       "    <tr>\n",
       "      <th>3</th>\n",
       "      <td>Age</td>\n",
       "      <td>248.4</td>\n",
       "      <td>0.120000</td>\n",
       "      <td>0.602995</td>\n",
       "    </tr>\n",
       "    <tr>\n",
       "      <th>4</th>\n",
       "      <td>Learning</td>\n",
       "      <td>148.6</td>\n",
       "      <td>0.071787</td>\n",
       "      <td>0.674783</td>\n",
       "    </tr>\n",
       "    <tr>\n",
       "      <th>5</th>\n",
       "      <td>Products</td>\n",
       "      <td>117.3</td>\n",
       "      <td>0.056667</td>\n",
       "      <td>0.731449</td>\n",
       "    </tr>\n",
       "    <tr>\n",
       "      <th>6</th>\n",
       "      <td>Tenure</td>\n",
       "      <td>69.4</td>\n",
       "      <td>0.033527</td>\n",
       "      <td>0.764976</td>\n",
       "    </tr>\n",
       "    <tr>\n",
       "      <th>7</th>\n",
       "      <td>Education_Masters</td>\n",
       "      <td>54.1</td>\n",
       "      <td>0.026135</td>\n",
       "      <td>0.791111</td>\n",
       "    </tr>\n",
       "    <tr>\n",
       "      <th>8</th>\n",
       "      <td>Gender_Female</td>\n",
       "      <td>52.3</td>\n",
       "      <td>0.025266</td>\n",
       "      <td>0.816377</td>\n",
       "    </tr>\n",
       "    <tr>\n",
       "      <th>9</th>\n",
       "      <td>workclass_Self-emp-inc</td>\n",
       "      <td>38.4</td>\n",
       "      <td>0.018551</td>\n",
       "      <td>0.834928</td>\n",
       "    </tr>\n",
       "  </tbody>\n",
       "</table>\n",
       "</div>"
      ],
      "text/plain": [
       "                  feature  importance  normalized_importance  \\\n",
       "0            credit-score       417.1               0.201498   \n",
       "1                 Balance       292.4               0.141256   \n",
       "2                  Income       290.3               0.140242   \n",
       "3                     Age       248.4               0.120000   \n",
       "4                Learning       148.6               0.071787   \n",
       "5                Products       117.3               0.056667   \n",
       "6                  Tenure        69.4               0.033527   \n",
       "7       Education_Masters        54.1               0.026135   \n",
       "8           Gender_Female        52.3               0.025266   \n",
       "9  workclass_Self-emp-inc        38.4               0.018551   \n",
       "\n",
       "   cumulative_importance  \n",
       "0               0.201498  \n",
       "1               0.342754  \n",
       "2               0.482995  \n",
       "3               0.602995  \n",
       "4               0.674783  \n",
       "5               0.731449  \n",
       "6               0.764976  \n",
       "7               0.791111  \n",
       "8               0.816377  \n",
       "9               0.834928  "
      ]
     },
     "execution_count": 31,
     "metadata": {},
     "output_type": "execute_result"
    }
   ],
   "source": [
    "fs.feature_importances.head(10)\n"
   ]
  },
  {
   "cell_type": "code",
   "execution_count": 32,
   "metadata": {},
   "outputs": [
    {
     "name": "stdout",
     "output_type": "stream",
     "text": [
      "27 features required for cumulative importance of 0.99 after one hot encoding.\n",
      "16 features do not contribute to cumulative importance of 0.99.\n",
      "\n"
     ]
    }
   ],
   "source": [
    "fs.identify_low_importance(cumulative_importance = 0.99)\n"
   ]
  },
  {
   "cell_type": "code",
   "execution_count": 33,
   "metadata": {},
   "outputs": [
    {
     "data": {
      "text/plain": [
       "['Country_France',\n",
       " 'Marital-Status_Married-civ-spouse',\n",
       " 'Gender_Male',\n",
       " 'Education_11th',\n",
       " 'workclass_Daily-wages']"
      ]
     },
     "execution_count": 33,
     "metadata": {},
     "output_type": "execute_result"
    }
   ],
   "source": [
    "low_importance_features = fs.ops['low_importance']\n",
    "low_importance_features[:5]"
   ]
  },
  {
   "cell_type": "code",
   "execution_count": 34,
   "metadata": {},
   "outputs": [
    {
     "name": "stdout",
     "output_type": "stream",
     "text": [
      "Removed 0 features.\n"
     ]
    }
   ],
   "source": [
    "train_no_missing = fs.remove(methods = ['missing'])\n"
   ]
  },
  {
   "cell_type": "code",
   "execution_count": 35,
   "metadata": {},
   "outputs": [
    {
     "name": "stdout",
     "output_type": "stream",
     "text": [
      "Removed 7 features.\n"
     ]
    }
   ],
   "source": [
    "train_no_missing_zero = fs.remove(methods = ['missing', 'zero_importance'])\n"
   ]
  },
  {
   "cell_type": "code",
   "execution_count": 36,
   "metadata": {},
   "outputs": [
    {
     "name": "stdout",
     "output_type": "stream",
     "text": [
      "Total of 16 features identified for removal\n"
     ]
    },
    {
     "data": {
      "text/plain": [
       "['Marital-Status_Divorced',\n",
       " 'Education_Assoc-acdm',\n",
       " 'workclass_Daily-wages',\n",
       " 'Marital-Status_Married-civ-spouse',\n",
       " 'workclass_Local-gov',\n",
       " 'Education_Preschool']"
      ]
     },
     "execution_count": 36,
     "metadata": {},
     "output_type": "execute_result"
    }
   ],
   "source": [
    "all_to_remove = fs.check_removal()\n",
    "all_to_remove[10:25]"
   ]
  },
  {
   "cell_type": "code",
   "execution_count": 37,
   "metadata": {},
   "outputs": [
    {
     "name": "stdout",
     "output_type": "stream",
     "text": [
      "['missing', 'single_unique', 'collinear', 'zero_importance', 'low_importance'] methods have been run\n",
      "\n",
      "Removed 16 features.\n"
     ]
    }
   ],
   "source": [
    "train_removed = fs.remove(methods = 'all')\n"
   ]
  },
  {
   "cell_type": "code",
   "execution_count": 38,
   "metadata": {},
   "outputs": [
    {
     "name": "stdout",
     "output_type": "stream",
     "text": [
      "['missing', 'single_unique', 'collinear', 'zero_importance', 'low_importance'] methods have been run\n",
      "\n",
      "Removed 36 features including one-hot features.\n"
     ]
    }
   ],
   "source": [
    "train_removed_all = fs.remove(methods = 'all', keep_one_hot=False)\n"
   ]
  },
  {
   "cell_type": "code",
   "execution_count": 39,
   "metadata": {},
   "outputs": [
    {
     "name": "stdout",
     "output_type": "stream",
     "text": [
      "Original Number of Features 13\n",
      "Final Number of Features:  13\n"
     ]
    }
   ],
   "source": [
    "print('Original Number of Features', train.shape[1])\n",
    "print('Final Number of Features: ', train_removed_all.shape[1])"
   ]
  },
  {
   "cell_type": "code",
   "execution_count": 40,
   "metadata": {},
   "outputs": [
    {
     "name": "stdout",
     "output_type": "stream",
     "text": [
      "0 features with greater than 0.60 missing values.\n",
      "\n",
      "0 features with a single unique value.\n",
      "\n",
      "0 features with a correlation magnitude greater than 0.98.\n",
      "\n",
      "Training Gradient Boosting Model\n",
      "\n",
      "Training until validation scores don't improve for 100 rounds\n",
      "Early stopping, best iteration is:\n",
      "[104]\tvalid_0's auc: 0.779002\tvalid_0's binary_logloss: 0.426059\n",
      "Training until validation scores don't improve for 100 rounds\n",
      "Early stopping, best iteration is:\n",
      "[99]\tvalid_0's auc: 0.789171\tvalid_0's binary_logloss: 0.420699\n",
      "Training until validation scores don't improve for 100 rounds\n",
      "Early stopping, best iteration is:\n",
      "[71]\tvalid_0's auc: 0.776687\tvalid_0's binary_logloss: 0.428103\n",
      "Training until validation scores don't improve for 100 rounds\n",
      "Early stopping, best iteration is:\n",
      "[73]\tvalid_0's auc: 0.768865\tvalid_0's binary_logloss: 0.440475\n",
      "Training until validation scores don't improve for 100 rounds\n",
      "Early stopping, best iteration is:\n",
      "[9]\tvalid_0's auc: 0.771925\tvalid_0's binary_logloss: 0.472624\n",
      "Training until validation scores don't improve for 100 rounds\n",
      "Early stopping, best iteration is:\n",
      "[138]\tvalid_0's auc: 0.777862\tvalid_0's binary_logloss: 0.426927\n",
      "Training until validation scores don't improve for 100 rounds\n",
      "Early stopping, best iteration is:\n",
      "[56]\tvalid_0's auc: 0.74572\tvalid_0's binary_logloss: 0.447928\n",
      "Training until validation scores don't improve for 100 rounds\n",
      "Early stopping, best iteration is:\n",
      "[90]\tvalid_0's auc: 0.783953\tvalid_0's binary_logloss: 0.428975\n",
      "Training until validation scores don't improve for 100 rounds\n",
      "Early stopping, best iteration is:\n",
      "[100]\tvalid_0's auc: 0.782613\tvalid_0's binary_logloss: 0.420833\n",
      "Training until validation scores don't improve for 100 rounds\n",
      "Early stopping, best iteration is:\n",
      "[63]\tvalid_0's auc: 0.761535\tvalid_0's binary_logloss: 0.438201\n",
      "\n",
      "8 features with zero importance after one-hot encoding.\n",
      "\n",
      "28 features required for cumulative importance of 0.99 after one hot encoding.\n",
      "15 features do not contribute to cumulative importance of 0.99.\n",
      "\n",
      "15 total features out of 49 identified for removal after one-hot encoding.\n",
      "\n"
     ]
    }
   ],
   "source": [
    "fs = FeatureSelector(data = train, labels = train_labels)\n",
    "\n",
    "fs.identify_all(selection_params = {'missing_threshold': 0.6, 'correlation_threshold': 0.98, \n",
    "                                    'task': 'classification', 'eval_metric': 'auc', \n",
    "                                     'cumulative_importance': 0.99})"
   ]
  },
  {
   "cell_type": "code",
   "execution_count": 41,
   "metadata": {},
   "outputs": [
    {
     "name": "stdout",
     "output_type": "stream",
     "text": [
      "['missing', 'single_unique', 'collinear', 'zero_importance', 'low_importance'] methods have been run\n",
      "\n",
      "Removed 15 features.\n"
     ]
    }
   ],
   "source": [
    "train_removed_all_once = fs.remove(methods = 'all', keep_one_hot = True)\n"
   ]
  },
  {
   "cell_type": "code",
   "execution_count": 42,
   "metadata": {},
   "outputs": [
    {
     "data": {
      "text/html": [
       "<div>\n",
       "<style scoped>\n",
       "    .dataframe tbody tr th:only-of-type {\n",
       "        vertical-align: middle;\n",
       "    }\n",
       "\n",
       "    .dataframe tbody tr th {\n",
       "        vertical-align: top;\n",
       "    }\n",
       "\n",
       "    .dataframe thead th {\n",
       "        text-align: right;\n",
       "    }\n",
       "</style>\n",
       "<table border=\"1\" class=\"dataframe\">\n",
       "  <thead>\n",
       "    <tr style=\"text-align: right;\">\n",
       "      <th></th>\n",
       "      <th>feature</th>\n",
       "      <th>importance</th>\n",
       "      <th>normalized_importance</th>\n",
       "      <th>cumulative_importance</th>\n",
       "    </tr>\n",
       "  </thead>\n",
       "  <tbody>\n",
       "    <tr>\n",
       "      <th>0</th>\n",
       "      <td>credit-score</td>\n",
       "      <td>493.2</td>\n",
       "      <td>0.204732</td>\n",
       "      <td>0.204732</td>\n",
       "    </tr>\n",
       "    <tr>\n",
       "      <th>1</th>\n",
       "      <td>Income</td>\n",
       "      <td>342.9</td>\n",
       "      <td>0.142341</td>\n",
       "      <td>0.347073</td>\n",
       "    </tr>\n",
       "    <tr>\n",
       "      <th>2</th>\n",
       "      <td>Balance</td>\n",
       "      <td>342.4</td>\n",
       "      <td>0.142134</td>\n",
       "      <td>0.489207</td>\n",
       "    </tr>\n",
       "    <tr>\n",
       "      <th>3</th>\n",
       "      <td>Age</td>\n",
       "      <td>295.1</td>\n",
       "      <td>0.122499</td>\n",
       "      <td>0.611706</td>\n",
       "    </tr>\n",
       "    <tr>\n",
       "      <th>4</th>\n",
       "      <td>Learning</td>\n",
       "      <td>164.3</td>\n",
       "      <td>0.068203</td>\n",
       "      <td>0.679909</td>\n",
       "    </tr>\n",
       "  </tbody>\n",
       "</table>\n",
       "</div>"
      ],
      "text/plain": [
       "        feature  importance  normalized_importance  cumulative_importance\n",
       "0  credit-score       493.2               0.204732               0.204732\n",
       "1        Income       342.9               0.142341               0.347073\n",
       "2       Balance       342.4               0.142134               0.489207\n",
       "3           Age       295.1               0.122499               0.611706\n",
       "4      Learning       164.3               0.068203               0.679909"
      ]
     },
     "execution_count": 42,
     "metadata": {},
     "output_type": "execute_result"
    }
   ],
   "source": [
    "fs.feature_importances.head()\n"
   ]
  },
  {
   "cell_type": "code",
   "execution_count": null,
   "metadata": {},
   "outputs": [],
   "source": []
  },
  {
   "cell_type": "code",
   "execution_count": 53,
   "metadata": {},
   "outputs": [
    {
     "data": {
      "text/html": [
       "<div>\n",
       "<style scoped>\n",
       "    .dataframe tbody tr th:only-of-type {\n",
       "        vertical-align: middle;\n",
       "    }\n",
       "\n",
       "    .dataframe tbody tr th {\n",
       "        vertical-align: top;\n",
       "    }\n",
       "\n",
       "    .dataframe thead th {\n",
       "        text-align: right;\n",
       "    }\n",
       "</style>\n",
       "<table border=\"1\" class=\"dataframe\">\n",
       "  <thead>\n",
       "    <tr style=\"text-align: right;\">\n",
       "      <th></th>\n",
       "      <th>Age</th>\n",
       "      <th>Income</th>\n",
       "      <th>Marital-Status</th>\n",
       "      <th>credit-score</th>\n",
       "      <th>Learning</th>\n",
       "      <th>Balance</th>\n",
       "    </tr>\n",
       "  </thead>\n",
       "  <tbody>\n",
       "    <tr>\n",
       "      <th>0</th>\n",
       "      <td>53.0</td>\n",
       "      <td>20000.0</td>\n",
       "      <td>Separated</td>\n",
       "      <td>18396.0</td>\n",
       "      <td>8.0</td>\n",
       "      <td>100000.0</td>\n",
       "    </tr>\n",
       "    <tr>\n",
       "      <th>1</th>\n",
       "      <td>28.0</td>\n",
       "      <td>100000.0</td>\n",
       "      <td>Separated</td>\n",
       "      <td>10886.0</td>\n",
       "      <td>4.0</td>\n",
       "      <td>101300.0</td>\n",
       "    </tr>\n",
       "    <tr>\n",
       "      <th>2</th>\n",
       "      <td>35.0</td>\n",
       "      <td>200000.0</td>\n",
       "      <td>Never-married</td>\n",
       "      <td>71561.0</td>\n",
       "      <td>4.0</td>\n",
       "      <td>104000.0</td>\n",
       "    </tr>\n",
       "    <tr>\n",
       "      <th>3</th>\n",
       "      <td>43.0</td>\n",
       "      <td>50000.0</td>\n",
       "      <td>Never-married</td>\n",
       "      <td>49390.0</td>\n",
       "      <td>4.0</td>\n",
       "      <td>102449.0</td>\n",
       "    </tr>\n",
       "    <tr>\n",
       "      <th>4</th>\n",
       "      <td>29.0</td>\n",
       "      <td>100000.0</td>\n",
       "      <td>Never-married</td>\n",
       "      <td>99302.0</td>\n",
       "      <td>4.0</td>\n",
       "      <td>105712.0</td>\n",
       "    </tr>\n",
       "    <tr>\n",
       "      <th>...</th>\n",
       "      <td>...</td>\n",
       "      <td>...</td>\n",
       "      <td>...</td>\n",
       "      <td>...</td>\n",
       "      <td>...</td>\n",
       "      <td>...</td>\n",
       "    </tr>\n",
       "    <tr>\n",
       "      <th>75</th>\n",
       "      <td>34.0</td>\n",
       "      <td>150000.0</td>\n",
       "      <td>Never-married</td>\n",
       "      <td>0.0</td>\n",
       "      <td>5.0</td>\n",
       "      <td>100000.0</td>\n",
       "    </tr>\n",
       "    <tr>\n",
       "      <th>76</th>\n",
       "      <td>33.0</td>\n",
       "      <td>260000.0</td>\n",
       "      <td>Never-married</td>\n",
       "      <td>112501.0</td>\n",
       "      <td>4.0</td>\n",
       "      <td>104000.0</td>\n",
       "    </tr>\n",
       "    <tr>\n",
       "      <th>77</th>\n",
       "      <td>41.0</td>\n",
       "      <td>290000.0</td>\n",
       "      <td>Separated</td>\n",
       "      <td>286391.0</td>\n",
       "      <td>4.0</td>\n",
       "      <td>110000.0</td>\n",
       "    </tr>\n",
       "    <tr>\n",
       "      <th>78</th>\n",
       "      <td>31.0</td>\n",
       "      <td>300000.0</td>\n",
       "      <td>Separated</td>\n",
       "      <td>92235.0</td>\n",
       "      <td>4.0</td>\n",
       "      <td>104505.0</td>\n",
       "    </tr>\n",
       "    <tr>\n",
       "      <th>79</th>\n",
       "      <td>45.0</td>\n",
       "      <td>250000.0</td>\n",
       "      <td>Never-married</td>\n",
       "      <td>2218.0</td>\n",
       "      <td>2.0</td>\n",
       "      <td>104940.0</td>\n",
       "    </tr>\n",
       "  </tbody>\n",
       "</table>\n",
       "<p>80 rows × 6 columns</p>\n",
       "</div>"
      ],
      "text/plain": [
       "     Age    Income Marital-Status  credit-score  Learning   Balance\n",
       "0   53.0   20000.0      Separated       18396.0       8.0  100000.0\n",
       "1   28.0  100000.0      Separated       10886.0       4.0  101300.0\n",
       "2   35.0  200000.0  Never-married       71561.0       4.0  104000.0\n",
       "3   43.0   50000.0  Never-married       49390.0       4.0  102449.0\n",
       "4   29.0  100000.0  Never-married       99302.0       4.0  105712.0\n",
       "..   ...       ...            ...           ...       ...       ...\n",
       "75  34.0  150000.0  Never-married           0.0       5.0  100000.0\n",
       "76  33.0  260000.0  Never-married      112501.0       4.0  104000.0\n",
       "77  41.0  290000.0      Separated      286391.0       4.0  110000.0\n",
       "78  31.0  300000.0      Separated       92235.0       4.0  104505.0\n",
       "79  45.0  250000.0  Never-married        2218.0       2.0  104940.0\n",
       "\n",
       "[80 rows x 6 columns]"
      ]
     },
     "execution_count": 53,
     "metadata": {},
     "output_type": "execute_result"
    }
   ],
   "source": [
    "train.head(80)"
   ]
  },
  {
   "cell_type": "code",
   "execution_count": 52,
   "metadata": {},
   "outputs": [],
   "source": [
    "train = train.drop(columns = ['Occupation'])"
   ]
  },
  {
   "cell_type": "code",
   "execution_count": 60,
   "metadata": {},
   "outputs": [],
   "source": [
    "train = train.drop(['Marital-Status'], axis=1)\n",
    "   \n"
   ]
  },
  {
   "cell_type": "code",
   "execution_count": 242,
   "metadata": {},
   "outputs": [],
   "source": [
    "X = train.iloc[:,0:5].values"
   ]
  },
  {
   "cell_type": "code",
   "execution_count": 243,
   "metadata": {},
   "outputs": [],
   "source": [
    "y = train_labels\n"
   ]
  },
  {
   "cell_type": "code",
   "execution_count": 244,
   "metadata": {},
   "outputs": [
    {
     "data": {
      "text/plain": [
       "array([[5.30000e+01, 2.00000e+04, 1.83960e+04, 8.00000e+00, 1.00000e+05],\n",
       "       [2.80000e+01, 1.00000e+05, 1.08860e+04, 4.00000e+00, 1.01300e+05],\n",
       "       [3.50000e+01, 2.00000e+05, 7.15610e+04, 4.00000e+00, 1.04000e+05],\n",
       "       ...,\n",
       "       [4.10000e+01, 4.60000e+05, 8.18480e+04, 3.00000e+00, 1.08877e+05],\n",
       "       [2.90000e+01, 2.30000e+05, 3.76400e+03, 2.00000e+00, 1.11142e+05],\n",
       "       [2.90000e+01, 2.00000e+04, 1.11360e+04, 4.00000e+00, 1.10000e+05]])"
      ]
     },
     "execution_count": 244,
     "metadata": {},
     "output_type": "execute_result"
    }
   ],
   "source": [
    "X"
   ]
  },
  {
   "cell_type": "code",
   "execution_count": 245,
   "metadata": {},
   "outputs": [],
   "source": [
    "from sklearn.model_selection import train_test_split\n",
    "X_train, X_test, y_train, y_test = train_test_split(X, y, test_size = 0.2, random_state = 0) \n"
   ]
  },
  {
   "cell_type": "code",
   "execution_count": 246,
   "metadata": {},
   "outputs": [],
   "source": [
    "from sklearn.preprocessing import StandardScaler\n",
    "sc = StandardScaler()\n",
    "X_train = sc.fit_transform(X_train)\n",
    "X_test = sc.transform(X_test)"
   ]
  },
  {
   "cell_type": "code",
   "execution_count": 72,
   "metadata": {},
   "outputs": [
    {
     "ename": "ValueError",
     "evalue": "Input contains NaN, infinity or a value too large for dtype('float64').",
     "output_type": "error",
     "traceback": [
      "\u001b[1;31m---------------------------------------------------------------------------\u001b[0m",
      "\u001b[1;31mValueError\u001b[0m                                Traceback (most recent call last)",
      "\u001b[1;32m<ipython-input-72-f5fba6563247>\u001b[0m in \u001b[0;36m<module>\u001b[1;34m\u001b[0m\n\u001b[0;32m      1\u001b[0m \u001b[1;32mfrom\u001b[0m \u001b[0msklearn\u001b[0m\u001b[1;33m.\u001b[0m\u001b[0msvm\u001b[0m \u001b[1;32mimport\u001b[0m \u001b[0mSVC\u001b[0m\u001b[1;33m\u001b[0m\u001b[1;33m\u001b[0m\u001b[0m\n\u001b[0;32m      2\u001b[0m \u001b[0mclassifier\u001b[0m \u001b[1;33m=\u001b[0m \u001b[0mSVC\u001b[0m\u001b[1;33m(\u001b[0m\u001b[0mkernel\u001b[0m \u001b[1;33m=\u001b[0m \u001b[1;34m'rbf'\u001b[0m\u001b[1;33m,\u001b[0m \u001b[0mrandom_state\u001b[0m \u001b[1;33m=\u001b[0m \u001b[1;36m0\u001b[0m\u001b[1;33m)\u001b[0m\u001b[1;33m\u001b[0m\u001b[1;33m\u001b[0m\u001b[0m\n\u001b[1;32m----> 3\u001b[1;33m \u001b[0mclassifier\u001b[0m\u001b[1;33m.\u001b[0m\u001b[0mfit\u001b[0m\u001b[1;33m(\u001b[0m\u001b[0mX_train\u001b[0m\u001b[1;33m,\u001b[0m \u001b[0my_train\u001b[0m\u001b[1;33m)\u001b[0m\u001b[1;33m\u001b[0m\u001b[1;33m\u001b[0m\u001b[0m\n\u001b[0m",
      "\u001b[1;32mC:\\Anaconda\\lib\\site-packages\\sklearn\\svm\\base.py\u001b[0m in \u001b[0;36mfit\u001b[1;34m(self, X, y, sample_weight)\u001b[0m\n\u001b[0;32m    144\u001b[0m         X, y = check_X_y(X, y, dtype=np.float64,\n\u001b[0;32m    145\u001b[0m                          \u001b[0morder\u001b[0m\u001b[1;33m=\u001b[0m\u001b[1;34m'C'\u001b[0m\u001b[1;33m,\u001b[0m \u001b[0maccept_sparse\u001b[0m\u001b[1;33m=\u001b[0m\u001b[1;34m'csr'\u001b[0m\u001b[1;33m,\u001b[0m\u001b[1;33m\u001b[0m\u001b[1;33m\u001b[0m\u001b[0m\n\u001b[1;32m--> 146\u001b[1;33m                          accept_large_sparse=False)\n\u001b[0m\u001b[0;32m    147\u001b[0m         \u001b[0my\u001b[0m \u001b[1;33m=\u001b[0m \u001b[0mself\u001b[0m\u001b[1;33m.\u001b[0m\u001b[0m_validate_targets\u001b[0m\u001b[1;33m(\u001b[0m\u001b[0my\u001b[0m\u001b[1;33m)\u001b[0m\u001b[1;33m\u001b[0m\u001b[1;33m\u001b[0m\u001b[0m\n\u001b[0;32m    148\u001b[0m \u001b[1;33m\u001b[0m\u001b[0m\n",
      "\u001b[1;32mC:\\Anaconda\\lib\\site-packages\\sklearn\\utils\\validation.py\u001b[0m in \u001b[0;36mcheck_X_y\u001b[1;34m(X, y, accept_sparse, accept_large_sparse, dtype, order, copy, force_all_finite, ensure_2d, allow_nd, multi_output, ensure_min_samples, ensure_min_features, y_numeric, warn_on_dtype, estimator)\u001b[0m\n\u001b[0;32m    717\u001b[0m                     \u001b[0mensure_min_features\u001b[0m\u001b[1;33m=\u001b[0m\u001b[0mensure_min_features\u001b[0m\u001b[1;33m,\u001b[0m\u001b[1;33m\u001b[0m\u001b[1;33m\u001b[0m\u001b[0m\n\u001b[0;32m    718\u001b[0m                     \u001b[0mwarn_on_dtype\u001b[0m\u001b[1;33m=\u001b[0m\u001b[0mwarn_on_dtype\u001b[0m\u001b[1;33m,\u001b[0m\u001b[1;33m\u001b[0m\u001b[1;33m\u001b[0m\u001b[0m\n\u001b[1;32m--> 719\u001b[1;33m                     estimator=estimator)\n\u001b[0m\u001b[0;32m    720\u001b[0m     \u001b[1;32mif\u001b[0m \u001b[0mmulti_output\u001b[0m\u001b[1;33m:\u001b[0m\u001b[1;33m\u001b[0m\u001b[1;33m\u001b[0m\u001b[0m\n\u001b[0;32m    721\u001b[0m         y = check_array(y, 'csr', force_all_finite=True, ensure_2d=False,\n",
      "\u001b[1;32mC:\\Anaconda\\lib\\site-packages\\sklearn\\utils\\validation.py\u001b[0m in \u001b[0;36mcheck_array\u001b[1;34m(array, accept_sparse, accept_large_sparse, dtype, order, copy, force_all_finite, ensure_2d, allow_nd, ensure_min_samples, ensure_min_features, warn_on_dtype, estimator)\u001b[0m\n\u001b[0;32m    540\u001b[0m         \u001b[1;32mif\u001b[0m \u001b[0mforce_all_finite\u001b[0m\u001b[1;33m:\u001b[0m\u001b[1;33m\u001b[0m\u001b[1;33m\u001b[0m\u001b[0m\n\u001b[0;32m    541\u001b[0m             _assert_all_finite(array,\n\u001b[1;32m--> 542\u001b[1;33m                                allow_nan=force_all_finite == 'allow-nan')\n\u001b[0m\u001b[0;32m    543\u001b[0m \u001b[1;33m\u001b[0m\u001b[0m\n\u001b[0;32m    544\u001b[0m     \u001b[1;32mif\u001b[0m \u001b[0mensure_min_samples\u001b[0m \u001b[1;33m>\u001b[0m \u001b[1;36m0\u001b[0m\u001b[1;33m:\u001b[0m\u001b[1;33m\u001b[0m\u001b[1;33m\u001b[0m\u001b[0m\n",
      "\u001b[1;32mC:\\Anaconda\\lib\\site-packages\\sklearn\\utils\\validation.py\u001b[0m in \u001b[0;36m_assert_all_finite\u001b[1;34m(X, allow_nan)\u001b[0m\n\u001b[0;32m     54\u001b[0m                 not allow_nan and not np.isfinite(X).all()):\n\u001b[0;32m     55\u001b[0m             \u001b[0mtype_err\u001b[0m \u001b[1;33m=\u001b[0m \u001b[1;34m'infinity'\u001b[0m \u001b[1;32mif\u001b[0m \u001b[0mallow_nan\u001b[0m \u001b[1;32melse\u001b[0m \u001b[1;34m'NaN, infinity'\u001b[0m\u001b[1;33m\u001b[0m\u001b[1;33m\u001b[0m\u001b[0m\n\u001b[1;32m---> 56\u001b[1;33m             \u001b[1;32mraise\u001b[0m \u001b[0mValueError\u001b[0m\u001b[1;33m(\u001b[0m\u001b[0mmsg_err\u001b[0m\u001b[1;33m.\u001b[0m\u001b[0mformat\u001b[0m\u001b[1;33m(\u001b[0m\u001b[0mtype_err\u001b[0m\u001b[1;33m,\u001b[0m \u001b[0mX\u001b[0m\u001b[1;33m.\u001b[0m\u001b[0mdtype\u001b[0m\u001b[1;33m)\u001b[0m\u001b[1;33m)\u001b[0m\u001b[1;33m\u001b[0m\u001b[1;33m\u001b[0m\u001b[0m\n\u001b[0m\u001b[0;32m     57\u001b[0m     \u001b[1;31m# for object dtype data, we only check for NaNs (GH-13254)\u001b[0m\u001b[1;33m\u001b[0m\u001b[1;33m\u001b[0m\u001b[1;33m\u001b[0m\u001b[0m\n\u001b[0;32m     58\u001b[0m     \u001b[1;32melif\u001b[0m \u001b[0mX\u001b[0m\u001b[1;33m.\u001b[0m\u001b[0mdtype\u001b[0m \u001b[1;33m==\u001b[0m \u001b[0mnp\u001b[0m\u001b[1;33m.\u001b[0m\u001b[0mdtype\u001b[0m\u001b[1;33m(\u001b[0m\u001b[1;34m'object'\u001b[0m\u001b[1;33m)\u001b[0m \u001b[1;32mand\u001b[0m \u001b[1;32mnot\u001b[0m \u001b[0mallow_nan\u001b[0m\u001b[1;33m:\u001b[0m\u001b[1;33m\u001b[0m\u001b[1;33m\u001b[0m\u001b[0m\n",
      "\u001b[1;31mValueError\u001b[0m: Input contains NaN, infinity or a value too large for dtype('float64')."
     ]
    }
   ],
   "source": [
    "from sklearn.svm import SVC\n",
    "classifier = SVC(kernel = 'rbf', random_state = 0)\n",
    "classifier.fit(X_train, y_train)"
   ]
  },
  {
   "cell_type": "code",
   "execution_count": 247,
   "metadata": {},
   "outputs": [
    {
     "name": "stderr",
     "output_type": "stream",
     "text": [
      "C:\\Anaconda\\lib\\site-packages\\sklearn\\utils\\deprecation.py:66: DeprecationWarning: Class Imputer is deprecated; Imputer was deprecated in version 0.20 and will be removed in 0.22. Import impute.SimpleImputer from sklearn instead.\n",
      "  warnings.warn(msg, category=DeprecationWarning)\n"
     ]
    }
   ],
   "source": [
    "from sklearn.preprocessing import Imputer\n",
    "imputer = Imputer(missing_values='NaN',strategy = 'median',axis = 0)\n",
    "imputer = imputer.fit(X[:, 3:4])\n",
    "X[:, 3:4]= imputer.transform(X[:,3:4])"
   ]
  },
  {
   "cell_type": "code",
   "execution_count": 203,
   "metadata": {},
   "outputs": [],
   "source": [
    "from sklearn.preprocessing import MinMaxScaler\n",
    "scaler = MinMaxScaler()\n",
    "X_train = scaler.fit_transform(X_train)"
   ]
  },
  {
   "cell_type": "code",
   "execution_count": 204,
   "metadata": {},
   "outputs": [],
   "source": [
    "state = 12  \n",
    "test_size = 0.30  \n",
    "X_train, X_val, y_train, y_val = train_test_split(X_train, y_train,  \n",
    "    test_size=test_size, random_state=state)"
   ]
  },
  {
   "cell_type": "code",
   "execution_count": 205,
   "metadata": {},
   "outputs": [
    {
     "name": "stdout",
     "output_type": "stream",
     "text": [
      "Learning rate:  0.05\n",
      "Accuracy score (training): 0.789\n",
      "Accuracy score (validation): 0.768\n",
      "Learning rate:  0.075\n",
      "Accuracy score (training): 0.816\n",
      "Accuracy score (validation): 0.798\n",
      "Learning rate:  0.1\n",
      "Accuracy score (training): 0.823\n",
      "Accuracy score (validation): 0.803\n",
      "Learning rate:  0.25\n",
      "Accuracy score (training): 0.824\n",
      "Accuracy score (validation): 0.804\n",
      "Learning rate:  0.5\n",
      "Accuracy score (training): 0.824\n",
      "Accuracy score (validation): 0.806\n",
      "Learning rate:  0.75\n",
      "Accuracy score (training): 0.823\n",
      "Accuracy score (validation): 0.803\n",
      "Learning rate:  1\n",
      "Accuracy score (training): 0.823\n",
      "Accuracy score (validation): 0.799\n"
     ]
    }
   ],
   "source": [
    "lr_list = [0.05, 0.075, 0.1, 0.25, 0.5, 0.75, 1]\n",
    "\n",
    "for learning_rate in lr_list:\n",
    "    gb_clf = GradientBoostingClassifier(n_estimators=20, learning_rate=learning_rate, max_features=2, max_depth=2, random_state=0)\n",
    "    gb_clf.fit(X_train, y_train)\n",
    "\n",
    "    print(\"Learning rate: \", learning_rate)\n",
    "    print(\"Accuracy score (training): {0:.3f}\".format(gb_clf.score(X_train, y_train)))\n",
    "    print(\"Accuracy score (validation): {0:.3f}\".format(gb_clf.score(X_val, y_val)))"
   ]
  },
  {
   "cell_type": "code",
   "execution_count": 206,
   "metadata": {},
   "outputs": [
    {
     "name": "stdout",
     "output_type": "stream",
     "text": [
      "Confusion Matrix:\n",
      "[[2461  111]\n",
      " [ 542  246]]\n",
      "Classification Report\n"
     ]
    },
    {
     "ename": "NameError",
     "evalue": "name 'classification_report' is not defined",
     "output_type": "error",
     "traceback": [
      "\u001b[1;31m---------------------------------------------------------------------------\u001b[0m",
      "\u001b[1;31mNameError\u001b[0m                                 Traceback (most recent call last)",
      "\u001b[1;32m<ipython-input-206-490e52d9eb2f>\u001b[0m in \u001b[0;36m<module>\u001b[1;34m\u001b[0m\n\u001b[0;32m      7\u001b[0m \u001b[1;33m\u001b[0m\u001b[0m\n\u001b[0;32m      8\u001b[0m \u001b[0mprint\u001b[0m\u001b[1;33m(\u001b[0m\u001b[1;34m\"Classification Report\"\u001b[0m\u001b[1;33m)\u001b[0m\u001b[1;33m\u001b[0m\u001b[1;33m\u001b[0m\u001b[0m\n\u001b[1;32m----> 9\u001b[1;33m \u001b[0mprint\u001b[0m\u001b[1;33m(\u001b[0m\u001b[0mclassification_report\u001b[0m\u001b[1;33m(\u001b[0m\u001b[0my_val\u001b[0m\u001b[1;33m,\u001b[0m \u001b[0mpredictions\u001b[0m\u001b[1;33m)\u001b[0m\u001b[1;33m)\u001b[0m\u001b[1;33m\u001b[0m\u001b[1;33m\u001b[0m\u001b[0m\n\u001b[0m",
      "\u001b[1;31mNameError\u001b[0m: name 'classification_report' is not defined"
     ]
    }
   ],
   "source": [
    "gb_clf2 = GradientBoostingClassifier(n_estimators=20, learning_rate=0.5, max_features=2, max_depth=2, random_state=0)\n",
    "gb_clf2.fit(X_train, y_train)\n",
    "predictions = gb_clf2.predict(X_val)\n",
    "\n",
    "print(\"Confusion Matrix:\")\n",
    "print(confusion_matrix(y_val, predictions))\n",
    "\n",
    "print(\"Classification Report\")\n",
    "print(classification_report(y_val, predictions))"
   ]
  },
  {
   "cell_type": "code",
   "execution_count": 211,
   "metadata": {},
   "outputs": [
    {
     "name": "stdout",
     "output_type": "stream",
     "text": [
      "Accuracy :  80.57 %\n"
     ]
    }
   ],
   "source": [
    "\n",
    "numerator = cm[0][0] + cm[1][1]\n",
    "denominator = sum(cm[0]) + sum(cm[1])\n",
    "acc_svc = (numerator/denominator) * 100\n",
    "print(\"Accuracy : \",round(acc_svc,2),\"%\")\n",
    "\n"
   ]
  },
  {
   "cell_type": "code",
   "execution_count": 209,
   "metadata": {},
   "outputs": [],
   "source": [
    "from sklearn.metrics import confusion_matrix\n",
    "cm = confusion_matrix(y_val, predictions)"
   ]
  },
  {
   "cell_type": "code",
   "execution_count": 210,
   "metadata": {},
   "outputs": [
    {
     "data": {
      "text/plain": [
       "array([[2461,  111],\n",
       "       [ 542,  246]], dtype=int64)"
      ]
     },
     "execution_count": 210,
     "metadata": {},
     "output_type": "execute_result"
    }
   ],
   "source": [
    "cm"
   ]
  },
  {
   "cell_type": "code",
   "execution_count": 86,
   "metadata": {},
   "outputs": [],
   "source": [
    "from sklearn.metrics import confusion_matrix\n",
    "cm = confusion_matrix(y_test, y_pred)"
   ]
  },
  {
   "cell_type": "code",
   "execution_count": 87,
   "metadata": {},
   "outputs": [
    {
     "data": {
      "text/plain": [
       "array([[2124,   91],\n",
       "       [ 425,  160]], dtype=int64)"
      ]
     },
     "execution_count": 87,
     "metadata": {},
     "output_type": "execute_result"
    }
   ],
   "source": [
    "cm\n"
   ]
  },
  {
   "cell_type": "code",
   "execution_count": 88,
   "metadata": {},
   "outputs": [
    {
     "name": "stdout",
     "output_type": "stream",
     "text": [
      "Accuracy :  81.57 %\n"
     ]
    }
   ],
   "source": [
    "numerator = cm[0][0] + cm[1][1]\n",
    "denominator = sum(cm[0]) + sum(cm[1])\n",
    "acc_svc = (numerator/denominator) * 100\n",
    "print(\"Accuracy : \",round(acc_svc,2),\"%\")\n"
   ]
  },
  {
   "cell_type": "code",
   "execution_count": 213,
   "metadata": {},
   "outputs": [
    {
     "name": "stdout",
     "output_type": "stream",
     "text": [
      "Cross Validation Accuracy :  81.47 %\n"
     ]
    }
   ],
   "source": [
    "from sklearn.model_selection import cross_val_score\n",
    "cross_val_svc = cross_val_score(estimator = gb_clf, X = X_train, y = y_train, cv = 10, n_jobs = -1)\n",
    "print(\"Cross Validation Accuracy : \",round(cross_val_svc.mean() * 100 , 2),\"%\")"
   ]
  },
  {
   "cell_type": "code",
   "execution_count": 91,
   "metadata": {},
   "outputs": [],
   "source": [
    "test = pd.read_csv(r\"C:\\Users\\YOGESH KULKARNI\\Downloads\\test.csv\")"
   ]
  },
  {
   "cell_type": "code",
   "execution_count": 92,
   "metadata": {},
   "outputs": [
    {
     "data": {
      "text/html": [
       "<div>\n",
       "<style scoped>\n",
       "    .dataframe tbody tr th:only-of-type {\n",
       "        vertical-align: middle;\n",
       "    }\n",
       "\n",
       "    .dataframe tbody tr th {\n",
       "        vertical-align: top;\n",
       "    }\n",
       "\n",
       "    .dataframe thead th {\n",
       "        text-align: right;\n",
       "    }\n",
       "</style>\n",
       "<table border=\"1\" class=\"dataframe\">\n",
       "  <thead>\n",
       "    <tr style=\"text-align: right;\">\n",
       "      <th></th>\n",
       "      <th>id</th>\n",
       "      <th>Gender</th>\n",
       "      <th>Country</th>\n",
       "      <th>Age</th>\n",
       "      <th>Income</th>\n",
       "      <th>Marital-Status</th>\n",
       "      <th>workclass</th>\n",
       "      <th>credit-score</th>\n",
       "      <th>Learning</th>\n",
       "      <th>Tenure</th>\n",
       "      <th>Balance</th>\n",
       "      <th>Products</th>\n",
       "      <th>Education</th>\n",
       "      <th>Occupation</th>\n",
       "    </tr>\n",
       "  </thead>\n",
       "  <tbody>\n",
       "    <tr>\n",
       "      <th>0</th>\n",
       "      <td>14027</td>\n",
       "      <td>Female</td>\n",
       "      <td>Australia</td>\n",
       "      <td>38.0</td>\n",
       "      <td>180000.0</td>\n",
       "      <td>Never-married</td>\n",
       "      <td>Private</td>\n",
       "      <td>151031.0</td>\n",
       "      <td>4.0</td>\n",
       "      <td>4.0</td>\n",
       "      <td>107011.0</td>\n",
       "      <td>NaN</td>\n",
       "      <td>HS-Grad</td>\n",
       "      <td>Prof-specialty</td>\n",
       "    </tr>\n",
       "    <tr>\n",
       "      <th>1</th>\n",
       "      <td>14028</td>\n",
       "      <td>Female</td>\n",
       "      <td>France</td>\n",
       "      <td>22.0</td>\n",
       "      <td>50000.0</td>\n",
       "      <td>Separated</td>\n",
       "      <td>Private</td>\n",
       "      <td>50089.0</td>\n",
       "      <td>4.0</td>\n",
       "      <td>4.0</td>\n",
       "      <td>101798.0</td>\n",
       "      <td>3.0</td>\n",
       "      <td>HS-Grad</td>\n",
       "      <td>Prof-specialty</td>\n",
       "    </tr>\n",
       "    <tr>\n",
       "      <th>2</th>\n",
       "      <td>14029</td>\n",
       "      <td>Male</td>\n",
       "      <td>Australia</td>\n",
       "      <td>33.0</td>\n",
       "      <td>300000.0</td>\n",
       "      <td>Separated</td>\n",
       "      <td>Private</td>\n",
       "      <td>283552.0</td>\n",
       "      <td>4.0</td>\n",
       "      <td>4.0</td>\n",
       "      <td>110000.0</td>\n",
       "      <td>3.0</td>\n",
       "      <td>HS-Grad</td>\n",
       "      <td>Prof-specialty</td>\n",
       "    </tr>\n",
       "    <tr>\n",
       "      <th>3</th>\n",
       "      <td>14030</td>\n",
       "      <td>Male</td>\n",
       "      <td>Australia</td>\n",
       "      <td>32.0</td>\n",
       "      <td>200000.0</td>\n",
       "      <td>Never-married</td>\n",
       "      <td>Self-emp-inc</td>\n",
       "      <td>110419.0</td>\n",
       "      <td>NaN</td>\n",
       "      <td>6.0</td>\n",
       "      <td>105400.0</td>\n",
       "      <td>5.0</td>\n",
       "      <td>Masters</td>\n",
       "      <td>Prof-specialty</td>\n",
       "    </tr>\n",
       "    <tr>\n",
       "      <th>4</th>\n",
       "      <td>14031</td>\n",
       "      <td>Female</td>\n",
       "      <td>Australia</td>\n",
       "      <td>26.0</td>\n",
       "      <td>50000.0</td>\n",
       "      <td>Separated</td>\n",
       "      <td>Private</td>\n",
       "      <td>26023.0</td>\n",
       "      <td>6.0</td>\n",
       "      <td>4.0</td>\n",
       "      <td>101453.0</td>\n",
       "      <td>5.0</td>\n",
       "      <td>Masters</td>\n",
       "      <td>Prof-specialty</td>\n",
       "    </tr>\n",
       "    <tr>\n",
       "      <th>...</th>\n",
       "      <td>...</td>\n",
       "      <td>...</td>\n",
       "      <td>...</td>\n",
       "      <td>...</td>\n",
       "      <td>...</td>\n",
       "      <td>...</td>\n",
       "      <td>...</td>\n",
       "      <td>...</td>\n",
       "      <td>...</td>\n",
       "      <td>...</td>\n",
       "      <td>...</td>\n",
       "      <td>...</td>\n",
       "      <td>...</td>\n",
       "      <td>...</td>\n",
       "    </tr>\n",
       "    <tr>\n",
       "      <th>75</th>\n",
       "      <td>14102</td>\n",
       "      <td>Male</td>\n",
       "      <td>France</td>\n",
       "      <td>27.0</td>\n",
       "      <td>20000.0</td>\n",
       "      <td>Never-married</td>\n",
       "      <td>Private</td>\n",
       "      <td>20184.0</td>\n",
       "      <td>4.0</td>\n",
       "      <td>6.0</td>\n",
       "      <td>102950.0</td>\n",
       "      <td>3.0</td>\n",
       "      <td>HS-Grad</td>\n",
       "      <td>Prof-specialty</td>\n",
       "    </tr>\n",
       "    <tr>\n",
       "      <th>76</th>\n",
       "      <td>14103</td>\n",
       "      <td>Female</td>\n",
       "      <td>Australia</td>\n",
       "      <td>35.0</td>\n",
       "      <td>360000.0</td>\n",
       "      <td>Separated</td>\n",
       "      <td>Daily-wages</td>\n",
       "      <td>0.0</td>\n",
       "      <td>5.0</td>\n",
       "      <td>3.0</td>\n",
       "      <td>100000.0</td>\n",
       "      <td>2.0</td>\n",
       "      <td>HS-Grad</td>\n",
       "      <td>Exec-managerial</td>\n",
       "    </tr>\n",
       "    <tr>\n",
       "      <th>77</th>\n",
       "      <td>14104</td>\n",
       "      <td>Male</td>\n",
       "      <td>Canada</td>\n",
       "      <td>29.0</td>\n",
       "      <td>390000.0</td>\n",
       "      <td>Separated</td>\n",
       "      <td>Without-pay</td>\n",
       "      <td>9918.0</td>\n",
       "      <td>4.0</td>\n",
       "      <td>4.0</td>\n",
       "      <td>116008.0</td>\n",
       "      <td>NaN</td>\n",
       "      <td>HS-Grad</td>\n",
       "      <td>Prof-specialty</td>\n",
       "    </tr>\n",
       "    <tr>\n",
       "      <th>78</th>\n",
       "      <td>14105</td>\n",
       "      <td>Male</td>\n",
       "      <td>Canada</td>\n",
       "      <td>28.0</td>\n",
       "      <td>180000.0</td>\n",
       "      <td>Separated</td>\n",
       "      <td>Private</td>\n",
       "      <td>9853.0</td>\n",
       "      <td>4.0</td>\n",
       "      <td>4.0</td>\n",
       "      <td>110732.0</td>\n",
       "      <td>3.0</td>\n",
       "      <td>HS-Grad</td>\n",
       "      <td>Exec-managerial</td>\n",
       "    </tr>\n",
       "    <tr>\n",
       "      <th>79</th>\n",
       "      <td>14106</td>\n",
       "      <td>Male</td>\n",
       "      <td>Australia</td>\n",
       "      <td>31.0</td>\n",
       "      <td>130000.0</td>\n",
       "      <td>Separated</td>\n",
       "      <td>Private</td>\n",
       "      <td>122486.0</td>\n",
       "      <td>4.0</td>\n",
       "      <td>4.0</td>\n",
       "      <td>106013.0</td>\n",
       "      <td>3.0</td>\n",
       "      <td>HS-Grad</td>\n",
       "      <td>Prof-specialty</td>\n",
       "    </tr>\n",
       "  </tbody>\n",
       "</table>\n",
       "<p>80 rows × 14 columns</p>\n",
       "</div>"
      ],
      "text/plain": [
       "       id  Gender    Country   Age    Income Marital-Status     workclass  \\\n",
       "0   14027  Female  Australia  38.0  180000.0  Never-married       Private   \n",
       "1   14028  Female     France  22.0   50000.0      Separated       Private   \n",
       "2   14029    Male  Australia  33.0  300000.0      Separated       Private   \n",
       "3   14030    Male  Australia  32.0  200000.0  Never-married  Self-emp-inc   \n",
       "4   14031  Female  Australia  26.0   50000.0      Separated       Private   \n",
       "..    ...     ...        ...   ...       ...            ...           ...   \n",
       "75  14102    Male     France  27.0   20000.0  Never-married       Private   \n",
       "76  14103  Female  Australia  35.0  360000.0      Separated   Daily-wages   \n",
       "77  14104    Male     Canada  29.0  390000.0      Separated   Without-pay   \n",
       "78  14105    Male     Canada  28.0  180000.0      Separated       Private   \n",
       "79  14106    Male  Australia  31.0  130000.0      Separated       Private   \n",
       "\n",
       "    credit-score  Learning  Tenure   Balance  Products Education  \\\n",
       "0       151031.0       4.0     4.0  107011.0       NaN   HS-Grad   \n",
       "1        50089.0       4.0     4.0  101798.0       3.0   HS-Grad   \n",
       "2       283552.0       4.0     4.0  110000.0       3.0   HS-Grad   \n",
       "3       110419.0       NaN     6.0  105400.0       5.0   Masters   \n",
       "4        26023.0       6.0     4.0  101453.0       5.0   Masters   \n",
       "..           ...       ...     ...       ...       ...       ...   \n",
       "75       20184.0       4.0     6.0  102950.0       3.0   HS-Grad   \n",
       "76           0.0       5.0     3.0  100000.0       2.0   HS-Grad   \n",
       "77        9918.0       4.0     4.0  116008.0       NaN   HS-Grad   \n",
       "78        9853.0       4.0     4.0  110732.0       3.0   HS-Grad   \n",
       "79      122486.0       4.0     4.0  106013.0       3.0   HS-Grad   \n",
       "\n",
       "         Occupation  \n",
       "0    Prof-specialty  \n",
       "1    Prof-specialty  \n",
       "2    Prof-specialty  \n",
       "3    Prof-specialty  \n",
       "4    Prof-specialty  \n",
       "..              ...  \n",
       "75   Prof-specialty  \n",
       "76  Exec-managerial  \n",
       "77   Prof-specialty  \n",
       "78  Exec-managerial  \n",
       "79   Prof-specialty  \n",
       "\n",
       "[80 rows x 14 columns]"
      ]
     },
     "execution_count": 92,
     "metadata": {},
     "output_type": "execute_result"
    }
   ],
   "source": [
    "test.head(80)"
   ]
  },
  {
   "cell_type": "code",
   "execution_count": 93,
   "metadata": {},
   "outputs": [],
   "source": [
    "id2 = test.id"
   ]
  },
  {
   "cell_type": "code",
   "execution_count": 94,
   "metadata": {},
   "outputs": [
    {
     "data": {
      "text/plain": [
       "0       14027\n",
       "1       14028\n",
       "2       14029\n",
       "3       14030\n",
       "4       14031\n",
       "        ...  \n",
       "5958    19995\n",
       "5959    19996\n",
       "5960    19997\n",
       "5961    19998\n",
       "5962    19999\n",
       "Name: id, Length: 5963, dtype: int64"
      ]
     },
     "execution_count": 94,
     "metadata": {},
     "output_type": "execute_result"
    }
   ],
   "source": [
    "id2"
   ]
  },
  {
   "cell_type": "code",
   "execution_count": 103,
   "metadata": {},
   "outputs": [],
   "source": [
    "del test['Occupation']"
   ]
  },
  {
   "cell_type": "code",
   "execution_count": 104,
   "metadata": {},
   "outputs": [
    {
     "data": {
      "text/html": [
       "<div>\n",
       "<style scoped>\n",
       "    .dataframe tbody tr th:only-of-type {\n",
       "        vertical-align: middle;\n",
       "    }\n",
       "\n",
       "    .dataframe tbody tr th {\n",
       "        vertical-align: top;\n",
       "    }\n",
       "\n",
       "    .dataframe thead th {\n",
       "        text-align: right;\n",
       "    }\n",
       "</style>\n",
       "<table border=\"1\" class=\"dataframe\">\n",
       "  <thead>\n",
       "    <tr style=\"text-align: right;\">\n",
       "      <th></th>\n",
       "      <th>Age</th>\n",
       "      <th>Income</th>\n",
       "      <th>credit-score</th>\n",
       "      <th>Learning</th>\n",
       "      <th>Balance</th>\n",
       "    </tr>\n",
       "  </thead>\n",
       "  <tbody>\n",
       "    <tr>\n",
       "      <th>0</th>\n",
       "      <td>38.0</td>\n",
       "      <td>180000.0</td>\n",
       "      <td>151031.0</td>\n",
       "      <td>4.0</td>\n",
       "      <td>107011.0</td>\n",
       "    </tr>\n",
       "    <tr>\n",
       "      <th>1</th>\n",
       "      <td>22.0</td>\n",
       "      <td>50000.0</td>\n",
       "      <td>50089.0</td>\n",
       "      <td>4.0</td>\n",
       "      <td>101798.0</td>\n",
       "    </tr>\n",
       "    <tr>\n",
       "      <th>2</th>\n",
       "      <td>33.0</td>\n",
       "      <td>300000.0</td>\n",
       "      <td>283552.0</td>\n",
       "      <td>4.0</td>\n",
       "      <td>110000.0</td>\n",
       "    </tr>\n",
       "    <tr>\n",
       "      <th>3</th>\n",
       "      <td>32.0</td>\n",
       "      <td>200000.0</td>\n",
       "      <td>110419.0</td>\n",
       "      <td>NaN</td>\n",
       "      <td>105400.0</td>\n",
       "    </tr>\n",
       "    <tr>\n",
       "      <th>4</th>\n",
       "      <td>26.0</td>\n",
       "      <td>50000.0</td>\n",
       "      <td>26023.0</td>\n",
       "      <td>6.0</td>\n",
       "      <td>101453.0</td>\n",
       "    </tr>\n",
       "    <tr>\n",
       "      <th>...</th>\n",
       "      <td>...</td>\n",
       "      <td>...</td>\n",
       "      <td>...</td>\n",
       "      <td>...</td>\n",
       "      <td>...</td>\n",
       "    </tr>\n",
       "    <tr>\n",
       "      <th>75</th>\n",
       "      <td>27.0</td>\n",
       "      <td>20000.0</td>\n",
       "      <td>20184.0</td>\n",
       "      <td>4.0</td>\n",
       "      <td>102950.0</td>\n",
       "    </tr>\n",
       "    <tr>\n",
       "      <th>76</th>\n",
       "      <td>35.0</td>\n",
       "      <td>360000.0</td>\n",
       "      <td>0.0</td>\n",
       "      <td>5.0</td>\n",
       "      <td>100000.0</td>\n",
       "    </tr>\n",
       "    <tr>\n",
       "      <th>77</th>\n",
       "      <td>29.0</td>\n",
       "      <td>390000.0</td>\n",
       "      <td>9918.0</td>\n",
       "      <td>4.0</td>\n",
       "      <td>116008.0</td>\n",
       "    </tr>\n",
       "    <tr>\n",
       "      <th>78</th>\n",
       "      <td>28.0</td>\n",
       "      <td>180000.0</td>\n",
       "      <td>9853.0</td>\n",
       "      <td>4.0</td>\n",
       "      <td>110732.0</td>\n",
       "    </tr>\n",
       "    <tr>\n",
       "      <th>79</th>\n",
       "      <td>31.0</td>\n",
       "      <td>130000.0</td>\n",
       "      <td>122486.0</td>\n",
       "      <td>4.0</td>\n",
       "      <td>106013.0</td>\n",
       "    </tr>\n",
       "  </tbody>\n",
       "</table>\n",
       "<p>80 rows × 5 columns</p>\n",
       "</div>"
      ],
      "text/plain": [
       "     Age    Income  credit-score  Learning   Balance\n",
       "0   38.0  180000.0      151031.0       4.0  107011.0\n",
       "1   22.0   50000.0       50089.0       4.0  101798.0\n",
       "2   33.0  300000.0      283552.0       4.0  110000.0\n",
       "3   32.0  200000.0      110419.0       NaN  105400.0\n",
       "4   26.0   50000.0       26023.0       6.0  101453.0\n",
       "..   ...       ...           ...       ...       ...\n",
       "75  27.0   20000.0       20184.0       4.0  102950.0\n",
       "76  35.0  360000.0           0.0       5.0  100000.0\n",
       "77  29.0  390000.0        9918.0       4.0  116008.0\n",
       "78  28.0  180000.0        9853.0       4.0  110732.0\n",
       "79  31.0  130000.0      122486.0       4.0  106013.0\n",
       "\n",
       "[80 rows x 5 columns]"
      ]
     },
     "execution_count": 104,
     "metadata": {},
     "output_type": "execute_result"
    }
   ],
   "source": [
    "test.head(80)"
   ]
  },
  {
   "cell_type": "code",
   "execution_count": 265,
   "metadata": {},
   "outputs": [],
   "source": [
    "x_test = test.iloc[:, 0:5].values"
   ]
  },
  {
   "cell_type": "code",
   "execution_count": 266,
   "metadata": {},
   "outputs": [
    {
     "data": {
      "text/plain": [
       "array([[3.80000e+01, 1.80000e+05, 1.51031e+05, 4.00000e+00, 1.07011e+05],\n",
       "       [2.20000e+01, 5.00000e+04, 5.00890e+04, 4.00000e+00, 1.01798e+05],\n",
       "       [3.30000e+01, 3.00000e+05, 2.83552e+05, 4.00000e+00, 1.10000e+05],\n",
       "       ...,\n",
       "       [3.50000e+01, 2.40000e+05, 0.00000e+00, 2.00000e+00, 1.00000e+05],\n",
       "       [3.20000e+01, 5.00000e+05, 5.35300e+03, 3.00000e+00, 1.06081e+05],\n",
       "       [2.50000e+01, 1.10000e+05, 1.09924e+05, 6.00000e+00, 1.06000e+05]])"
      ]
     },
     "execution_count": 266,
     "metadata": {},
     "output_type": "execute_result"
    }
   ],
   "source": [
    "x_test"
   ]
  },
  {
   "cell_type": "code",
   "execution_count": 267,
   "metadata": {},
   "outputs": [
    {
     "name": "stderr",
     "output_type": "stream",
     "text": [
      "C:\\Anaconda\\lib\\site-packages\\sklearn\\utils\\deprecation.py:66: DeprecationWarning: Class Imputer is deprecated; Imputer was deprecated in version 0.20 and will be removed in 0.22. Import impute.SimpleImputer from sklearn instead.\n",
      "  warnings.warn(msg, category=DeprecationWarning)\n"
     ]
    }
   ],
   "source": [
    "from sklearn.preprocessing import Imputer\n",
    "imputer = Imputer(missing_values='NaN',strategy = 'median',axis = 0)\n",
    "imputer = imputer.fit(x_test[:, 3:4])\n",
    "x_test[:, 3:4]= imputer.transform(x_test[:,3:4])\n"
   ]
  },
  {
   "cell_type": "code",
   "execution_count": 268,
   "metadata": {},
   "outputs": [],
   "source": [
    "x_test = sc.transform(x_test)"
   ]
  },
  {
   "cell_type": "code",
   "execution_count": 269,
   "metadata": {},
   "outputs": [
    {
     "data": {
      "text/plain": [
       "array([[ 0.26225745,  0.09181028,  1.31648341,  0.01883562,  0.10182164],\n",
       "       [-1.4633359 , -0.9076622 , -0.02398207,  0.01883562, -0.24797521],\n",
       "       [-0.27699047,  1.01440026,  3.07630414,  0.01883562,  0.30238614],\n",
       "       ...,\n",
       "       [-0.0612913 ,  0.55310527, -0.68914201, -1.86472661, -0.36862257],\n",
       "       [-0.38484006,  2.55205023, -0.61805652, -0.9229455 ,  0.03941783],\n",
       "       [-1.13978715, -0.44636721,  0.77060048,  1.90239786,  0.03398266]])"
      ]
     },
     "execution_count": 269,
     "metadata": {},
     "output_type": "execute_result"
    }
   ],
   "source": [
    "x_test"
   ]
  },
  {
   "cell_type": "code",
   "execution_count": 220,
   "metadata": {},
   "outputs": [
    {
     "data": {
      "text/plain": [
       "array([0, 0, 0, ..., 0, 0, 0], dtype=int64)"
      ]
     },
     "execution_count": 220,
     "metadata": {},
     "output_type": "execute_result"
    }
   ],
   "source": [
    "target"
   ]
  },
  {
   "cell_type": "code",
   "execution_count": 221,
   "metadata": {},
   "outputs": [],
   "source": [
    "submission = pd.DataFrame({'id': id2, 'Target': target})\n",
    "# you could use any filename. We choose submission here\n",
    "submission.to_csv('submission6.csv', index=False)"
   ]
  },
  {
   "cell_type": "code",
   "execution_count": 113,
   "metadata": {},
   "outputs": [
    {
     "data": {
      "text/plain": [
       "XGBClassifier(base_score=0.5, booster='gbtree', colsample_bylevel=1,\n",
       "              colsample_bynode=1, colsample_bytree=1, gamma=0,\n",
       "              learning_rate=0.1, max_delta_step=0, max_depth=3,\n",
       "              min_child_weight=1, missing=None, n_estimators=100, n_jobs=1,\n",
       "              nthread=None, objective='binary:logistic', random_state=0,\n",
       "              reg_alpha=0, reg_lambda=1, scale_pos_weight=1, seed=None,\n",
       "              silent=None, subsample=1, verbosity=1)"
      ]
     },
     "execution_count": 113,
     "metadata": {},
     "output_type": "execute_result"
    }
   ],
   "source": [
    "from xgboost import XGBClassifier\n",
    "xgb = XGBClassifier()\n",
    "xgb.fit(X_train, y_train)"
   ]
  },
  {
   "cell_type": "code",
   "execution_count": 116,
   "metadata": {},
   "outputs": [],
   "source": [
    "y_pred = xgb.predict(X_test)"
   ]
  },
  {
   "cell_type": "code",
   "execution_count": 117,
   "metadata": {},
   "outputs": [],
   "source": [
    "from sklearn.metrics import confusion_matrix\n",
    "cm = confusion_matrix(y_test, y_pred)"
   ]
  },
  {
   "cell_type": "code",
   "execution_count": 118,
   "metadata": {},
   "outputs": [
    {
     "data": {
      "text/plain": [
       "array([[2106,  109],\n",
       "       [ 414,  171]], dtype=int64)"
      ]
     },
     "execution_count": 118,
     "metadata": {},
     "output_type": "execute_result"
    }
   ],
   "source": [
    "cm"
   ]
  },
  {
   "cell_type": "code",
   "execution_count": 119,
   "metadata": {},
   "outputs": [
    {
     "name": "stdout",
     "output_type": "stream",
     "text": [
      "Cross Validation Accuracy :  81.73 %\n"
     ]
    }
   ],
   "source": [
    "from sklearn.model_selection import cross_val_score\n",
    "cross_val_svc = cross_val_score(estimator = xgb, X = X_train, y = y_train, cv = 10, n_jobs = -1)\n",
    "print(\"Cross Validation Accuracy : \",round(cross_val_svc.mean() * 100 , 2),\"%\")\n"
   ]
  },
  {
   "cell_type": "code",
   "execution_count": 121,
   "metadata": {},
   "outputs": [],
   "source": [
    "target = xgb.predict(test_final)"
   ]
  },
  {
   "cell_type": "code",
   "execution_count": 140,
   "metadata": {},
   "outputs": [],
   "source": [
    "submission = pd.DataFrame({'id': id2, 'Target': target})\n",
    "# you could use any filename. We choose submission here\n",
    "submission.to_csv('submission3.csv', index=False)"
   ]
  },
  {
   "cell_type": "code",
   "execution_count": 123,
   "metadata": {},
   "outputs": [
    {
     "name": "stderr",
     "output_type": "stream",
     "text": [
      "Using TensorFlow backend.\n"
     ]
    },
    {
     "name": "stdout",
     "output_type": "stream",
     "text": [
      "Couldn't import dot_parser, loading of dot files will not be possible.\n"
     ]
    }
   ],
   "source": [
    "import keras\n",
    "from keras.models import Sequential\n",
    "from keras.layers import Dense"
   ]
  },
  {
   "cell_type": "code",
   "execution_count": 131,
   "metadata": {},
   "outputs": [
    {
     "name": "stdout",
     "output_type": "stream",
     "text": [
      "Epoch 1/100\n",
      "11200/11200 [==============================] - 1s 99us/step - loss: 0.5372 - accuracy: 0.7779\n",
      "Epoch 2/100\n",
      "11200/11200 [==============================] - 1s 90us/step - loss: 0.4803 - accuracy: 0.7785\n",
      "Epoch 3/100\n",
      "11200/11200 [==============================] - 1s 89us/step - loss: 0.4774 - accuracy: 0.7785\n",
      "Epoch 4/100\n",
      "11200/11200 [==============================] - 1s 93us/step - loss: 0.4756 - accuracy: 0.7785\n",
      "Epoch 5/100\n",
      "11200/11200 [==============================] - 1s 91us/step - loss: 0.4744 - accuracy: 0.7941\n",
      "Epoch 6/100\n",
      "11200/11200 [==============================] - 1s 90us/step - loss: 0.4736 - accuracy: 0.8066\n",
      "Epoch 7/100\n",
      "11200/11200 [==============================] - 1s 90us/step - loss: 0.4731 - accuracy: 0.8077\n",
      "Epoch 8/100\n",
      "11200/11200 [==============================] - 1s 91us/step - loss: 0.4727 - accuracy: 0.8096\n",
      "Epoch 9/100\n",
      "11200/11200 [==============================] - 1s 90us/step - loss: 0.4725 - accuracy: 0.8109\n",
      "Epoch 10/100\n",
      "11200/11200 [==============================] - 1s 92us/step - loss: 0.4723 - accuracy: 0.8110\n",
      "Epoch 11/100\n",
      "11200/11200 [==============================] - 1s 93us/step - loss: 0.4721 - accuracy: 0.8118\n",
      "Epoch 12/100\n",
      "11200/11200 [==============================] - 1s 92us/step - loss: 0.4722 - accuracy: 0.8120\n",
      "Epoch 13/100\n",
      "11200/11200 [==============================] - 1s 92us/step - loss: 0.4720 - accuracy: 0.8121\n",
      "Epoch 14/100\n",
      "11200/11200 [==============================] - 1s 92us/step - loss: 0.4718 - accuracy: 0.8125\n",
      "Epoch 15/100\n",
      "11200/11200 [==============================] - 1s 92us/step - loss: 0.4719 - accuracy: 0.8120\n",
      "Epoch 16/100\n",
      "11200/11200 [==============================] - 1s 93us/step - loss: 0.4719 - accuracy: 0.8127\n",
      "Epoch 17/100\n",
      "11200/11200 [==============================] - 1s 93us/step - loss: 0.4718 - accuracy: 0.8123\n",
      "Epoch 18/100\n",
      "11200/11200 [==============================] - 1s 92us/step - loss: 0.4717 - accuracy: 0.8128\n",
      "Epoch 19/100\n",
      "11200/11200 [==============================] - 1s 91us/step - loss: 0.4719 - accuracy: 0.8129\n",
      "Epoch 20/100\n",
      "11200/11200 [==============================] - 1s 94us/step - loss: 0.4717 - accuracy: 0.8129\n",
      "Epoch 21/100\n",
      "11200/11200 [==============================] - 1s 92us/step - loss: 0.4718 - accuracy: 0.8141\n",
      "Epoch 22/100\n",
      "11200/11200 [==============================] - 1s 91us/step - loss: 0.4718 - accuracy: 0.8129\n",
      "Epoch 23/100\n",
      "11200/11200 [==============================] - 1s 91us/step - loss: 0.4717 - accuracy: 0.8129\n",
      "Epoch 24/100\n",
      "11200/11200 [==============================] - 1s 93us/step - loss: 0.4717 - accuracy: 0.8128\n",
      "Epoch 25/100\n",
      "11200/11200 [==============================] - 1s 96us/step - loss: 0.4717 - accuracy: 0.8131\n",
      "Epoch 26/100\n",
      "11200/11200 [==============================] - 1s 91us/step - loss: 0.4717 - accuracy: 0.8126\n",
      "Epoch 27/100\n",
      "11200/11200 [==============================] - 1s 92us/step - loss: 0.4716 - accuracy: 0.8136\n",
      "Epoch 28/100\n",
      "11200/11200 [==============================] - 1s 93us/step - loss: 0.4716 - accuracy: 0.8132\n",
      "Epoch 29/100\n",
      "11200/11200 [==============================] - 1s 93us/step - loss: 0.4716 - accuracy: 0.8125\n",
      "Epoch 30/100\n",
      "11200/11200 [==============================] - 1s 92us/step - loss: 0.4717 - accuracy: 0.8128\n",
      "Epoch 31/100\n",
      "11200/11200 [==============================] - 1s 94us/step - loss: 0.4716 - accuracy: 0.8128\n",
      "Epoch 32/100\n",
      "11200/11200 [==============================] - 1s 91us/step - loss: 0.4717 - accuracy: 0.8138\n",
      "Epoch 33/100\n",
      "11200/11200 [==============================] - 1s 90us/step - loss: 0.4714 - accuracy: 0.8126\n",
      "Epoch 34/100\n",
      "11200/11200 [==============================] - 1s 94us/step - loss: 0.4717 - accuracy: 0.8139\n",
      "Epoch 35/100\n",
      "11200/11200 [==============================] - 1s 91us/step - loss: 0.4716 - accuracy: 0.8124\n",
      "Epoch 36/100\n",
      "11200/11200 [==============================] - 1s 92us/step - loss: 0.4716 - accuracy: 0.8121\n",
      "Epoch 37/100\n",
      "11200/11200 [==============================] - 1s 94us/step - loss: 0.4715 - accuracy: 0.8134\n",
      "Epoch 38/100\n",
      "11200/11200 [==============================] - 1s 92us/step - loss: 0.4714 - accuracy: 0.8133\n",
      "Epoch 39/100\n",
      "11200/11200 [==============================] - 1s 92us/step - loss: 0.4717 - accuracy: 0.8134\n",
      "Epoch 40/100\n",
      "11200/11200 [==============================] - 1s 93us/step - loss: 0.4714 - accuracy: 0.8116\n",
      "Epoch 41/100\n",
      "11200/11200 [==============================] - 1s 92us/step - loss: 0.4716 - accuracy: 0.8125\n",
      "Epoch 42/100\n",
      "11200/11200 [==============================] - 1s 91us/step - loss: 0.4715 - accuracy: 0.8131\n",
      "Epoch 43/100\n",
      "11200/11200 [==============================] - 1s 94us/step - loss: 0.4717 - accuracy: 0.8131\n",
      "Epoch 44/100\n",
      "11200/11200 [==============================] - 1s 95us/step - loss: 0.4716 - accuracy: 0.8127\n",
      "Epoch 45/100\n",
      "11200/11200 [==============================] - 1s 94us/step - loss: 0.4715 - accuracy: 0.8129\n",
      "Epoch 46/100\n",
      "11200/11200 [==============================] - 1s 96us/step - loss: 0.4714 - accuracy: 0.8136\n",
      "Epoch 47/100\n",
      "11200/11200 [==============================] - 1s 97us/step - loss: 0.4714 - accuracy: 0.8132\n",
      "Epoch 48/100\n",
      "11200/11200 [==============================] - 1s 93us/step - loss: 0.4716 - accuracy: 0.8131\n",
      "Epoch 49/100\n",
      "11200/11200 [==============================] - 1s 95us/step - loss: 0.4715 - accuracy: 0.8133\n",
      "Epoch 50/100\n",
      "11200/11200 [==============================] - 1s 98us/step - loss: 0.4715 - accuracy: 0.8130\n",
      "Epoch 51/100\n",
      "11200/11200 [==============================] - 1s 94us/step - loss: 0.4715 - accuracy: 0.8127\n",
      "Epoch 52/100\n",
      "11200/11200 [==============================] - 1s 95us/step - loss: 0.4715 - accuracy: 0.8111\n",
      "Epoch 53/100\n",
      "11200/11200 [==============================] - 1s 93us/step - loss: 0.4713 - accuracy: 0.8128\n",
      "Epoch 54/100\n",
      "11200/11200 [==============================] - 1s 95us/step - loss: 0.4715 - accuracy: 0.8128\n",
      "Epoch 55/100\n",
      "11200/11200 [==============================] - 1s 95us/step - loss: 0.4714 - accuracy: 0.8125\n",
      "Epoch 56/100\n",
      "11200/11200 [==============================] - 1s 97us/step - loss: 0.4714 - accuracy: 0.8130\n",
      "Epoch 57/100\n",
      "11200/11200 [==============================] - 1s 103us/step - loss: 0.4715 - accuracy: 0.8132\n",
      "Epoch 58/100\n",
      "11200/11200 [==============================] - 1s 99us/step - loss: 0.4714 - accuracy: 0.8127\n",
      "Epoch 59/100\n",
      "11200/11200 [==============================] - 1s 93us/step - loss: 0.4715 - accuracy: 0.8130\n",
      "Epoch 60/100\n",
      "11200/11200 [==============================] - 1s 94us/step - loss: 0.4715 - accuracy: 0.8125\n",
      "Epoch 61/100\n",
      "11200/11200 [==============================] - 1s 97us/step - loss: 0.4714 - accuracy: 0.8131\n",
      "Epoch 62/100\n",
      "11200/11200 [==============================] - 1s 95us/step - loss: 0.4714 - accuracy: 0.8134\n",
      "Epoch 63/100\n",
      "11200/11200 [==============================] - 1s 96us/step - loss: 0.4716 - accuracy: 0.8120\n",
      "Epoch 64/100\n",
      "11200/11200 [==============================] - 1s 97us/step - loss: 0.4714 - accuracy: 0.8133\n",
      "Epoch 65/100\n",
      "11200/11200 [==============================] - 1s 97us/step - loss: 0.4716 - accuracy: 0.8121\n",
      "Epoch 66/100\n",
      "11200/11200 [==============================] - 1s 94us/step - loss: 0.4714 - accuracy: 0.8121\n",
      "Epoch 67/100\n",
      "11200/11200 [==============================] - 1s 95us/step - loss: 0.4713 - accuracy: 0.8128\n",
      "Epoch 68/100\n",
      "11200/11200 [==============================] - 1s 92us/step - loss: 0.4713 - accuracy: 0.8123\n",
      "Epoch 69/100\n",
      "11200/11200 [==============================] - 1s 95us/step - loss: 0.4714 - accuracy: 0.8122\n",
      "Epoch 70/100\n",
      "11200/11200 [==============================] - 1s 98us/step - loss: 0.4715 - accuracy: 0.8129\n",
      "Epoch 71/100\n",
      "11200/11200 [==============================] - 1s 93us/step - loss: 0.4714 - accuracy: 0.8135\n",
      "Epoch 72/100\n",
      "11200/11200 [==============================] - 1s 91us/step - loss: 0.4713 - accuracy: 0.8121\n",
      "Epoch 73/100\n",
      "11200/11200 [==============================] - 1s 94us/step - loss: 0.4714 - accuracy: 0.8136\n",
      "Epoch 74/100\n",
      "11200/11200 [==============================] - 1s 93us/step - loss: 0.4714 - accuracy: 0.8129\n",
      "Epoch 75/100\n",
      "11200/11200 [==============================] - 1s 90us/step - loss: 0.4713 - accuracy: 0.8127\n",
      "Epoch 76/100\n",
      "11200/11200 [==============================] - 1s 93us/step - loss: 0.4714 - accuracy: 0.8123\n",
      "Epoch 77/100\n",
      "11200/11200 [==============================] - 1s 92us/step - loss: 0.4713 - accuracy: 0.8122\n",
      "Epoch 78/100\n",
      "11200/11200 [==============================] - 1s 91us/step - loss: 0.4714 - accuracy: 0.8127\n",
      "Epoch 79/100\n",
      "11200/11200 [==============================] - 1s 91us/step - loss: 0.4713 - accuracy: 0.8130\n",
      "Epoch 80/100\n",
      "11200/11200 [==============================] - 1s 90us/step - loss: 0.4714 - accuracy: 0.8125\n",
      "Epoch 81/100\n",
      "11200/11200 [==============================] - 1s 90us/step - loss: 0.4714 - accuracy: 0.8137\n",
      "Epoch 82/100\n",
      "11200/11200 [==============================] - 1s 91us/step - loss: 0.4713 - accuracy: 0.8127\n",
      "Epoch 83/100\n",
      "11200/11200 [==============================] - 1s 90us/step - loss: 0.4713 - accuracy: 0.8129\n",
      "Epoch 84/100\n",
      "11200/11200 [==============================] - 1s 90us/step - loss: 0.4713 - accuracy: 0.8133\n",
      "Epoch 85/100\n",
      "11200/11200 [==============================] - 1s 90us/step - loss: 0.4714 - accuracy: 0.8120\n",
      "Epoch 86/100\n",
      "11200/11200 [==============================] - 1s 89us/step - loss: 0.4714 - accuracy: 0.8129\n",
      "Epoch 87/100\n",
      "11200/11200 [==============================] - 1s 90us/step - loss: 0.4714 - accuracy: 0.8132\n",
      "Epoch 88/100\n",
      "11200/11200 [==============================] - 1s 88us/step - loss: 0.4713 - accuracy: 0.8120\n",
      "Epoch 89/100\n",
      "11200/11200 [==============================] - 1s 88us/step - loss: 0.4714 - accuracy: 0.8127\n",
      "Epoch 90/100\n",
      "11200/11200 [==============================] - 1s 90us/step - loss: 0.4712 - accuracy: 0.8123\n",
      "Epoch 91/100\n",
      "11200/11200 [==============================] - 1s 88us/step - loss: 0.4713 - accuracy: 0.8134 0s\n",
      "Epoch 92/100\n",
      "11200/11200 [==============================] - 1s 88us/step - loss: 0.4714 - accuracy: 0.8129\n",
      "Epoch 93/100\n",
      "11200/11200 [==============================] - 1s 87us/step - loss: 0.4713 - accuracy: 0.8129\n",
      "Epoch 94/100\n",
      "11200/11200 [==============================] - 1s 86us/step - loss: 0.4714 - accuracy: 0.8130\n",
      "Epoch 95/100\n",
      "11200/11200 [==============================] - 1s 89us/step - loss: 0.4714 - accuracy: 0.8123\n",
      "Epoch 96/100\n",
      "11200/11200 [==============================] - 1s 89us/step - loss: 0.4712 - accuracy: 0.8121\n",
      "Epoch 97/100\n",
      "11200/11200 [==============================] - 1s 86us/step - loss: 0.4715 - accuracy: 0.8135\n",
      "Epoch 98/100\n",
      "11200/11200 [==============================] - 1s 87us/step - loss: 0.4715 - accuracy: 0.8136\n",
      "Epoch 99/100\n",
      "11200/11200 [==============================] - 1s 87us/step - loss: 0.4714 - accuracy: 0.8126\n",
      "Epoch 100/100\n",
      "11200/11200 [==============================] - 1s 87us/step - loss: 0.4714 - accuracy: 0.8125\n"
     ]
    },
    {
     "data": {
      "text/plain": [
       "<keras.callbacks.callbacks.History at 0x20881c1a448>"
      ]
     },
     "execution_count": 131,
     "metadata": {},
     "output_type": "execute_result"
    }
   ],
   "source": [
    "classifier = Sequential()\n",
    "\n",
    "# Adding the input layer and the first hidden layer\n",
    "classifier.add(Dense(units = 3, kernel_initializer = 'uniform', activation = 'relu', input_dim = 5))\n",
    "\n",
    "# Adding the second hidden layer\n",
    "\n",
    "\n",
    "# Adding the output layer\n",
    "classifier.add(Dense(units = 1, kernel_initializer = 'uniform', activation = 'sigmoid'))\n",
    "\n",
    "# Compiling the ANN\n",
    "classifier.compile(optimizer = 'adam', loss = 'binary_crossentropy', metrics = ['accuracy'])\n",
    "\n",
    "# Fitting the ANN to the Training set\n",
    "classifier.fit(X_train, y_train, batch_size = 10, epochs = 100)"
   ]
  },
  {
   "cell_type": "code",
   "execution_count": 132,
   "metadata": {},
   "outputs": [],
   "source": [
    "y_pred = classifier.predict(X_test)"
   ]
  },
  {
   "cell_type": "code",
   "execution_count": 126,
   "metadata": {},
   "outputs": [
    {
     "ename": "ValueError",
     "evalue": "Classification metrics can't handle a mix of binary and continuous targets",
     "output_type": "error",
     "traceback": [
      "\u001b[1;31m---------------------------------------------------------------------------\u001b[0m",
      "\u001b[1;31mValueError\u001b[0m                                Traceback (most recent call last)",
      "\u001b[1;32m<ipython-input-126-9aea565ff4c1>\u001b[0m in \u001b[0;36m<module>\u001b[1;34m\u001b[0m\n\u001b[0;32m      1\u001b[0m \u001b[1;32mfrom\u001b[0m \u001b[0msklearn\u001b[0m\u001b[1;33m.\u001b[0m\u001b[0mmetrics\u001b[0m \u001b[1;32mimport\u001b[0m \u001b[0mconfusion_matrix\u001b[0m\u001b[1;33m\u001b[0m\u001b[1;33m\u001b[0m\u001b[0m\n\u001b[1;32m----> 2\u001b[1;33m \u001b[0mcm\u001b[0m \u001b[1;33m=\u001b[0m \u001b[0mconfusion_matrix\u001b[0m\u001b[1;33m(\u001b[0m\u001b[0my_test\u001b[0m\u001b[1;33m,\u001b[0m \u001b[0my_pred\u001b[0m\u001b[1;33m)\u001b[0m\u001b[1;33m\u001b[0m\u001b[1;33m\u001b[0m\u001b[0m\n\u001b[0m",
      "\u001b[1;32mC:\\Anaconda\\lib\\site-packages\\sklearn\\metrics\\classification.py\u001b[0m in \u001b[0;36mconfusion_matrix\u001b[1;34m(y_true, y_pred, labels, sample_weight)\u001b[0m\n\u001b[0;32m    251\u001b[0m \u001b[1;33m\u001b[0m\u001b[0m\n\u001b[0;32m    252\u001b[0m     \"\"\"\n\u001b[1;32m--> 253\u001b[1;33m     \u001b[0my_type\u001b[0m\u001b[1;33m,\u001b[0m \u001b[0my_true\u001b[0m\u001b[1;33m,\u001b[0m \u001b[0my_pred\u001b[0m \u001b[1;33m=\u001b[0m \u001b[0m_check_targets\u001b[0m\u001b[1;33m(\u001b[0m\u001b[0my_true\u001b[0m\u001b[1;33m,\u001b[0m \u001b[0my_pred\u001b[0m\u001b[1;33m)\u001b[0m\u001b[1;33m\u001b[0m\u001b[1;33m\u001b[0m\u001b[0m\n\u001b[0m\u001b[0;32m    254\u001b[0m     \u001b[1;32mif\u001b[0m \u001b[0my_type\u001b[0m \u001b[1;32mnot\u001b[0m \u001b[1;32min\u001b[0m \u001b[1;33m(\u001b[0m\u001b[1;34m\"binary\"\u001b[0m\u001b[1;33m,\u001b[0m \u001b[1;34m\"multiclass\"\u001b[0m\u001b[1;33m)\u001b[0m\u001b[1;33m:\u001b[0m\u001b[1;33m\u001b[0m\u001b[1;33m\u001b[0m\u001b[0m\n\u001b[0;32m    255\u001b[0m         \u001b[1;32mraise\u001b[0m \u001b[0mValueError\u001b[0m\u001b[1;33m(\u001b[0m\u001b[1;34m\"%s is not supported\"\u001b[0m \u001b[1;33m%\u001b[0m \u001b[0my_type\u001b[0m\u001b[1;33m)\u001b[0m\u001b[1;33m\u001b[0m\u001b[1;33m\u001b[0m\u001b[0m\n",
      "\u001b[1;32mC:\\Anaconda\\lib\\site-packages\\sklearn\\metrics\\classification.py\u001b[0m in \u001b[0;36m_check_targets\u001b[1;34m(y_true, y_pred)\u001b[0m\n\u001b[0;32m     79\u001b[0m     \u001b[1;32mif\u001b[0m \u001b[0mlen\u001b[0m\u001b[1;33m(\u001b[0m\u001b[0my_type\u001b[0m\u001b[1;33m)\u001b[0m \u001b[1;33m>\u001b[0m \u001b[1;36m1\u001b[0m\u001b[1;33m:\u001b[0m\u001b[1;33m\u001b[0m\u001b[1;33m\u001b[0m\u001b[0m\n\u001b[0;32m     80\u001b[0m         raise ValueError(\"Classification metrics can't handle a mix of {0} \"\n\u001b[1;32m---> 81\u001b[1;33m                          \"and {1} targets\".format(type_true, type_pred))\n\u001b[0m\u001b[0;32m     82\u001b[0m \u001b[1;33m\u001b[0m\u001b[0m\n\u001b[0;32m     83\u001b[0m     \u001b[1;31m# We can't have more than one value on y_type => The set is no more needed\u001b[0m\u001b[1;33m\u001b[0m\u001b[1;33m\u001b[0m\u001b[1;33m\u001b[0m\u001b[0m\n",
      "\u001b[1;31mValueError\u001b[0m: Classification metrics can't handle a mix of binary and continuous targets"
     ]
    }
   ],
   "source": [
    "from sklearn.metrics import confusion_matrix\n",
    "cm = confusion_matrix(y_test, y_pred)\n"
   ]
  },
  {
   "cell_type": "code",
   "execution_count": 138,
   "metadata": {},
   "outputs": [],
   "source": [
    "target = classifier.predict(test_final)\n",
    "target = (target > 0.5)"
   ]
  },
  {
   "cell_type": "code",
   "execution_count": 139,
   "metadata": {},
   "outputs": [],
   "source": [
    "from sklearn.preprocessing import LabelEncoder, OneHotEncoder\n",
    "labelencoder_X = LabelEncoder()\n",
    "target = labelencoder_X.fit_transform(target)"
   ]
  },
  {
   "cell_type": "code",
   "execution_count": 135,
   "metadata": {},
   "outputs": [],
   "source": [
    "from sklearn.metrics import confusion_matrix\n",
    "cm = confusion_matrix(y_test, y_pred)"
   ]
  },
  {
   "cell_type": "code",
   "execution_count": 136,
   "metadata": {},
   "outputs": [
    {
     "data": {
      "text/plain": [
       "array([[2135,   80],\n",
       "       [ 453,  132]], dtype=int64)"
      ]
     },
     "execution_count": 136,
     "metadata": {},
     "output_type": "execute_result"
    }
   ],
   "source": [
    "cm"
   ]
  },
  {
   "cell_type": "code",
   "execution_count": 137,
   "metadata": {},
   "outputs": [
    {
     "name": "stdout",
     "output_type": "stream",
     "text": [
      "Accuracy :  80.96 %\n"
     ]
    }
   ],
   "source": [
    "numerator = cm[0][0] + cm[1][1]\n",
    "denominator = sum(cm[0]) + sum(cm[1])\n",
    "acc_svc = (numerator/denominator) * 100\n",
    "print(\"Accuracy : \",round(acc_svc,2),\"%\")"
   ]
  },
  {
   "cell_type": "code",
   "execution_count": 152,
   "metadata": {},
   "outputs": [],
   "source": [
    "import numpy as np\n",
    "seed = 222\n",
    "np.random.seed(seed)\n",
    "from sklearn.svm import SVC, LinearSVC\n",
    "from sklearn.naive_bayes import GaussianNB\n",
    "from sklearn.ensemble import RandomForestClassifier, GradientBoostingClassifier\n",
    "from sklearn.linear_model import LogisticRegression\n",
    "from sklearn.neighbors import KNeighborsClassifier\n",
    "from sklearn.neural_network import MLPClassifier\n",
    "from sklearn.kernel_approximation import Nystroem\n",
    "from sklearn.kernel_approximation import RBFSampler\n",
    "from sklearn.pipeline import make_pipeline\n",
    "from sklearn.metrics import roc_auc_score\n",
    "\n",
    "\n",
    "def get_models():\n",
    "    \"\"\"Generate a library of base learners.\"\"\"\n",
    "    nb = GaussianNB()\n",
    "    svc = SVC(C=100, probability=True)\n",
    "    knn = KNeighborsClassifier(n_neighbors=3)\n",
    "    lr = LogisticRegression(C=100, random_state=seed)\n",
    "    nn = MLPClassifier((80, 10), early_stopping=False, random_state=seed)\n",
    "    gb = GradientBoostingClassifier(n_estimators=100, random_state=seed)\n",
    "    rf = RandomForestClassifier(n_estimators=10, max_features=3, random_state=seed)\n",
    "\n",
    "    models = {'svm': svc,\n",
    "              'knn': knn,\n",
    "              'naive bayes': nb,\n",
    "              'mlp-nn': nn,\n",
    "              'random forest': rf,\n",
    "              'gbm': gb,\n",
    "              'logistic': lr,\n",
    "              }\n",
    "\n",
    "    return models\n",
    "\n",
    "\n",
    "def train_predict(model_list):\n",
    "    \"\"\"Fit models in list on training set and return preds\"\"\"\n",
    "    P = np.zeros((y_test.shape[0], len(model_list)))\n",
    "    P = pd.DataFrame(P)\n",
    "\n",
    "    print(\"Fitting models.\")\n",
    "    cols = list()\n",
    "    for i, (name, m) in enumerate(models.items()):\n",
    "        print(\"%s...\" % name, end=\" \", flush=False)\n",
    "        m.fit(X_train, y_train)\n",
    "        P.iloc[:, i] = m.predict_proba(X_test)[:, 1]\n",
    "        cols.append(name)\n",
    "        print(\"done\")\n",
    "\n",
    "    P.columns = cols\n",
    "    print(\"Done.\\n\")\n",
    "    return P\n",
    "\n",
    "\n",
    "def score_models(P, y):\n",
    "    \"\"\"Score model in prediction DF\"\"\"\n",
    "    print(\"Scoring models.\")\n",
    "    for m in P.columns:\n",
    "        score = roc_auc_score(y, P.loc[:, m])\n",
    "        print(\"%-26s: %.3f\" % (m, score))\n",
    "    print(\"Done.\\n\")"
   ]
  },
  {
   "cell_type": "code",
   "execution_count": 153,
   "metadata": {},
   "outputs": [
    {
     "name": "stdout",
     "output_type": "stream",
     "text": [
      "Fitting models.\n",
      "svm... done\n",
      "knn... done\n",
      "naive bayes... done\n",
      "mlp-nn... done\n",
      "random forest... done\n",
      "gbm... done\n",
      "logistic... done\n",
      "Done.\n",
      "\n",
      "Scoring models.\n",
      "svm                       : 0.691\n",
      "knn                       : 0.647\n",
      "naive bayes               : 0.703\n",
      "mlp-nn                    : 0.728\n",
      "random forest             : 0.668\n",
      "gbm                       : 0.731\n",
      "logistic                  : 0.695\n",
      "Done.\n",
      "\n"
     ]
    },
    {
     "name": "stderr",
     "output_type": "stream",
     "text": [
      "C:\\Anaconda\\lib\\site-packages\\sklearn\\linear_model\\logistic.py:432: FutureWarning: Default solver will be changed to 'lbfgs' in 0.22. Specify a solver to silence this warning.\n",
      "  FutureWarning)\n"
     ]
    }
   ],
   "source": [
    "models = get_models()\n",
    "P = train_predict(models)\n",
    "score_models(P, y_test)"
   ]
  },
  {
   "cell_type": "code",
   "execution_count": 154,
   "metadata": {},
   "outputs": [
    {
     "ename": "ModuleNotFoundError",
     "evalue": "No module named 'mlens'",
     "output_type": "error",
     "traceback": [
      "\u001b[1;31m---------------------------------------------------------------------------\u001b[0m",
      "\u001b[1;31mModuleNotFoundError\u001b[0m                       Traceback (most recent call last)",
      "\u001b[1;32m<ipython-input-154-c86ddde5ec94>\u001b[0m in \u001b[0;36m<module>\u001b[1;34m\u001b[0m\n\u001b[1;32m----> 1\u001b[1;33m \u001b[1;32mfrom\u001b[0m \u001b[0mmlens\u001b[0m\u001b[1;33m.\u001b[0m\u001b[0mvisualization\u001b[0m \u001b[1;32mimport\u001b[0m \u001b[0mcorrmat\u001b[0m\u001b[1;33m\u001b[0m\u001b[1;33m\u001b[0m\u001b[0m\n\u001b[0m\u001b[0;32m      2\u001b[0m \u001b[1;33m\u001b[0m\u001b[0m\n\u001b[0;32m      3\u001b[0m \u001b[0mcorrmat\u001b[0m\u001b[1;33m(\u001b[0m\u001b[0mP\u001b[0m\u001b[1;33m.\u001b[0m\u001b[0mcorr\u001b[0m\u001b[1;33m(\u001b[0m\u001b[1;33m)\u001b[0m\u001b[1;33m,\u001b[0m \u001b[0minflate\u001b[0m\u001b[1;33m=\u001b[0m\u001b[1;32mFalse\u001b[0m\u001b[1;33m)\u001b[0m\u001b[1;33m\u001b[0m\u001b[1;33m\u001b[0m\u001b[0m\n\u001b[0;32m      4\u001b[0m \u001b[0mplt\u001b[0m\u001b[1;33m.\u001b[0m\u001b[0mshow\u001b[0m\u001b[1;33m(\u001b[0m\u001b[1;33m)\u001b[0m\u001b[1;33m\u001b[0m\u001b[1;33m\u001b[0m\u001b[0m\n",
      "\u001b[1;31mModuleNotFoundError\u001b[0m: No module named 'mlens'"
     ]
    }
   ],
   "source": [
    "from mlens.visualization import corrmat\n",
    "\n",
    "corrmat(P.corr(), inflate=False)\n",
    "plt.show()"
   ]
  },
  {
   "cell_type": "code",
   "execution_count": 155,
   "metadata": {},
   "outputs": [],
   "source": [
    "import pydotplus  # you can install pydotplus with: pip install pydotplus\n",
    "from IPython.display import Image\n",
    "from sklearn.metrics import roc_auc_score\n",
    "from sklearn.tree import DecisionTreeClassifier, export_graphviz"
   ]
  },
  {
   "cell_type": "code",
   "execution_count": 158,
   "metadata": {},
   "outputs": [
    {
     "data": {
      "image/png": "[encoded data removed]",
      "text/plain": [
       "<Figure size 1100x900 with 2 Axes>"
      ]
     },
     "metadata": {},
     "output_type": "display_data"
    }
   ],
   "source": [
    "import matplotlib.pyplot as plt\n",
    "from mlens.visualization import corrmat\n",
    "\n",
    "corrmat(P.corr(), inflate=False)\n",
    "plt.show()"
   ]
  },
  {
   "cell_type": "code",
   "execution_count": 160,
   "metadata": {},
   "outputs": [
    {
     "name": "stdout",
     "output_type": "stream",
     "text": [
      "Ensemble ROC-AUC score: 0.714\n"
     ]
    }
   ],
   "source": [
    "print(\"Ensemble ROC-AUC score: %.3f\" % roc_auc_score(y_test, P.mean(axis=1)))\n"
   ]
  },
  {
   "cell_type": "code",
   "execution_count": 161,
   "metadata": {},
   "outputs": [
    {
     "name": "stdout",
     "output_type": "stream",
     "text": [
      "Truncated ensemble ROC-AUC score: 0.709\n"
     ]
    }
   ],
   "source": [
    "include = [c for c in P.columns if c not in [\"mlp-nn\"]]\n",
    "print(\"Truncated ensemble ROC-AUC score: %.3f\" % roc_auc_score(y_test, P.loc[:, include].mean(axis=1)))"
   ]
  },
  {
   "cell_type": "code",
   "execution_count": 162,
   "metadata": {},
   "outputs": [],
   "source": [
    "base_learners = get_models()\n",
    "meta_learner = GradientBoostingClassifier(\n",
    "    n_estimators=1000,\n",
    "    loss=\"exponential\",\n",
    "    max_features=4,\n",
    "    max_depth=3,\n",
    "    subsample=0.5,\n",
    "    learning_rate=0.005,\n",
    "    random_state=SEED)"
   ]
  },
  {
   "cell_type": "code",
   "execution_count": 164,
   "metadata": {},
   "outputs": [],
   "source": [
    "xtrain_base, xpred_base, ytrain_base, ypred_base = train_test_split(\n",
    "    X_train, y_train, test_size=0.5, random_state=SEED)"
   ]
  },
  {
   "cell_type": "code",
   "execution_count": 165,
   "metadata": {},
   "outputs": [],
   "source": [
    "def train_base_learners(base_learners, inp, out, verbose=True):\n",
    "    \"\"\"\n",
    "    Train all base learners in the library.\n",
    "    \"\"\"\n",
    "    if verbose: print(\"Fitting models.\")\n",
    "    for i, (name, m) in enumerate(base_learners.items()):\n",
    "        if verbose: print(\"%s...\" % name, end=\" \", flush=False)\n",
    "        m.fit(inp, out)\n",
    "        if verbose: print(\"done\")"
   ]
  },
  {
   "cell_type": "code",
   "execution_count": 166,
   "metadata": {},
   "outputs": [
    {
     "name": "stdout",
     "output_type": "stream",
     "text": [
      "Fitting models.\n",
      "svm... "
     ]
    },
    {
     "name": "stderr",
     "output_type": "stream",
     "text": [
      "C:\\Anaconda\\lib\\site-packages\\sklearn\\svm\\base.py:193: FutureWarning: The default value of gamma will change from 'auto' to 'scale' in version 0.22 to account better for unscaled features. Set gamma explicitly to 'auto' or 'scale' to avoid this warning.\n",
      "  \"avoid this warning.\", FutureWarning)\n"
     ]
    },
    {
     "name": "stdout",
     "output_type": "stream",
     "text": [
      "done\n",
      "knn... done\n",
      "naive bayes... done\n",
      "mlp-nn... done\n",
      "random forest... done\n",
      "gbm... done\n",
      "logistic... done\n"
     ]
    },
    {
     "name": "stderr",
     "output_type": "stream",
     "text": [
      "C:\\Anaconda\\lib\\site-packages\\sklearn\\linear_model\\logistic.py:432: FutureWarning: Default solver will be changed to 'lbfgs' in 0.22. Specify a solver to silence this warning.\n",
      "  FutureWarning)\n"
     ]
    }
   ],
   "source": [
    "train_base_learners(base_learners, xtrain_base, ytrain_base)"
   ]
  },
  {
   "cell_type": "code",
   "execution_count": 167,
   "metadata": {},
   "outputs": [],
   "source": [
    "def predict_base_learners(pred_base_learners, inp, verbose=True):\n",
    "    \"\"\"\n",
    "    Generate a prediction matrix.\n",
    "    \"\"\"\n",
    "    P = np.zeros((inp.shape[0], len(pred_base_learners)))\n",
    "\n",
    "    if verbose: print(\"Generating base learner predictions.\")\n",
    "    for i, (name, m) in enumerate(pred_base_learners.items()):\n",
    "        if verbose: print(\"%s...\" % name, end=\" \", flush=False)\n",
    "        p = m.predict_proba(inp)\n",
    "        # With two classes, need only predictions for one class\n",
    "        P[:, i] = p[:, 1]\n",
    "        if verbose: print(\"done\")\n",
    "\n",
    "    return P"
   ]
  },
  {
   "cell_type": "code",
   "execution_count": 168,
   "metadata": {},
   "outputs": [
    {
     "name": "stdout",
     "output_type": "stream",
     "text": [
      "Generating base learner predictions.\n",
      "svm... done\n",
      "knn... done\n",
      "naive bayes... done\n",
      "mlp-nn... done\n",
      "random forest... done\n",
      "gbm... done\n",
      "logistic... done\n"
     ]
    }
   ],
   "source": [
    "P_base = predict_base_learners(base_learners, xpred_base)"
   ]
  },
  {
   "cell_type": "code",
   "execution_count": 169,
   "metadata": {},
   "outputs": [
    {
     "data": {
      "text/plain": [
       "GradientBoostingClassifier(criterion='friedman_mse', init=None,\n",
       "                           learning_rate=0.005, loss='exponential', max_depth=3,\n",
       "                           max_features=4, max_leaf_nodes=None,\n",
       "                           min_impurity_decrease=0.0, min_impurity_split=None,\n",
       "                           min_samples_leaf=1, min_samples_split=2,\n",
       "                           min_weight_fraction_leaf=0.0, n_estimators=1000,\n",
       "                           n_iter_no_change=None, presort='auto',\n",
       "                           random_state=222, subsample=0.5, tol=0.0001,\n",
       "                           validation_fraction=0.1, verbose=0,\n",
       "                           warm_start=False)"
      ]
     },
     "execution_count": 169,
     "metadata": {},
     "output_type": "execute_result"
    }
   ],
   "source": [
    "meta_learner.fit(P_base, ypred_base)"
   ]
  },
  {
   "cell_type": "code",
   "execution_count": 170,
   "metadata": {},
   "outputs": [],
   "source": [
    "def ensemble_predict(base_learners, meta_learner, inp, verbose=True):\n",
    "    \"\"\"\n",
    "    Generate predictions from the ensemble.\n",
    "    \"\"\"\n",
    "    P_pred = predict_base_learners(base_learners, inp, verbose=verbose)\n",
    "    return P_pred, meta_learner.predict_proba(P_pred)[:, 1]"
   ]
  },
  {
   "cell_type": "code",
   "execution_count": 173,
   "metadata": {},
   "outputs": [
    {
     "name": "stdout",
     "output_type": "stream",
     "text": [
      "Generating base learner predictions.\n",
      "svm... done\n",
      "knn... done\n",
      "naive bayes... done\n",
      "mlp-nn... done\n",
      "random forest... done\n",
      "gbm... done\n",
      "logistic... done\n",
      "\n",
      "Ensemble ROC-AUC score: 0.728\n"
     ]
    }
   ],
   "source": [
    "P_pred, p = ensemble_predict(base_learners, meta_learner, X_test)\n",
    "print(\"\\nEnsemble ROC-AUC score: %.3f\" % roc_auc_score(y_test, p))"
   ]
  },
  {
   "cell_type": "code",
   "execution_count": 174,
   "metadata": {},
   "outputs": [],
   "source": [
    "from sklearn.base import clone\n",
    "\n",
    "def stacking(base_learners, meta_learner, X, y, generator):\n",
    "    \"\"\"Simple training routine for stacking.\"\"\"\n",
    "\n",
    "    # Train final base learners for test time\n",
    "    print(\"Fitting final base learners...\", end=\"\")\n",
    "    train_base_learners(base_learners, X, y, verbose=False)\n",
    "    print(\"done\")\n",
    "\n",
    "    # Generate predictions for training meta learners\n",
    "    # Outer loop:\n",
    "    print(\"Generating cross-validated predictions...\")\n",
    "    cv_preds, cv_y = [], []\n",
    "    for i, (train_idx, test_idx) in enumerate(generator.split(X)):\n",
    "\n",
    "        fold_xtrain, fold_ytrain = X[train_idx, :], y[train_idx]\n",
    "        fold_xtest, fold_ytest = X[test_idx, :], y[test_idx]\n",
    "\n",
    "        # Inner loop: step 4 and 5\n",
    "        fold_base_learners = {name: clone(model)\n",
    "                              for name, model in base_learners.items()}\n",
    "        train_base_learners(\n",
    "            fold_base_learners, fold_xtrain, fold_ytrain, verbose=False)\n",
    "\n",
    "        fold_P_base = predict_base_learners(\n",
    "            fold_base_learners, fold_xtest, verbose=False)\n",
    "\n",
    "        cv_preds.append(fold_P_base)\n",
    "        cv_y.append(fold_ytest)\n",
    "        print(\"Fold %i done\" % (i + 1))\n",
    "\n",
    "    print(\"CV-predictions done\")\n",
    "\n",
    "    # Be careful to get rows in the right order\n",
    "    cv_preds = np.vstack(cv_preds)\n",
    "    cv_y = np.hstack(cv_y)\n",
    "\n",
    "    # Train meta learner\n",
    "    print(\"Fitting meta learner...\", end=\"\")\n",
    "    meta_learner.fit(cv_preds, cv_y)\n",
    "    print(\"done\")\n",
    "\n",
    "    return base_learners, meta_learner"
   ]
  },
  {
   "cell_type": "code",
   "execution_count": 177,
   "metadata": {},
   "outputs": [
    {
     "name": "stdout",
     "output_type": "stream",
     "text": [
      "Fitting final base learners...done\n",
      "Generating cross-validated predictions...\n"
     ]
    },
    {
     "name": "stderr",
     "output_type": "stream",
     "text": [
      "C:\\Anaconda\\lib\\site-packages\\sklearn\\linear_model\\logistic.py:432: FutureWarning: Default solver will be changed to 'lbfgs' in 0.22. Specify a solver to silence this warning.\n",
      "  FutureWarning)\n",
      "C:\\Anaconda\\lib\\site-packages\\pandas\\core\\series.py:1146: FutureWarning: \n",
      "Passing list-likes to .loc or [] with any missing label will raise\n",
      "KeyError in the future, you can use .reindex() as an alternative.\n",
      "\n",
      "See the documentation here:\n",
      "https://pandas.pydata.org/pandas-docs/stable/user_guide/indexing.html#deprecate-loc-reindex-listlike\n",
      "  return self.loc[key]\n"
     ]
    },
    {
     "ename": "ValueError",
     "evalue": "Input contains NaN, infinity or a value too large for dtype('float64').",
     "output_type": "error",
     "traceback": [
      "\u001b[1;31m---------------------------------------------------------------------------\u001b[0m",
      "\u001b[1;31mValueError\u001b[0m                                Traceback (most recent call last)",
      "\u001b[1;32m<ipython-input-177-8eeee906ffe2>\u001b[0m in \u001b[0;36m<module>\u001b[1;34m\u001b[0m\n\u001b[0;32m      3\u001b[0m \u001b[1;31m# Train with stacking\u001b[0m\u001b[1;33m\u001b[0m\u001b[1;33m\u001b[0m\u001b[1;33m\u001b[0m\u001b[0m\n\u001b[0;32m      4\u001b[0m cv_base_learners, cv_meta_learner = stacking(\n\u001b[1;32m----> 5\u001b[1;33m     get_models(), clone(meta_learner), X_train, y_train, KFold(2))\n\u001b[0m\u001b[0;32m      6\u001b[0m \u001b[1;33m\u001b[0m\u001b[0m\n\u001b[0;32m      7\u001b[0m \u001b[0mP_pred\u001b[0m\u001b[1;33m,\u001b[0m \u001b[0mp\u001b[0m \u001b[1;33m=\u001b[0m \u001b[0mensemble_predict\u001b[0m\u001b[1;33m(\u001b[0m\u001b[0mcv_base_learners\u001b[0m\u001b[1;33m,\u001b[0m \u001b[0mcv_meta_learner\u001b[0m\u001b[1;33m,\u001b[0m \u001b[0mX_test\u001b[0m\u001b[1;33m,\u001b[0m \u001b[0mverbose\u001b[0m\u001b[1;33m=\u001b[0m\u001b[1;32mFalse\u001b[0m\u001b[1;33m)\u001b[0m\u001b[1;33m\u001b[0m\u001b[1;33m\u001b[0m\u001b[0m\n",
      "\u001b[1;32m<ipython-input-174-f22bd16e96e4>\u001b[0m in \u001b[0;36mstacking\u001b[1;34m(base_learners, meta_learner, X, y, generator)\u001b[0m\n\u001b[0;32m     22\u001b[0m                               for name, model in base_learners.items()}\n\u001b[0;32m     23\u001b[0m         train_base_learners(\n\u001b[1;32m---> 24\u001b[1;33m             fold_base_learners, fold_xtrain, fold_ytrain, verbose=False)\n\u001b[0m\u001b[0;32m     25\u001b[0m \u001b[1;33m\u001b[0m\u001b[0m\n\u001b[0;32m     26\u001b[0m         fold_P_base = predict_base_learners(\n",
      "\u001b[1;32m<ipython-input-165-d6a6b1634a5a>\u001b[0m in \u001b[0;36mtrain_base_learners\u001b[1;34m(base_learners, inp, out, verbose)\u001b[0m\n\u001b[0;32m      6\u001b[0m     \u001b[1;32mfor\u001b[0m \u001b[0mi\u001b[0m\u001b[1;33m,\u001b[0m \u001b[1;33m(\u001b[0m\u001b[0mname\u001b[0m\u001b[1;33m,\u001b[0m \u001b[0mm\u001b[0m\u001b[1;33m)\u001b[0m \u001b[1;32min\u001b[0m \u001b[0menumerate\u001b[0m\u001b[1;33m(\u001b[0m\u001b[0mbase_learners\u001b[0m\u001b[1;33m.\u001b[0m\u001b[0mitems\u001b[0m\u001b[1;33m(\u001b[0m\u001b[1;33m)\u001b[0m\u001b[1;33m)\u001b[0m\u001b[1;33m:\u001b[0m\u001b[1;33m\u001b[0m\u001b[1;33m\u001b[0m\u001b[0m\n\u001b[0;32m      7\u001b[0m         \u001b[1;32mif\u001b[0m \u001b[0mverbose\u001b[0m\u001b[1;33m:\u001b[0m \u001b[0mprint\u001b[0m\u001b[1;33m(\u001b[0m\u001b[1;34m\"%s...\"\u001b[0m \u001b[1;33m%\u001b[0m \u001b[0mname\u001b[0m\u001b[1;33m,\u001b[0m \u001b[0mend\u001b[0m\u001b[1;33m=\u001b[0m\u001b[1;34m\" \"\u001b[0m\u001b[1;33m,\u001b[0m \u001b[0mflush\u001b[0m\u001b[1;33m=\u001b[0m\u001b[1;32mFalse\u001b[0m\u001b[1;33m)\u001b[0m\u001b[1;33m\u001b[0m\u001b[1;33m\u001b[0m\u001b[0m\n\u001b[1;32m----> 8\u001b[1;33m         \u001b[0mm\u001b[0m\u001b[1;33m.\u001b[0m\u001b[0mfit\u001b[0m\u001b[1;33m(\u001b[0m\u001b[0minp\u001b[0m\u001b[1;33m,\u001b[0m \u001b[0mout\u001b[0m\u001b[1;33m)\u001b[0m\u001b[1;33m\u001b[0m\u001b[1;33m\u001b[0m\u001b[0m\n\u001b[0m\u001b[0;32m      9\u001b[0m         \u001b[1;32mif\u001b[0m \u001b[0mverbose\u001b[0m\u001b[1;33m:\u001b[0m \u001b[0mprint\u001b[0m\u001b[1;33m(\u001b[0m\u001b[1;34m\"done\"\u001b[0m\u001b[1;33m)\u001b[0m\u001b[1;33m\u001b[0m\u001b[1;33m\u001b[0m\u001b[0m\n",
      "\u001b[1;32mC:\\Anaconda\\lib\\site-packages\\sklearn\\svm\\base.py\u001b[0m in \u001b[0;36mfit\u001b[1;34m(self, X, y, sample_weight)\u001b[0m\n\u001b[0;32m    144\u001b[0m         X, y = check_X_y(X, y, dtype=np.float64,\n\u001b[0;32m    145\u001b[0m                          \u001b[0morder\u001b[0m\u001b[1;33m=\u001b[0m\u001b[1;34m'C'\u001b[0m\u001b[1;33m,\u001b[0m \u001b[0maccept_sparse\u001b[0m\u001b[1;33m=\u001b[0m\u001b[1;34m'csr'\u001b[0m\u001b[1;33m,\u001b[0m\u001b[1;33m\u001b[0m\u001b[1;33m\u001b[0m\u001b[0m\n\u001b[1;32m--> 146\u001b[1;33m                          accept_large_sparse=False)\n\u001b[0m\u001b[0;32m    147\u001b[0m         \u001b[0my\u001b[0m \u001b[1;33m=\u001b[0m \u001b[0mself\u001b[0m\u001b[1;33m.\u001b[0m\u001b[0m_validate_targets\u001b[0m\u001b[1;33m(\u001b[0m\u001b[0my\u001b[0m\u001b[1;33m)\u001b[0m\u001b[1;33m\u001b[0m\u001b[1;33m\u001b[0m\u001b[0m\n\u001b[0;32m    148\u001b[0m \u001b[1;33m\u001b[0m\u001b[0m\n",
      "\u001b[1;32mC:\\Anaconda\\lib\\site-packages\\sklearn\\utils\\validation.py\u001b[0m in \u001b[0;36mcheck_X_y\u001b[1;34m(X, y, accept_sparse, accept_large_sparse, dtype, order, copy, force_all_finite, ensure_2d, allow_nd, multi_output, ensure_min_samples, ensure_min_features, y_numeric, warn_on_dtype, estimator)\u001b[0m\n\u001b[0;32m    723\u001b[0m     \u001b[1;32melse\u001b[0m\u001b[1;33m:\u001b[0m\u001b[1;33m\u001b[0m\u001b[1;33m\u001b[0m\u001b[0m\n\u001b[0;32m    724\u001b[0m         \u001b[0my\u001b[0m \u001b[1;33m=\u001b[0m \u001b[0mcolumn_or_1d\u001b[0m\u001b[1;33m(\u001b[0m\u001b[0my\u001b[0m\u001b[1;33m,\u001b[0m \u001b[0mwarn\u001b[0m\u001b[1;33m=\u001b[0m\u001b[1;32mTrue\u001b[0m\u001b[1;33m)\u001b[0m\u001b[1;33m\u001b[0m\u001b[1;33m\u001b[0m\u001b[0m\n\u001b[1;32m--> 725\u001b[1;33m         \u001b[0m_assert_all_finite\u001b[0m\u001b[1;33m(\u001b[0m\u001b[0my\u001b[0m\u001b[1;33m)\u001b[0m\u001b[1;33m\u001b[0m\u001b[1;33m\u001b[0m\u001b[0m\n\u001b[0m\u001b[0;32m    726\u001b[0m     \u001b[1;32mif\u001b[0m \u001b[0my_numeric\u001b[0m \u001b[1;32mand\u001b[0m \u001b[0my\u001b[0m\u001b[1;33m.\u001b[0m\u001b[0mdtype\u001b[0m\u001b[1;33m.\u001b[0m\u001b[0mkind\u001b[0m \u001b[1;33m==\u001b[0m \u001b[1;34m'O'\u001b[0m\u001b[1;33m:\u001b[0m\u001b[1;33m\u001b[0m\u001b[1;33m\u001b[0m\u001b[0m\n\u001b[0;32m    727\u001b[0m         \u001b[0my\u001b[0m \u001b[1;33m=\u001b[0m \u001b[0my\u001b[0m\u001b[1;33m.\u001b[0m\u001b[0mastype\u001b[0m\u001b[1;33m(\u001b[0m\u001b[0mnp\u001b[0m\u001b[1;33m.\u001b[0m\u001b[0mfloat64\u001b[0m\u001b[1;33m)\u001b[0m\u001b[1;33m\u001b[0m\u001b[1;33m\u001b[0m\u001b[0m\n",
      "\u001b[1;32mC:\\Anaconda\\lib\\site-packages\\sklearn\\utils\\validation.py\u001b[0m in \u001b[0;36m_assert_all_finite\u001b[1;34m(X, allow_nan)\u001b[0m\n\u001b[0;32m     54\u001b[0m                 not allow_nan and not np.isfinite(X).all()):\n\u001b[0;32m     55\u001b[0m             \u001b[0mtype_err\u001b[0m \u001b[1;33m=\u001b[0m \u001b[1;34m'infinity'\u001b[0m \u001b[1;32mif\u001b[0m \u001b[0mallow_nan\u001b[0m \u001b[1;32melse\u001b[0m \u001b[1;34m'NaN, infinity'\u001b[0m\u001b[1;33m\u001b[0m\u001b[1;33m\u001b[0m\u001b[0m\n\u001b[1;32m---> 56\u001b[1;33m             \u001b[1;32mraise\u001b[0m \u001b[0mValueError\u001b[0m\u001b[1;33m(\u001b[0m\u001b[0mmsg_err\u001b[0m\u001b[1;33m.\u001b[0m\u001b[0mformat\u001b[0m\u001b[1;33m(\u001b[0m\u001b[0mtype_err\u001b[0m\u001b[1;33m,\u001b[0m \u001b[0mX\u001b[0m\u001b[1;33m.\u001b[0m\u001b[0mdtype\u001b[0m\u001b[1;33m)\u001b[0m\u001b[1;33m)\u001b[0m\u001b[1;33m\u001b[0m\u001b[1;33m\u001b[0m\u001b[0m\n\u001b[0m\u001b[0;32m     57\u001b[0m     \u001b[1;31m# for object dtype data, we only check for NaNs (GH-13254)\u001b[0m\u001b[1;33m\u001b[0m\u001b[1;33m\u001b[0m\u001b[1;33m\u001b[0m\u001b[0m\n\u001b[0;32m     58\u001b[0m     \u001b[1;32melif\u001b[0m \u001b[0mX\u001b[0m\u001b[1;33m.\u001b[0m\u001b[0mdtype\u001b[0m \u001b[1;33m==\u001b[0m \u001b[0mnp\u001b[0m\u001b[1;33m.\u001b[0m\u001b[0mdtype\u001b[0m\u001b[1;33m(\u001b[0m\u001b[1;34m'object'\u001b[0m\u001b[1;33m)\u001b[0m \u001b[1;32mand\u001b[0m \u001b[1;32mnot\u001b[0m \u001b[0mallow_nan\u001b[0m\u001b[1;33m:\u001b[0m\u001b[1;33m\u001b[0m\u001b[1;33m\u001b[0m\u001b[0m\n",
      "\u001b[1;31mValueError\u001b[0m: Input contains NaN, infinity or a value too large for dtype('float64')."
     ]
    }
   ],
   "source": [
    "from sklearn.model_selection import KFold\n",
    "\n",
    "# Train with stacking\n",
    "cv_base_learners, cv_meta_learner = stacking(\n",
    "    get_models(), clone(meta_learner), X_train, y_train, KFold(2))\n",
    "\n",
    "P_pred, p = ensemble_predict(cv_base_learners, cv_meta_learner, X_test, verbose=False)\n",
    "print(\"\\nEnsemble ROC-AUC score: %.3f\" % roc_auc_score(y_test, p))"
   ]
  },
  {
   "cell_type": "code",
   "execution_count": 248,
   "metadata": {},
   "outputs": [],
   "source": [
    "gb = GradientBoostingClassifier(learning_rate=0.1, n_estimators=100,max_depth=3, min_samples_split=2, min_samples_leaf=1, subsample=1,max_features='sqrt', random_state=10)"
   ]
  },
  {
   "cell_type": "code",
   "execution_count": 249,
   "metadata": {},
   "outputs": [
    {
     "data": {
      "text/plain": [
       "GradientBoostingClassifier(criterion='friedman_mse', init=None,\n",
       "                           learning_rate=0.1, loss='deviance', max_depth=3,\n",
       "                           max_features='sqrt', max_leaf_nodes=None,\n",
       "                           min_impurity_decrease=0.0, min_impurity_split=None,\n",
       "                           min_samples_leaf=1, min_samples_split=2,\n",
       "                           min_weight_fraction_leaf=0.0, n_estimators=100,\n",
       "                           n_iter_no_change=None, presort='auto',\n",
       "                           random_state=10, subsample=1, tol=0.0001,\n",
       "                           validation_fraction=0.1, verbose=0,\n",
       "                           warm_start=False)"
      ]
     },
     "execution_count": 249,
     "metadata": {},
     "output_type": "execute_result"
    }
   ],
   "source": [
    "gb.fit(X_train, y_train)"
   ]
  },
  {
   "cell_type": "code",
   "execution_count": 250,
   "metadata": {},
   "outputs": [],
   "source": [
    "y_pred = gb.predict(X_test)"
   ]
  },
  {
   "cell_type": "code",
   "execution_count": 251,
   "metadata": {},
   "outputs": [],
   "source": [
    "from sklearn.metrics import confusion_matrix\n",
    "cm = confusion_matrix(y_test, y_pred)\n"
   ]
  },
  {
   "cell_type": "code",
   "execution_count": 252,
   "metadata": {},
   "outputs": [
    {
     "data": {
      "text/plain": [
       "array([[2100,  115],\n",
       "       [ 407,  178]], dtype=int64)"
      ]
     },
     "execution_count": 252,
     "metadata": {},
     "output_type": "execute_result"
    }
   ],
   "source": [
    "cm"
   ]
  },
  {
   "cell_type": "code",
   "execution_count": 253,
   "metadata": {},
   "outputs": [
    {
     "name": "stdout",
     "output_type": "stream",
     "text": [
      "Accuracy :  81.36 %\n"
     ]
    }
   ],
   "source": [
    "numerator = cm[0][0] + cm[1][1]\n",
    "denominator = sum(cm[0]) + sum(cm[1])\n",
    "acc_svc = (numerator/denominator) * 100\n",
    "print(\"Accuracy : \",round(acc_svc,2),\"%\")\n"
   ]
  },
  {
   "cell_type": "code",
   "execution_count": 254,
   "metadata": {},
   "outputs": [
    {
     "name": "stdout",
     "output_type": "stream",
     "text": [
      "Cross Validation Accuracy :  81.64 %\n"
     ]
    }
   ],
   "source": [
    "\n",
    "from sklearn.model_selection import cross_val_score\n",
    "cross_val_svc = cross_val_score(estimator = gb, X = X_train, y = y_train, cv = 10, n_jobs = -1)\n",
    "print(\"Cross Validation Accuracy : \",round(cross_val_svc.mean() * 100 , 2),\"%\")\n"
   ]
  },
  {
   "cell_type": "code",
   "execution_count": 234,
   "metadata": {},
   "outputs": [
    {
     "data": {
      "text/plain": [
       "array([0, 0, 0, ..., 0, 0, 1], dtype=int64)"
      ]
     },
     "execution_count": 234,
     "metadata": {},
     "output_type": "execute_result"
    }
   ],
   "source": [
    "target "
   ]
  },
  {
   "cell_type": "code",
   "execution_count": 233,
   "metadata": {},
   "outputs": [],
   "source": [
    "target = gb.predict(test_final)"
   ]
  },
  {
   "cell_type": "code",
   "execution_count": 235,
   "metadata": {},
   "outputs": [],
   "source": [
    "\n",
    "\n",
    "submission = pd.DataFrame({'id': id2, 'Target': target})\n",
    "# you could use any filename. We choose submission here\n",
    "submission.to_csv('submission7.csv', index=False)\n",
    "\n"
   ]
  },
  {
   "cell_type": "code",
   "execution_count": 189,
   "metadata": {},
   "outputs": [],
   "source": [
    " nn = MLPClassifier((80, 10), early_stopping=False, random_state=seed)"
   ]
  },
  {
   "cell_type": "code",
   "execution_count": 190,
   "metadata": {},
   "outputs": [
    {
     "data": {
      "text/plain": [
       "MLPClassifier(activation='relu', alpha=0.0001, batch_size='auto', beta_1=0.9,\n",
       "              beta_2=0.999, early_stopping=False, epsilon=1e-08,\n",
       "              hidden_layer_sizes=(80, 10), learning_rate='constant',\n",
       "              learning_rate_init=0.001, max_iter=200, momentum=0.9,\n",
       "              n_iter_no_change=10, nesterovs_momentum=True, power_t=0.5,\n",
       "              random_state=222, shuffle=True, solver='adam', tol=0.0001,\n",
       "              validation_fraction=0.1, verbose=False, warm_start=False)"
      ]
     },
     "execution_count": 190,
     "metadata": {},
     "output_type": "execute_result"
    }
   ],
   "source": [
    "nn.fit(X_train, y_train)"
   ]
  },
  {
   "cell_type": "code",
   "execution_count": 191,
   "metadata": {},
   "outputs": [],
   "source": [
    "y_pred = nn.predict(X_test)"
   ]
  },
  {
   "cell_type": "code",
   "execution_count": 257,
   "metadata": {},
   "outputs": [],
   "source": [
    "from sklearn.metrics import classification_report\n",
    "from sklearn.model_selection import GridSearchCV"
   ]
  },
  {
   "cell_type": "code",
   "execution_count": 259,
   "metadata": {},
   "outputs": [
    {
     "data": {
      "text/plain": [
       "({'mean_fit_time': array([0.35631514, 0.96692929, 1.84723082, 2.74462342, 3.69908848,\n",
       "         4.628408  , 6.01680336, 7.08960123, 0.42443914, 0.99544792,\n",
       "         1.71316433, 2.77509217, 3.90049214, 5.07511811, 6.3278646 ,\n",
       "         7.4800972 , 0.43425417, 0.96665072, 2.00431471, 3.2570056 ,\n",
       "         3.89512854, 5.08934212, 7.31215038, 7.21412992, 0.43572316,\n",
       "         1.15110297, 2.27578783, 3.65146589, 4.65670114, 5.34040937,\n",
       "         6.53467784, 7.22069016, 0.47527652, 1.20425301, 2.13944674,\n",
       "         3.08979344, 4.19847641, 5.69922509, 6.58344507, 6.89836569,\n",
       "         0.40975571, 1.15269475, 2.34684968, 3.10569692, 4.363763  ,\n",
       "         5.10743289, 6.13424749, 7.66277609]),\n",
       "  'std_fit_time': array([0.0271752 , 0.06240404, 0.04924642, 0.05377408, 0.05809769,\n",
       "         0.10312342, 0.19560129, 0.20018655, 0.02562749, 0.05502442,\n",
       "         0.06406703, 0.06834675, 0.06124115, 0.11974083, 0.03416322,\n",
       "         0.30655464, 0.03186799, 0.04584381, 0.03928727, 0.1068818 ,\n",
       "         0.18112373, 0.28809058, 0.40292251, 0.38229074, 0.02221696,\n",
       "         0.01662127, 0.13640338, 0.47583393, 0.45319702, 0.24126701,\n",
       "         0.4068366 , 0.11939212, 0.02239144, 0.09772786, 0.08086226,\n",
       "         0.03544257, 0.08697456, 0.12030348, 0.41671237, 0.33386543,\n",
       "         0.02599962, 0.02717056, 0.22324069, 0.06165452, 0.18484218,\n",
       "         0.06724592, 0.24227857, 0.35273648]),\n",
       "  'mean_score_time': array([0.00398421, 0.01111765, 0.01814609, 0.03082361, 0.04198341,\n",
       "         0.05260162, 0.06469021, 0.07339015, 0.00482011, 0.01105008,\n",
       "         0.02140965, 0.03091078, 0.0419066 , 0.05547328, 0.0660295 ,\n",
       "         0.0791307 , 0.00349202, 0.01215611, 0.02070684, 0.03671842,\n",
       "         0.04069066, 0.05479026, 0.06640453, 0.07173181, 0.0082087 ,\n",
       "         0.01350594, 0.02376962, 0.04304557, 0.04401336, 0.05911288,\n",
       "         0.07042618, 0.07873688, 0.007657  , 0.01564226, 0.02738481,\n",
       "         0.03714504, 0.05172548, 0.06715579, 0.07013659, 0.08040476,\n",
       "         0.00598321, 0.0154511 , 0.02629132, 0.0382669 , 0.05265846,\n",
       "         0.0610024 , 0.07681432, 0.08500075]),\n",
       "  'std_score_time': array([0.00241447, 0.00113837, 0.00262603, 0.00355429, 0.00469977,\n",
       "         0.00628339, 0.00320228, 0.00416615, 0.00278206, 0.00297712,\n",
       "         0.00355522, 0.00351804, 0.00143507, 0.00743743, 0.00586103,\n",
       "         0.00731305, 0.00205722, 0.00161093, 0.00043527, 0.00343747,\n",
       "         0.00075553, 0.00513577, 0.0105645 , 0.00457031, 0.0022022 ,\n",
       "         0.0013422 , 0.00294102, 0.00228066, 0.00250964, 0.00444802,\n",
       "         0.00702317, 0.00607448, 0.00170677, 0.00348831, 0.00598748,\n",
       "         0.00490643, 0.00263526, 0.00616759, 0.00376254, 0.00727503,\n",
       "         0.00063128, 0.00140854, 0.00102871, 0.00099932, 0.00452572,\n",
       "         0.00138906, 0.00354345, 0.00880139]),\n",
       "  'param_learning_rate': masked_array(data=[0.15, 0.15, 0.15, 0.15, 0.15, 0.15, 0.15, 0.15, 0.1,\n",
       "                     0.1, 0.1, 0.1, 0.1, 0.1, 0.1, 0.1, 0.05, 0.05, 0.05,\n",
       "                     0.05, 0.05, 0.05, 0.05, 0.05, 0.01, 0.01, 0.01, 0.01,\n",
       "                     0.01, 0.01, 0.01, 0.01, 0.005, 0.005, 0.005, 0.005,\n",
       "                     0.005, 0.005, 0.005, 0.005, 0.001, 0.001, 0.001, 0.001,\n",
       "                     0.001, 0.001, 0.001, 0.001],\n",
       "               mask=[False, False, False, False, False, False, False, False,\n",
       "                     False, False, False, False, False, False, False, False,\n",
       "                     False, False, False, False, False, False, False, False,\n",
       "                     False, False, False, False, False, False, False, False,\n",
       "                     False, False, False, False, False, False, False, False,\n",
       "                     False, False, False, False, False, False, False, False],\n",
       "         fill_value='?',\n",
       "              dtype=object),\n",
       "  'param_n_estimators': masked_array(data=[100, 250, 500, 750, 1000, 1250, 1500, 1750, 100, 250,\n",
       "                     500, 750, 1000, 1250, 1500, 1750, 100, 250, 500, 750,\n",
       "                     1000, 1250, 1500, 1750, 100, 250, 500, 750, 1000, 1250,\n",
       "                     1500, 1750, 100, 250, 500, 750, 1000, 1250, 1500, 1750,\n",
       "                     100, 250, 500, 750, 1000, 1250, 1500, 1750],\n",
       "               mask=[False, False, False, False, False, False, False, False,\n",
       "                     False, False, False, False, False, False, False, False,\n",
       "                     False, False, False, False, False, False, False, False,\n",
       "                     False, False, False, False, False, False, False, False,\n",
       "                     False, False, False, False, False, False, False, False,\n",
       "                     False, False, False, False, False, False, False, False],\n",
       "         fill_value='?',\n",
       "              dtype=object),\n",
       "  'params': [{'learning_rate': 0.15, 'n_estimators': 100},\n",
       "   {'learning_rate': 0.15, 'n_estimators': 250},\n",
       "   {'learning_rate': 0.15, 'n_estimators': 500},\n",
       "   {'learning_rate': 0.15, 'n_estimators': 750},\n",
       "   {'learning_rate': 0.15, 'n_estimators': 1000},\n",
       "   {'learning_rate': 0.15, 'n_estimators': 1250},\n",
       "   {'learning_rate': 0.15, 'n_estimators': 1500},\n",
       "   {'learning_rate': 0.15, 'n_estimators': 1750},\n",
       "   {'learning_rate': 0.1, 'n_estimators': 100},\n",
       "   {'learning_rate': 0.1, 'n_estimators': 250},\n",
       "   {'learning_rate': 0.1, 'n_estimators': 500},\n",
       "   {'learning_rate': 0.1, 'n_estimators': 750},\n",
       "   {'learning_rate': 0.1, 'n_estimators': 1000},\n",
       "   {'learning_rate': 0.1, 'n_estimators': 1250},\n",
       "   {'learning_rate': 0.1, 'n_estimators': 1500},\n",
       "   {'learning_rate': 0.1, 'n_estimators': 1750},\n",
       "   {'learning_rate': 0.05, 'n_estimators': 100},\n",
       "   {'learning_rate': 0.05, 'n_estimators': 250},\n",
       "   {'learning_rate': 0.05, 'n_estimators': 500},\n",
       "   {'learning_rate': 0.05, 'n_estimators': 750},\n",
       "   {'learning_rate': 0.05, 'n_estimators': 1000},\n",
       "   {'learning_rate': 0.05, 'n_estimators': 1250},\n",
       "   {'learning_rate': 0.05, 'n_estimators': 1500},\n",
       "   {'learning_rate': 0.05, 'n_estimators': 1750},\n",
       "   {'learning_rate': 0.01, 'n_estimators': 100},\n",
       "   {'learning_rate': 0.01, 'n_estimators': 250},\n",
       "   {'learning_rate': 0.01, 'n_estimators': 500},\n",
       "   {'learning_rate': 0.01, 'n_estimators': 750},\n",
       "   {'learning_rate': 0.01, 'n_estimators': 1000},\n",
       "   {'learning_rate': 0.01, 'n_estimators': 1250},\n",
       "   {'learning_rate': 0.01, 'n_estimators': 1500},\n",
       "   {'learning_rate': 0.01, 'n_estimators': 1750},\n",
       "   {'learning_rate': 0.005, 'n_estimators': 100},\n",
       "   {'learning_rate': 0.005, 'n_estimators': 250},\n",
       "   {'learning_rate': 0.005, 'n_estimators': 500},\n",
       "   {'learning_rate': 0.005, 'n_estimators': 750},\n",
       "   {'learning_rate': 0.005, 'n_estimators': 1000},\n",
       "   {'learning_rate': 0.005, 'n_estimators': 1250},\n",
       "   {'learning_rate': 0.005, 'n_estimators': 1500},\n",
       "   {'learning_rate': 0.005, 'n_estimators': 1750},\n",
       "   {'learning_rate': 0.001, 'n_estimators': 100},\n",
       "   {'learning_rate': 0.001, 'n_estimators': 250},\n",
       "   {'learning_rate': 0.001, 'n_estimators': 500},\n",
       "   {'learning_rate': 0.001, 'n_estimators': 750},\n",
       "   {'learning_rate': 0.001, 'n_estimators': 1000},\n",
       "   {'learning_rate': 0.001, 'n_estimators': 1250},\n",
       "   {'learning_rate': 0.001, 'n_estimators': 1500},\n",
       "   {'learning_rate': 0.001, 'n_estimators': 1750}],\n",
       "  'split0_test_score': array([0.81927711, 0.81436859, 0.80633646, 0.80276662, 0.80053548,\n",
       "         0.79473449, 0.79696564, 0.79339581, 0.81793842, 0.81436859,\n",
       "         0.80812137, 0.80901383, 0.80722892, 0.8009817 , 0.79741187,\n",
       "         0.79518072, 0.81883088, 0.81927711, 0.81749219, 0.81793842,\n",
       "         0.81347613, 0.81035252, 0.80722892, 0.80589023, 0.80767515,\n",
       "         0.81838465, 0.81927711, 0.81927711, 0.81883088, 0.81749219,\n",
       "         0.81793842, 0.81749219, 0.77822401, 0.81526104, 0.81883088,\n",
       "         0.81838465, 0.81883088, 0.81927711, 0.81927711, 0.81838465,\n",
       "         0.77822401, 0.77822401, 0.77822401, 0.77867024, 0.80410531,\n",
       "         0.81481481, 0.81883088, 0.81883088]),\n",
       "  'split1_test_score': array([0.81205357, 0.80625   , 0.803125  , 0.79464286, 0.79151786,\n",
       "         0.79017857, 0.79285714, 0.78928571, 0.81428571, 0.8125    ,\n",
       "         0.81026786, 0.80446429, 0.79866071, 0.79821429, 0.79508929,\n",
       "         0.79419643, 0.81741071, 0.81205357, 0.80982143, 0.80892857,\n",
       "         0.81026786, 0.80982143, 0.80535714, 0.80223214, 0.80580357,\n",
       "         0.81473214, 0.81383929, 0.81517857, 0.81473214, 0.81383929,\n",
       "         0.81116071, 0.81071429, 0.77857143, 0.81383929, 0.81428571,\n",
       "         0.81517857, 0.81473214, 0.81607143, 0.815625  , 0.815625  ,\n",
       "         0.77857143, 0.77857143, 0.77857143, 0.77991071, 0.80223214,\n",
       "         0.81383929, 0.81383929, 0.81383929]),\n",
       "  'split2_test_score': array([0.8125    , 0.80892857, 0.80133929, 0.79285714, 0.78973214,\n",
       "         0.78705357, 0.78303571, 0.78035714, 0.81517857, 0.80982143,\n",
       "         0.80267857, 0.80401786, 0.79821429, 0.79955357, 0.79910714,\n",
       "         0.79375   , 0.81741071, 0.815625  , 0.81071429, 0.80892857,\n",
       "         0.80892857, 0.80625   , 0.803125  , 0.79955357, 0.79642857,\n",
       "         0.815625  , 0.81651786, 0.81607143, 0.81517857, 0.815625  ,\n",
       "         0.81383929, 0.81517857, 0.77857143, 0.81205357, 0.815625  ,\n",
       "         0.81651786, 0.81696429, 0.815625  , 0.81517857, 0.81517857,\n",
       "         0.77857143, 0.77857143, 0.77857143, 0.78080357, 0.79508929,\n",
       "         0.8125    , 0.8125    , 0.81339286]),\n",
       "  'split3_test_score': array([0.8125    , 0.80491071, 0.79732143, 0.79598214, 0.79553571,\n",
       "         0.79508929, 0.79464286, 0.79196429, 0.81339286, 0.80669643,\n",
       "         0.80401786, 0.79866071, 0.79732143, 0.79821429, 0.796875  ,\n",
       "         0.79598214, 0.81517857, 0.81160714, 0.81071429, 0.80848214,\n",
       "         0.80491071, 0.80089286, 0.79910714, 0.80178571, 0.79776786,\n",
       "         0.81741071, 0.81741071, 0.81696429, 0.81517857, 0.81428571,\n",
       "         0.81383929, 0.81294643, 0.77857143, 0.81294643, 0.81696429,\n",
       "         0.81607143, 0.81741071, 0.81651786, 0.81607143, 0.81607143,\n",
       "         0.77857143, 0.77857143, 0.77857143, 0.78080357, 0.79464286,\n",
       "         0.81339286, 0.81607143, 0.81651786]),\n",
       "  'split4_test_score': array([0.82179544, 0.81688254, 0.80169719, 0.80080393, 0.79723091,\n",
       "         0.79008486, 0.78472532, 0.78383207, 0.81866905, 0.81509603,\n",
       "         0.80973649, 0.80482358, 0.80259044, 0.80169719, 0.79767753,\n",
       "         0.79857079, 0.8195623 , 0.81911568, 0.81911568, 0.81375614,\n",
       "         0.81330951, 0.81241626, 0.80928986, 0.8034837 , 0.80169719,\n",
       "         0.81822242, 0.82134882, 0.82090219, 0.82134882, 0.82313533,\n",
       "         0.82134882, 0.82045556, 0.77847253, 0.81643591, 0.81911568,\n",
       "         0.8195623 , 0.82134882, 0.82090219, 0.82045556, 0.82134882,\n",
       "         0.77847253, 0.77847253, 0.77847253, 0.78159893, 0.80482358,\n",
       "         0.8146494 , 0.81866905, 0.81866905]),\n",
       "  'mean_test_score': array([0.81562522, 0.81026808, 0.80196387, 0.79741054, 0.79491042,\n",
       "         0.79142816, 0.79044534, 0.787767  , 0.81589292, 0.81169649,\n",
       "         0.80696443, 0.80419605, 0.80080316, 0.79973221, 0.79723217,\n",
       "         0.79553602, 0.81767864, 0.8155357 , 0.81357157, 0.81160677,\n",
       "         0.81017856, 0.80794661, 0.80482161, 0.80258907, 0.80187447,\n",
       "         0.81687499, 0.81767876, 0.81767872, 0.8170538 , 0.8168755 ,\n",
       "         0.8156253 , 0.81535741, 0.77848217, 0.81410725, 0.81696431,\n",
       "         0.81714296, 0.81785737, 0.81767872, 0.81732153, 0.81732169,\n",
       "         0.77848217, 0.77848217, 0.77848217, 0.7803574 , 0.80017864,\n",
       "         0.81383927, 0.81598213, 0.81624999]),\n",
       "  'std_test_score': array([0.00409142, 0.00463046, 0.00291483, 0.00375863, 0.00389207,\n",
       "         0.00306067, 0.00554205, 0.00493957, 0.00206081, 0.00309383,\n",
       "         0.0030655 , 0.00329692, 0.00368509, 0.00141862, 0.00130121,\n",
       "         0.00170408, 0.00150132, 0.00329791, 0.00391152, 0.00370994,\n",
       "         0.0031622 , 0.00404759, 0.00350944, 0.00208255, 0.00437354,\n",
       "         0.00145161, 0.00253713, 0.0021114 , 0.00260876, 0.00337802,\n",
       "         0.00358947, 0.00340446, 0.00013464, 0.00157422, 0.0018483 ,\n",
       "         0.00159955, 0.00218642, 0.00205399, 0.00212977, 0.00229706,\n",
       "         0.00013464, 0.00013464, 0.00013464, 0.00099856, 0.00442171,\n",
       "         0.00084864, 0.00253219, 0.00230475]),\n",
       "  'rank_test_score': array([17, 25, 32, 37, 40, 41, 42, 43, 15, 23, 28, 30, 34, 36, 38, 39,  5,\n",
       "         18, 22, 24, 26, 27, 29, 31, 33, 12,  2,  3,  9, 11, 16, 19, 45, 20,\n",
       "         10,  8,  1,  3,  7,  6, 45, 45, 45, 44, 35, 21, 14, 13])},\n",
       " {'learning_rate': 0.005, 'n_estimators': 1000},\n",
       " 0.8178573676729789)"
      ]
     },
     "execution_count": 259,
     "metadata": {},
     "output_type": "execute_result"
    }
   ],
   "source": [
    "    p_test3 = {'learning_rate':[0.15,0.1,0.05,0.01,0.005,0.001], 'n_estimators':[100,250,500,750,1000,1250,1500,1750]}\n",
    "\n",
    "tuning = GridSearchCV(estimator =GradientBoostingClassifier(max_depth=4, min_samples_split=2, min_samples_leaf=1, subsample=1,max_features='sqrt', random_state=10), \n",
    "            param_grid = p_test3, scoring='accuracy',n_jobs=4,iid=False, cv=5)\n",
    "tuning.fit(X_train,y_train)\n",
    "tuning.cv_results_, tuning.best_params_, tuning.best_score_"
   ]
  },
  {
   "cell_type": "code",
   "execution_count": 260,
   "metadata": {},
   "outputs": [
    {
     "data": {
      "text/plain": [
       "({'mean_fit_time': array([ 3.0699264 ,  4.37779579,  5.88857799,  7.55126648, 11.46889386,\n",
       "         15.26833544]),\n",
       "  'std_fit_time': array([0.05881158, 0.11830625, 0.20099168, 0.30917205, 0.39575353,\n",
       "         1.54456042]),\n",
       "  'mean_score_time': array([0.03183017, 0.0510767 , 0.06124821, 0.07858996, 0.10629878,\n",
       "         0.11945477]),\n",
       "  'std_score_time': array([0.00125582, 0.00585189, 0.00448449, 0.00539447, 0.00789594,\n",
       "         0.00491984]),\n",
       "  'param_max_depth': masked_array(data=[2, 3, 4, 5, 6, 7],\n",
       "               mask=[False, False, False, False, False, False],\n",
       "         fill_value='?',\n",
       "              dtype=object),\n",
       "  'params': [{'max_depth': 2},\n",
       "   {'max_depth': 3},\n",
       "   {'max_depth': 4},\n",
       "   {'max_depth': 5},\n",
       "   {'max_depth': 6},\n",
       "   {'max_depth': 7}],\n",
       "  'split0_test_score': array([0.81749219, 0.81972334, 0.81793842, 0.8206158 , 0.81838465,\n",
       "         0.81570727]),\n",
       "  'split1_test_score': array([0.815625  , 0.81517857, 0.81116071, 0.81071429, 0.80714286,\n",
       "         0.80803571]),\n",
       "  'split2_test_score': array([0.81785714, 0.81830357, 0.81383929, 0.809375  , 0.80758929,\n",
       "         0.80803571]),\n",
       "  'split3_test_score': array([0.81741071, 0.81607143, 0.81383929, 0.80848214, 0.80535714,\n",
       "         0.80669643]),\n",
       "  'split4_test_score': array([0.8195623 , 0.81866905, 0.82134882, 0.81509603, 0.81241626,\n",
       "         0.81196963]),\n",
       "  'mean_test_score': array([0.81758947, 0.81758919, 0.8156253 , 0.81285665, 0.81017804,\n",
       "         0.81008895]),\n",
       "  'std_test_score': array([0.00125414, 0.00169385, 0.00358947, 0.00449593, 0.00472256,\n",
       "         0.00331793]),\n",
       "  'rank_test_score': array([1, 2, 3, 4, 5, 6])},\n",
       " {'max_depth': 2},\n",
       " 0.8175894705458585)"
      ]
     },
     "execution_count": 260,
     "metadata": {},
     "output_type": "execute_result"
    }
   ],
   "source": [
    "p_test2 = {'max_depth':[2,3,4,5,6,7] }\n",
    "tuning = GridSearchCV(estimator =GradientBoostingClassifier(learning_rate=0.01,n_estimators=1500, min_samples_split=2, min_samples_leaf=1, subsample=1,max_features='sqrt', random_state=10), \n",
    "            param_grid = p_test2, scoring='accuracy',n_jobs=4,iid=False, cv=5)\n",
    "tuning.fit(X_train,y_train)\n",
    "tuning.cv_results_, tuning.best_params_, tuning.best_score_"
   ]
  },
  {
   "cell_type": "code",
   "execution_count": 261,
   "metadata": {},
   "outputs": [],
   "source": [
    "gb = GradientBoostingClassifier(learning_rate=0.005, n_estimators=1000,max_depth=2, min_samples_split=100, min_samples_leaf=7, subsample=1,max_features='sqrt', random_state=10)"
   ]
  },
  {
   "cell_type": "code",
   "execution_count": 313,
   "metadata": {},
   "outputs": [],
   "source": [
    "gb = GradientBoostingClassifier(learning_rate=0.005, n_estimators=1000,max_depth=2, min_samples_split=2, min_samples_leaf=9, subsample=1,max_features=3, random_state=10)"
   ]
  },
  {
   "cell_type": "code",
   "execution_count": 314,
   "metadata": {},
   "outputs": [
    {
     "data": {
      "text/plain": [
       "GradientBoostingClassifier(criterion='friedman_mse', init=None,\n",
       "                           learning_rate=0.005, loss='deviance', max_depth=2,\n",
       "                           max_features=3, max_leaf_nodes=None,\n",
       "                           min_impurity_decrease=0.0, min_impurity_split=None,\n",
       "                           min_samples_leaf=9, min_samples_split=2,\n",
       "                           min_weight_fraction_leaf=0.0, n_estimators=1000,\n",
       "                           n_iter_no_change=None, presort='auto',\n",
       "                           random_state=10, subsample=1, tol=0.0001,\n",
       "                           validation_fraction=0.1, verbose=0,\n",
       "                           warm_start=False)"
      ]
     },
     "execution_count": 314,
     "metadata": {},
     "output_type": "execute_result"
    }
   ],
   "source": [
    "gb.fit(X_train, y_train)\n"
   ]
  },
  {
   "cell_type": "code",
   "execution_count": 315,
   "metadata": {},
   "outputs": [
    {
     "name": "stdout",
     "output_type": "stream",
     "text": [
      "Accuracy :  81.46 %\n",
      "Cross Validation Accuracy :  81.77 %\n"
     ]
    }
   ],
   "source": [
    "y_pred = gb.predict(X_test)\n",
    "\n",
    "\n",
    "from sklearn.metrics import confusion_matrix\n",
    "cm = confusion_matrix(y_test, y_pred)\n",
    "\n",
    "\n",
    "\n",
    "numerator = cm[0][0] + cm[1][1]\n",
    "denominator = sum(cm[0]) + sum(cm[1])\n",
    "acc_svc = (numerator/denominator) * 100\n",
    "print(\"Accuracy : \",round(acc_svc,2),\"%\")\n",
    "\n",
    "\n",
    "from sklearn.model_selection import cross_val_score\n",
    "cross_val_svc = cross_val_score(estimator = gb, X = X_train, y = y_train, cv = 10, n_jobs = -1)\n",
    "print(\"Cross Validation Accuracy : \",round(cross_val_svc.mean() * 100 , 2),\"%\")\n",
    "\n"
   ]
  },
  {
   "cell_type": "code",
   "execution_count": 316,
   "metadata": {},
   "outputs": [],
   "source": [
    "target = gb.predict(x_test)"
   ]
  },
  {
   "cell_type": "code",
   "execution_count": 317,
   "metadata": {},
   "outputs": [],
   "source": [
    "\n",
    "submission = pd.DataFrame({'id': id2, 'Target': target})\n",
    "# you could use any filename. We choose submission here\n",
    "submission.to_csv('submission10.csv', index=False)\n"
   ]
  },
  {
   "cell_type": "code",
   "execution_count": null,
   "metadata": {},
   "outputs": [],
   "source": []
  }
 ],
 "metadata": {
  "kernelspec": {
   "display_name": "Python 3",
   "language": "python",
   "name": "python3"
  },
  "language_info": {
   "codemirror_mode": {
    "name": "ipython",
    "version": 3
   },
   "file_extension": ".py",
   "mimetype": "text/x-python",
   "name": "python",
   "nbconvert_exporter": "python",
   "pygments_lexer": "ipython3",
   "version": "3.7.5"
  }
 },
 "nbformat": 4,
 "nbformat_minor": 4
}
